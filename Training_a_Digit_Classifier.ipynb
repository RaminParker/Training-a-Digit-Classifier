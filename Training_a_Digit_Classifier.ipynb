{
  "nbformat": 4,
  "nbformat_minor": 0,
  "metadata": {
    "colab": {
      "name": "Training a Digit Classifier",
      "provenance": [],
      "collapsed_sections": [],
      "toc_visible": true,
      "authorship_tag": "ABX9TyMp7gDAHhmdz/+v4SX4GRUe",
      "include_colab_link": true
    },
    "kernelspec": {
      "name": "python3",
      "display_name": "Python 3"
    },
    "accelerator": "GPU"
  },
  "cells": [
    {
      "cell_type": "markdown",
      "metadata": {
        "id": "view-in-github",
        "colab_type": "text"
      },
      "source": [
        "<a href=\"https://colab.research.google.com/github/RaminParker/Training-a-Digit-Classifier/blob/main/Training_a_Digit_Classifier.ipynb\" target=\"_parent\"><img src=\"https://colab.research.google.com/assets/colab-badge.svg\" alt=\"Open In Colab\"/></a>"
      ]
    },
    {
      "cell_type": "markdown",
      "metadata": {
        "id": "iF8IOuVGFkfJ"
      },
      "source": [
        "# Training a Digit Classifier"
      ]
    },
    {
      "cell_type": "markdown",
      "metadata": {
        "id": "9ImQQZteE4tP"
      },
      "source": [
        "**Note:** \r\n",
        "- This is a *Google Colab* notebook!"
      ]
    },
    {
      "cell_type": "markdown",
      "metadata": {
        "id": "KwrbRu6ghj4v"
      },
      "source": [
        "**GPU:**\n",
        "\n",
        "- Switch on the GPU accelerator for the notebook: clicking ``Runtime`` > ``Change runtime type`` > Select ``GPU`` for Hardware Accelerator."
      ]
    },
    {
      "cell_type": "markdown",
      "metadata": {
        "id": "8WSG6oA4Fh5y"
      },
      "source": [
        "# Import"
      ]
    },
    {
      "cell_type": "code",
      "metadata": {
        "id": "WzNVAqxw__0F",
        "colab": {
          "base_uri": "https://localhost:8080/"
        },
        "outputId": "79704f28-b142-4ae6-b2c5-0ba39469b166"
      },
      "source": [
        "! [ -e /content ] && pip install -Uqq fastai  # upgrade fastai on colab"
      ],
      "execution_count": 1,
      "outputs": [
        {
          "output_type": "stream",
          "text": [
            "\u001b[K     |████████████████████████████████| 194kB 14.2MB/s \n",
            "\u001b[K     |████████████████████████████████| 61kB 10.1MB/s \n",
            "\u001b[?25h"
          ],
          "name": "stdout"
        }
      ]
    },
    {
      "cell_type": "code",
      "metadata": {
        "id": "_ZoxFiZZgPy4"
      },
      "source": [
        "#from fastai.vision import * \r\n",
        "from fastai.vision.all import *"
      ],
      "execution_count": 2,
      "outputs": []
    },
    {
      "cell_type": "markdown",
      "metadata": {
        "id": "1t4PNta9Ea93"
      },
      "source": [
        "Download MNIST data set"
      ]
    },
    {
      "cell_type": "code",
      "metadata": {
        "id": "zXd1_-yEfrZl",
        "colab": {
          "base_uri": "https://localhost:8080/",
          "height": 17
        },
        "outputId": "9540c4b0-15d2-44be-be43-3ad518ac4f58"
      },
      "source": [
        "path = untar_data(URLs.MNIST_SAMPLE)"
      ],
      "execution_count": 3,
      "outputs": [
        {
          "output_type": "display_data",
          "data": {
            "text/html": [
              ""
            ],
            "text/plain": [
              "<IPython.core.display.HTML object>"
            ]
          },
          "metadata": {
            "tags": []
          }
        }
      ]
    },
    {
      "cell_type": "markdown",
      "metadata": {
        "id": "crhCy4SqGBfm"
      },
      "source": [
        "Count number of items and list them:"
      ]
    },
    {
      "cell_type": "code",
      "metadata": {
        "colab": {
          "base_uri": "https://localhost:8080/"
        },
        "id": "QcTZt1kaD7T7",
        "outputId": "c6998869-84e1-411c-a2f6-18a2ce0c3904"
      },
      "source": [
        "path.ls()"
      ],
      "execution_count": 4,
      "outputs": [
        {
          "output_type": "execute_result",
          "data": {
            "text/plain": [
              "(#3) [Path('/root/.fastai/data/mnist_sample/labels.csv'),Path('/root/.fastai/data/mnist_sample/train'),Path('/root/.fastai/data/mnist_sample/valid')]"
            ]
          },
          "metadata": {
            "tags": []
          },
          "execution_count": 4
        }
      ]
    },
    {
      "cell_type": "markdown",
      "metadata": {
        "id": "7k0g4GnLGaLC"
      },
      "source": [
        "Check out what's in folder ``train``."
      ]
    },
    {
      "cell_type": "code",
      "metadata": {
        "colab": {
          "base_uri": "https://localhost:8080/"
        },
        "id": "Ko8dhj7TEo65",
        "outputId": "e18450a7-f69b-4788-dc4e-8c5983aa26d9"
      },
      "source": [
        "(path/'train').ls()"
      ],
      "execution_count": 5,
      "outputs": [
        {
          "output_type": "execute_result",
          "data": {
            "text/plain": [
              "(#2) [Path('/root/.fastai/data/mnist_sample/train/3'),Path('/root/.fastai/data/mnist_sample/train/7')]"
            ]
          },
          "metadata": {
            "tags": []
          },
          "execution_count": 5
        }
      ]
    },
    {
      "cell_type": "markdown",
      "metadata": {
        "id": "fW1EwLEhGlIS"
      },
      "source": [
        "There is a folder of 3s, and there is a folder of 7s. Let's look inside:"
      ]
    },
    {
      "cell_type": "code",
      "metadata": {
        "colab": {
          "base_uri": "https://localhost:8080/"
        },
        "id": "1ExD0cyKGU9j",
        "outputId": "22708684-a999-4d7b-9e1d-fb747c2ca1e0"
      },
      "source": [
        "threes = (path/'train'/'3').ls().sorted()\r\n",
        "sevens = (path/'train'/'7').ls().sorted()\r\n",
        "threes"
      ],
      "execution_count": 6,
      "outputs": [
        {
          "output_type": "execute_result",
          "data": {
            "text/plain": [
              "(#6131) [Path('/root/.fastai/data/mnist_sample/train/3/10.png'),Path('/root/.fastai/data/mnist_sample/train/3/10000.png'),Path('/root/.fastai/data/mnist_sample/train/3/10011.png'),Path('/root/.fastai/data/mnist_sample/train/3/10031.png'),Path('/root/.fastai/data/mnist_sample/train/3/10034.png'),Path('/root/.fastai/data/mnist_sample/train/3/10042.png'),Path('/root/.fastai/data/mnist_sample/train/3/10052.png'),Path('/root/.fastai/data/mnist_sample/train/3/1007.png'),Path('/root/.fastai/data/mnist_sample/train/3/10074.png'),Path('/root/.fastai/data/mnist_sample/train/3/10091.png')...]"
            ]
          },
          "metadata": {
            "tags": []
          },
          "execution_count": 6
        }
      ]
    },
    {
      "cell_type": "markdown",
      "metadata": {
        "id": "Riyu9CxpHnoe"
      },
      "source": [
        "Show one of the images:"
      ]
    },
    {
      "cell_type": "code",
      "metadata": {
        "colab": {
          "base_uri": "https://localhost:8080/",
          "height": 45
        },
        "id": "7YpOufyKG-3w",
        "outputId": "e9b6ba06-63a9-4721-f2fa-8bda5068fcba"
      },
      "source": [
        "im3_path = threes[1]\r\n",
        "im3 = Image.open(im3_path)\r\n",
        "im3"
      ],
      "execution_count": 7,
      "outputs": [
        {
          "output_type": "execute_result",
          "data": {
            "image/png": "[encoded data removed]",
            "text/plain": [
              "<PIL.PngImagePlugin.PngImageFile image mode=L size=28x28 at 0x7F028C9D9D30>"
            ]
          },
          "metadata": {
            "tags": []
          },
          "execution_count": 7
        }
      ]
    },
    {
      "cell_type": "markdown",
      "metadata": {
        "id": "t3J-jq1AOSsr"
      },
      "source": [
        "Image to numpy array:"
      ]
    },
    {
      "cell_type": "code",
      "metadata": {
        "id": "OnNwUmaUPCIU"
      },
      "source": [
        "row_start = 4\r\n",
        "row_end = 10\r\n",
        "\r\n",
        "col_start = 4\r\n",
        "col_end = 10"
      ],
      "execution_count": 8,
      "outputs": []
    },
    {
      "cell_type": "code",
      "metadata": {
        "colab": {
          "base_uri": "https://localhost:8080/"
        },
        "id": "IDp9DoGeHksw",
        "outputId": "d9e2cd55-39fa-423e-ca6c-a2bf45849f0e"
      },
      "source": [
        "array(im3)[row_start:row_end,col_start:col_end]"
      ],
      "execution_count": 9,
      "outputs": [
        {
          "output_type": "execute_result",
          "data": {
            "text/plain": [
              "array([[  0,   0,   0,   0,   0,   0],\n",
              "       [  0,   0,   0,   0,   0,  29],\n",
              "       [  0,   0,   0,  48, 166, 224],\n",
              "       [  0,  93, 244, 249, 253, 187],\n",
              "       [  0, 107, 253, 253, 230,  48],\n",
              "       [  0,   3,  20,  20,  15,   0]], dtype=uint8)"
            ]
          },
          "metadata": {
            "tags": []
          },
          "execution_count": 9
        }
      ]
    },
    {
      "cell_type": "markdown",
      "metadata": {
        "id": "qjZlkMzMPJgY"
      },
      "source": [
        "Image to PyTorch tensor:"
      ]
    },
    {
      "cell_type": "code",
      "metadata": {
        "colab": {
          "base_uri": "https://localhost:8080/"
        },
        "id": "q3Vbo3mmOYSY",
        "outputId": "64af696a-07f9-4cde-e494-db7e3371a71e"
      },
      "source": [
        "tensor(im3)[row_start:row_end,col_start:col_end]"
      ],
      "execution_count": 10,
      "outputs": [
        {
          "output_type": "execute_result",
          "data": {
            "text/plain": [
              "tensor([[  0,   0,   0,   0,   0,   0],\n",
              "        [  0,   0,   0,   0,   0,  29],\n",
              "        [  0,   0,   0,  48, 166, 224],\n",
              "        [  0,  93, 244, 249, 253, 187],\n",
              "        [  0, 107, 253, 253, 230,  48],\n",
              "        [  0,   3,  20,  20,  15,   0]], dtype=torch.uint8)"
            ]
          },
          "metadata": {
            "tags": []
          },
          "execution_count": 10
        }
      ]
    },
    {
      "cell_type": "markdown",
      "metadata": {
        "id": "Umwmb9hpPbZ3"
      },
      "source": [
        "Use pandas df to color-code the values:"
      ]
    },
    {
      "cell_type": "code",
      "metadata": {
        "colab": {
          "base_uri": "https://localhost:8080/",
          "height": 255
        },
        "id": "ayMtwBQrPOz5",
        "outputId": "d0423bc0-3a2b-44fb-e9fb-ce7d1ec06ac6"
      },
      "source": [
        "row_start = 4\r\n",
        "row_end = 15\r\n",
        "\r\n",
        "col_start = 4\r\n",
        "col_end = 22\r\n",
        "\r\n",
        "im3_t = tensor(im3)\r\n",
        "df = pd.DataFrame(im3_t[row_start:row_end,col_start:col_end])\r\n",
        "df.style.set_properties(**{'font-size': '6pt'}).background_gradient('Greys')"
      ],
      "execution_count": 11,
      "outputs": [
        {
          "output_type": "execute_result",
          "data": {
            "text/html": [
              "<style  type=\"text/css\" >\n",
              "#T_2ee1b916_4c3c_11eb_a5c0_0242ac1c0002row0_col0,#T_2ee1b916_4c3c_11eb_a5c0_0242ac1c0002row0_col1,#T_2ee1b916_4c3c_11eb_a5c0_0242ac1c0002row0_col2,#T_2ee1b916_4c3c_11eb_a5c0_0242ac1c0002row0_col3,#T_2ee1b916_4c3c_11eb_a5c0_0242ac1c0002row0_col4,#T_2ee1b916_4c3c_11eb_a5c0_0242ac1c0002row0_col5,#T_2ee1b916_4c3c_11eb_a5c0_0242ac1c0002row0_col6,#T_2ee1b916_4c3c_11eb_a5c0_0242ac1c0002row0_col7,#T_2ee1b916_4c3c_11eb_a5c0_0242ac1c0002row0_col8,#T_2ee1b916_4c3c_11eb_a5c0_0242ac1c0002row0_col9,#T_2ee1b916_4c3c_11eb_a5c0_0242ac1c0002row0_col10,#T_2ee1b916_4c3c_11eb_a5c0_0242ac1c0002row0_col11,#T_2ee1b916_4c3c_11eb_a5c0_0242ac1c0002row0_col12,#T_2ee1b916_4c3c_11eb_a5c0_0242ac1c0002row0_col13,#T_2ee1b916_4c3c_11eb_a5c0_0242ac1c0002row0_col14,#T_2ee1b916_4c3c_11eb_a5c0_0242ac1c0002row0_col15,#T_2ee1b916_4c3c_11eb_a5c0_0242ac1c0002row0_col16,#T_2ee1b916_4c3c_11eb_a5c0_0242ac1c0002row0_col17,#T_2ee1b916_4c3c_11eb_a5c0_0242ac1c0002row1_col0,#T_2ee1b916_4c3c_11eb_a5c0_0242ac1c0002row1_col1,#T_2ee1b916_4c3c_11eb_a5c0_0242ac1c0002row1_col2,#T_2ee1b916_4c3c_11eb_a5c0_0242ac1c0002row1_col3,#T_2ee1b916_4c3c_11eb_a5c0_0242ac1c0002row1_col4,#T_2ee1b916_4c3c_11eb_a5c0_0242ac1c0002row1_col15,#T_2ee1b916_4c3c_11eb_a5c0_0242ac1c0002row1_col16,#T_2ee1b916_4c3c_11eb_a5c0_0242ac1c0002row1_col17,#T_2ee1b916_4c3c_11eb_a5c0_0242ac1c0002row2_col0,#T_2ee1b916_4c3c_11eb_a5c0_0242ac1c0002row2_col1,#T_2ee1b916_4c3c_11eb_a5c0_0242ac1c0002row2_col2,#T_2ee1b916_4c3c_11eb_a5c0_0242ac1c0002row2_col15,#T_2ee1b916_4c3c_11eb_a5c0_0242ac1c0002row2_col16,#T_2ee1b916_4c3c_11eb_a5c0_0242ac1c0002row2_col17,#T_2ee1b916_4c3c_11eb_a5c0_0242ac1c0002row3_col0,#T_2ee1b916_4c3c_11eb_a5c0_0242ac1c0002row3_col15,#T_2ee1b916_4c3c_11eb_a5c0_0242ac1c0002row3_col16,#T_2ee1b916_4c3c_11eb_a5c0_0242ac1c0002row3_col17,#T_2ee1b916_4c3c_11eb_a5c0_0242ac1c0002row4_col0,#T_2ee1b916_4c3c_11eb_a5c0_0242ac1c0002row4_col6,#T_2ee1b916_4c3c_11eb_a5c0_0242ac1c0002row4_col7,#T_2ee1b916_4c3c_11eb_a5c0_0242ac1c0002row4_col8,#T_2ee1b916_4c3c_11eb_a5c0_0242ac1c0002row4_col9,#T_2ee1b916_4c3c_11eb_a5c0_0242ac1c0002row4_col10,#T_2ee1b916_4c3c_11eb_a5c0_0242ac1c0002row4_col15,#T_2ee1b916_4c3c_11eb_a5c0_0242ac1c0002row4_col16,#T_2ee1b916_4c3c_11eb_a5c0_0242ac1c0002row4_col17,#T_2ee1b916_4c3c_11eb_a5c0_0242ac1c0002row5_col0,#T_2ee1b916_4c3c_11eb_a5c0_0242ac1c0002row5_col5,#T_2ee1b916_4c3c_11eb_a5c0_0242ac1c0002row5_col6,#T_2ee1b916_4c3c_11eb_a5c0_0242ac1c0002row5_col7,#T_2ee1b916_4c3c_11eb_a5c0_0242ac1c0002row5_col8,#T_2ee1b916_4c3c_11eb_a5c0_0242ac1c0002row5_col9,#T_2ee1b916_4c3c_11eb_a5c0_0242ac1c0002row5_col15,#T_2ee1b916_4c3c_11eb_a5c0_0242ac1c0002row5_col16,#T_2ee1b916_4c3c_11eb_a5c0_0242ac1c0002row5_col17,#T_2ee1b916_4c3c_11eb_a5c0_0242ac1c0002row6_col0,#T_2ee1b916_4c3c_11eb_a5c0_0242ac1c0002row6_col1,#T_2ee1b916_4c3c_11eb_a5c0_0242ac1c0002row6_col2,#T_2ee1b916_4c3c_11eb_a5c0_0242ac1c0002row6_col3,#T_2ee1b916_4c3c_11eb_a5c0_0242ac1c0002row6_col4,#T_2ee1b916_4c3c_11eb_a5c0_0242ac1c0002row6_col5,#T_2ee1b916_4c3c_11eb_a5c0_0242ac1c0002row6_col6,#T_2ee1b916_4c3c_11eb_a5c0_0242ac1c0002row6_col7,#T_2ee1b916_4c3c_11eb_a5c0_0242ac1c0002row6_col8,#T_2ee1b916_4c3c_11eb_a5c0_0242ac1c0002row6_col9,#T_2ee1b916_4c3c_11eb_a5c0_0242ac1c0002row6_col14,#T_2ee1b916_4c3c_11eb_a5c0_0242ac1c0002row6_col15,#T_2ee1b916_4c3c_11eb_a5c0_0242ac1c0002row6_col16,#T_2ee1b916_4c3c_11eb_a5c0_0242ac1c0002row6_col17,#T_2ee1b916_4c3c_11eb_a5c0_0242ac1c0002row7_col0,#T_2ee1b916_4c3c_11eb_a5c0_0242ac1c0002row7_col1,#T_2ee1b916_4c3c_11eb_a5c0_0242ac1c0002row7_col2,#T_2ee1b916_4c3c_11eb_a5c0_0242ac1c0002row7_col3,#T_2ee1b916_4c3c_11eb_a5c0_0242ac1c0002row7_col4,#T_2ee1b916_4c3c_11eb_a5c0_0242ac1c0002row7_col5,#T_2ee1b916_4c3c_11eb_a5c0_0242ac1c0002row7_col6,#T_2ee1b916_4c3c_11eb_a5c0_0242ac1c0002row7_col13,#T_2ee1b916_4c3c_11eb_a5c0_0242ac1c0002row7_col14,#T_2ee1b916_4c3c_11eb_a5c0_0242ac1c0002row7_col15,#T_2ee1b916_4c3c_11eb_a5c0_0242ac1c0002row7_col16,#T_2ee1b916_4c3c_11eb_a5c0_0242ac1c0002row7_col17,#T_2ee1b916_4c3c_11eb_a5c0_0242ac1c0002row8_col0,#T_2ee1b916_4c3c_11eb_a5c0_0242ac1c0002row8_col1,#T_2ee1b916_4c3c_11eb_a5c0_0242ac1c0002row8_col2,#T_2ee1b916_4c3c_11eb_a5c0_0242ac1c0002row8_col3,#T_2ee1b916_4c3c_11eb_a5c0_0242ac1c0002row8_col4,#T_2ee1b916_4c3c_11eb_a5c0_0242ac1c0002row8_col13,#T_2ee1b916_4c3c_11eb_a5c0_0242ac1c0002row8_col14,#T_2ee1b916_4c3c_11eb_a5c0_0242ac1c0002row8_col15,#T_2ee1b916_4c3c_11eb_a5c0_0242ac1c0002row8_col16,#T_2ee1b916_4c3c_11eb_a5c0_0242ac1c0002row8_col17,#T_2ee1b916_4c3c_11eb_a5c0_0242ac1c0002row9_col0,#T_2ee1b916_4c3c_11eb_a5c0_0242ac1c0002row9_col1,#T_2ee1b916_4c3c_11eb_a5c0_0242ac1c0002row9_col2,#T_2ee1b916_4c3c_11eb_a5c0_0242ac1c0002row9_col3,#T_2ee1b916_4c3c_11eb_a5c0_0242ac1c0002row9_col4,#T_2ee1b916_4c3c_11eb_a5c0_0242ac1c0002row9_col16,#T_2ee1b916_4c3c_11eb_a5c0_0242ac1c0002row9_col17,#T_2ee1b916_4c3c_11eb_a5c0_0242ac1c0002row10_col0,#T_2ee1b916_4c3c_11eb_a5c0_0242ac1c0002row10_col1,#T_2ee1b916_4c3c_11eb_a5c0_0242ac1c0002row10_col2,#T_2ee1b916_4c3c_11eb_a5c0_0242ac1c0002row10_col3,#T_2ee1b916_4c3c_11eb_a5c0_0242ac1c0002row10_col4,#T_2ee1b916_4c3c_11eb_a5c0_0242ac1c0002row10_col5,#T_2ee1b916_4c3c_11eb_a5c0_0242ac1c0002row10_col6,#T_2ee1b916_4c3c_11eb_a5c0_0242ac1c0002row10_col17{\n",
              "            font-size:  6pt;\n",
              "            background-color:  #ffffff;\n",
              "            color:  #000000;\n",
              "        }#T_2ee1b916_4c3c_11eb_a5c0_0242ac1c0002row1_col5{\n",
              "            font-size:  6pt;\n",
              "            background-color:  #efefef;\n",
              "            color:  #000000;\n",
              "        }#T_2ee1b916_4c3c_11eb_a5c0_0242ac1c0002row1_col6,#T_2ee1b916_4c3c_11eb_a5c0_0242ac1c0002row1_col13{\n",
              "            font-size:  6pt;\n",
              "            background-color:  #7c7c7c;\n",
              "            color:  #000000;\n",
              "        }#T_2ee1b916_4c3c_11eb_a5c0_0242ac1c0002row1_col7{\n",
              "            font-size:  6pt;\n",
              "            background-color:  #4a4a4a;\n",
              "            color:  #f1f1f1;\n",
              "        }#T_2ee1b916_4c3c_11eb_a5c0_0242ac1c0002row1_col8,#T_2ee1b916_4c3c_11eb_a5c0_0242ac1c0002row1_col9,#T_2ee1b916_4c3c_11eb_a5c0_0242ac1c0002row1_col10,#T_2ee1b916_4c3c_11eb_a5c0_0242ac1c0002row2_col5,#T_2ee1b916_4c3c_11eb_a5c0_0242ac1c0002row2_col6,#T_2ee1b916_4c3c_11eb_a5c0_0242ac1c0002row2_col7,#T_2ee1b916_4c3c_11eb_a5c0_0242ac1c0002row2_col11,#T_2ee1b916_4c3c_11eb_a5c0_0242ac1c0002row2_col12,#T_2ee1b916_4c3c_11eb_a5c0_0242ac1c0002row2_col13,#T_2ee1b916_4c3c_11eb_a5c0_0242ac1c0002row3_col4,#T_2ee1b916_4c3c_11eb_a5c0_0242ac1c0002row3_col12,#T_2ee1b916_4c3c_11eb_a5c0_0242ac1c0002row3_col13,#T_2ee1b916_4c3c_11eb_a5c0_0242ac1c0002row4_col1,#T_2ee1b916_4c3c_11eb_a5c0_0242ac1c0002row4_col2,#T_2ee1b916_4c3c_11eb_a5c0_0242ac1c0002row4_col3,#T_2ee1b916_4c3c_11eb_a5c0_0242ac1c0002row4_col12,#T_2ee1b916_4c3c_11eb_a5c0_0242ac1c0002row4_col13,#T_2ee1b916_4c3c_11eb_a5c0_0242ac1c0002row5_col12,#T_2ee1b916_4c3c_11eb_a5c0_0242ac1c0002row6_col11,#T_2ee1b916_4c3c_11eb_a5c0_0242ac1c0002row9_col11,#T_2ee1b916_4c3c_11eb_a5c0_0242ac1c0002row10_col11,#T_2ee1b916_4c3c_11eb_a5c0_0242ac1c0002row10_col12,#T_2ee1b916_4c3c_11eb_a5c0_0242ac1c0002row10_col13,#T_2ee1b916_4c3c_11eb_a5c0_0242ac1c0002row10_col14,#T_2ee1b916_4c3c_11eb_a5c0_0242ac1c0002row10_col15,#T_2ee1b916_4c3c_11eb_a5c0_0242ac1c0002row10_col16{\n",
              "            font-size:  6pt;\n",
              "            background-color:  #000000;\n",
              "            color:  #f1f1f1;\n",
              "        }#T_2ee1b916_4c3c_11eb_a5c0_0242ac1c0002row1_col11{\n",
              "            font-size:  6pt;\n",
              "            background-color:  #606060;\n",
              "            color:  #f1f1f1;\n",
              "        }#T_2ee1b916_4c3c_11eb_a5c0_0242ac1c0002row1_col12{\n",
              "            font-size:  6pt;\n",
              "            background-color:  #4d4d4d;\n",
              "            color:  #f1f1f1;\n",
              "        }#T_2ee1b916_4c3c_11eb_a5c0_0242ac1c0002row1_col14{\n",
              "            font-size:  6pt;\n",
              "            background-color:  #bbbbbb;\n",
              "            color:  #000000;\n",
              "        }#T_2ee1b916_4c3c_11eb_a5c0_0242ac1c0002row2_col3{\n",
              "            font-size:  6pt;\n",
              "            background-color:  #e4e4e4;\n",
              "            color:  #000000;\n",
              "        }#T_2ee1b916_4c3c_11eb_a5c0_0242ac1c0002row2_col4,#T_2ee1b916_4c3c_11eb_a5c0_0242ac1c0002row8_col6{\n",
              "            font-size:  6pt;\n",
              "            background-color:  #6b6b6b;\n",
              "            color:  #000000;\n",
              "        }#T_2ee1b916_4c3c_11eb_a5c0_0242ac1c0002row2_col8,#T_2ee1b916_4c3c_11eb_a5c0_0242ac1c0002row2_col14,#T_2ee1b916_4c3c_11eb_a5c0_0242ac1c0002row3_col14{\n",
              "            font-size:  6pt;\n",
              "            background-color:  #171717;\n",
              "            color:  #f1f1f1;\n",
              "        }#T_2ee1b916_4c3c_11eb_a5c0_0242ac1c0002row2_col9,#T_2ee1b916_4c3c_11eb_a5c0_0242ac1c0002row3_col11{\n",
              "            font-size:  6pt;\n",
              "            background-color:  #4b4b4b;\n",
              "            color:  #f1f1f1;\n",
              "        }#T_2ee1b916_4c3c_11eb_a5c0_0242ac1c0002row2_col10,#T_2ee1b916_4c3c_11eb_a5c0_0242ac1c0002row7_col10,#T_2ee1b916_4c3c_11eb_a5c0_0242ac1c0002row8_col8,#T_2ee1b916_4c3c_11eb_a5c0_0242ac1c0002row8_col10,#T_2ee1b916_4c3c_11eb_a5c0_0242ac1c0002row9_col8,#T_2ee1b916_4c3c_11eb_a5c0_0242ac1c0002row9_col10{\n",
              "            font-size:  6pt;\n",
              "            background-color:  #010101;\n",
              "            color:  #f1f1f1;\n",
              "        }#T_2ee1b916_4c3c_11eb_a5c0_0242ac1c0002row3_col1{\n",
              "            font-size:  6pt;\n",
              "            background-color:  #272727;\n",
              "            color:  #f1f1f1;\n",
              "        }#T_2ee1b916_4c3c_11eb_a5c0_0242ac1c0002row3_col2{\n",
              "            font-size:  6pt;\n",
              "            background-color:  #0a0a0a;\n",
              "            color:  #f1f1f1;\n",
              "        }#T_2ee1b916_4c3c_11eb_a5c0_0242ac1c0002row3_col3{\n",
              "            font-size:  6pt;\n",
              "            background-color:  #050505;\n",
              "            color:  #f1f1f1;\n",
              "        }#T_2ee1b916_4c3c_11eb_a5c0_0242ac1c0002row3_col5{\n",
              "            font-size:  6pt;\n",
              "            background-color:  #333333;\n",
              "            color:  #f1f1f1;\n",
              "        }#T_2ee1b916_4c3c_11eb_a5c0_0242ac1c0002row3_col6{\n",
              "            font-size:  6pt;\n",
              "            background-color:  #e6e6e6;\n",
              "            color:  #000000;\n",
              "        }#T_2ee1b916_4c3c_11eb_a5c0_0242ac1c0002row3_col7,#T_2ee1b916_4c3c_11eb_a5c0_0242ac1c0002row3_col10{\n",
              "            font-size:  6pt;\n",
              "            background-color:  #fafafa;\n",
              "            color:  #000000;\n",
              "        }#T_2ee1b916_4c3c_11eb_a5c0_0242ac1c0002row3_col8{\n",
              "            font-size:  6pt;\n",
              "            background-color:  #fbfbfb;\n",
              "            color:  #000000;\n",
              "        }#T_2ee1b916_4c3c_11eb_a5c0_0242ac1c0002row3_col9{\n",
              "            font-size:  6pt;\n",
              "            background-color:  #fdfdfd;\n",
              "            color:  #000000;\n",
              "        }#T_2ee1b916_4c3c_11eb_a5c0_0242ac1c0002row4_col4{\n",
              "            font-size:  6pt;\n",
              "            background-color:  #1b1b1b;\n",
              "            color:  #f1f1f1;\n",
              "        }#T_2ee1b916_4c3c_11eb_a5c0_0242ac1c0002row4_col5{\n",
              "            font-size:  6pt;\n",
              "            background-color:  #e0e0e0;\n",
              "            color:  #000000;\n",
              "        }#T_2ee1b916_4c3c_11eb_a5c0_0242ac1c0002row4_col11{\n",
              "            font-size:  6pt;\n",
              "            background-color:  #4e4e4e;\n",
              "            color:  #f1f1f1;\n",
              "        }#T_2ee1b916_4c3c_11eb_a5c0_0242ac1c0002row4_col14{\n",
              "            font-size:  6pt;\n",
              "            background-color:  #767676;\n",
              "            color:  #000000;\n",
              "        }#T_2ee1b916_4c3c_11eb_a5c0_0242ac1c0002row5_col1{\n",
              "            font-size:  6pt;\n",
              "            background-color:  #fcfcfc;\n",
              "            color:  #000000;\n",
              "        }#T_2ee1b916_4c3c_11eb_a5c0_0242ac1c0002row5_col2,#T_2ee1b916_4c3c_11eb_a5c0_0242ac1c0002row5_col3{\n",
              "            font-size:  6pt;\n",
              "            background-color:  #f6f6f6;\n",
              "            color:  #000000;\n",
              "        }#T_2ee1b916_4c3c_11eb_a5c0_0242ac1c0002row5_col4,#T_2ee1b916_4c3c_11eb_a5c0_0242ac1c0002row7_col7{\n",
              "            font-size:  6pt;\n",
              "            background-color:  #f8f8f8;\n",
              "            color:  #000000;\n",
              "        }#T_2ee1b916_4c3c_11eb_a5c0_0242ac1c0002row5_col10,#T_2ee1b916_4c3c_11eb_a5c0_0242ac1c0002row10_col7{\n",
              "            font-size:  6pt;\n",
              "            background-color:  #e8e8e8;\n",
              "            color:  #000000;\n",
              "        }#T_2ee1b916_4c3c_11eb_a5c0_0242ac1c0002row5_col11{\n",
              "            font-size:  6pt;\n",
              "            background-color:  #222222;\n",
              "            color:  #f1f1f1;\n",
              "        }#T_2ee1b916_4c3c_11eb_a5c0_0242ac1c0002row5_col13,#T_2ee1b916_4c3c_11eb_a5c0_0242ac1c0002row6_col12{\n",
              "            font-size:  6pt;\n",
              "            background-color:  #090909;\n",
              "            color:  #f1f1f1;\n",
              "        }#T_2ee1b916_4c3c_11eb_a5c0_0242ac1c0002row5_col14{\n",
              "            font-size:  6pt;\n",
              "            background-color:  #d0d0d0;\n",
              "            color:  #000000;\n",
              "        }#T_2ee1b916_4c3c_11eb_a5c0_0242ac1c0002row6_col10,#T_2ee1b916_4c3c_11eb_a5c0_0242ac1c0002row7_col11,#T_2ee1b916_4c3c_11eb_a5c0_0242ac1c0002row9_col6{\n",
              "            font-size:  6pt;\n",
              "            background-color:  #060606;\n",
              "            color:  #f1f1f1;\n",
              "        }#T_2ee1b916_4c3c_11eb_a5c0_0242ac1c0002row6_col13{\n",
              "            font-size:  6pt;\n",
              "            background-color:  #979797;\n",
              "            color:  #000000;\n",
              "        }#T_2ee1b916_4c3c_11eb_a5c0_0242ac1c0002row7_col8{\n",
              "            font-size:  6pt;\n",
              "            background-color:  #b6b6b6;\n",
              "            color:  #000000;\n",
              "        }#T_2ee1b916_4c3c_11eb_a5c0_0242ac1c0002row7_col9{\n",
              "            font-size:  6pt;\n",
              "            background-color:  #252525;\n",
              "            color:  #f1f1f1;\n",
              "        }#T_2ee1b916_4c3c_11eb_a5c0_0242ac1c0002row7_col12{\n",
              "            font-size:  6pt;\n",
              "            background-color:  #999999;\n",
              "            color:  #000000;\n",
              "        }#T_2ee1b916_4c3c_11eb_a5c0_0242ac1c0002row8_col5{\n",
              "            font-size:  6pt;\n",
              "            background-color:  #f9f9f9;\n",
              "            color:  #000000;\n",
              "        }#T_2ee1b916_4c3c_11eb_a5c0_0242ac1c0002row8_col7{\n",
              "            font-size:  6pt;\n",
              "            background-color:  #101010;\n",
              "            color:  #f1f1f1;\n",
              "        }#T_2ee1b916_4c3c_11eb_a5c0_0242ac1c0002row8_col9,#T_2ee1b916_4c3c_11eb_a5c0_0242ac1c0002row9_col9{\n",
              "            font-size:  6pt;\n",
              "            background-color:  #020202;\n",
              "            color:  #f1f1f1;\n",
              "        }#T_2ee1b916_4c3c_11eb_a5c0_0242ac1c0002row8_col11{\n",
              "            font-size:  6pt;\n",
              "            background-color:  #545454;\n",
              "            color:  #f1f1f1;\n",
              "        }#T_2ee1b916_4c3c_11eb_a5c0_0242ac1c0002row8_col12{\n",
              "            font-size:  6pt;\n",
              "            background-color:  #f1f1f1;\n",
              "            color:  #000000;\n",
              "        }#T_2ee1b916_4c3c_11eb_a5c0_0242ac1c0002row9_col5{\n",
              "            font-size:  6pt;\n",
              "            background-color:  #f7f7f7;\n",
              "            color:  #000000;\n",
              "        }#T_2ee1b916_4c3c_11eb_a5c0_0242ac1c0002row9_col7{\n",
              "            font-size:  6pt;\n",
              "            background-color:  #030303;\n",
              "            color:  #f1f1f1;\n",
              "        }#T_2ee1b916_4c3c_11eb_a5c0_0242ac1c0002row9_col12{\n",
              "            font-size:  6pt;\n",
              "            background-color:  #181818;\n",
              "            color:  #f1f1f1;\n",
              "        }#T_2ee1b916_4c3c_11eb_a5c0_0242ac1c0002row9_col13{\n",
              "            font-size:  6pt;\n",
              "            background-color:  #303030;\n",
              "            color:  #f1f1f1;\n",
              "        }#T_2ee1b916_4c3c_11eb_a5c0_0242ac1c0002row9_col14{\n",
              "            font-size:  6pt;\n",
              "            background-color:  #a9a9a9;\n",
              "            color:  #000000;\n",
              "        }#T_2ee1b916_4c3c_11eb_a5c0_0242ac1c0002row9_col15{\n",
              "            font-size:  6pt;\n",
              "            background-color:  #fefefe;\n",
              "            color:  #000000;\n",
              "        }#T_2ee1b916_4c3c_11eb_a5c0_0242ac1c0002row10_col8,#T_2ee1b916_4c3c_11eb_a5c0_0242ac1c0002row10_col9{\n",
              "            font-size:  6pt;\n",
              "            background-color:  #bababa;\n",
              "            color:  #000000;\n",
              "        }#T_2ee1b916_4c3c_11eb_a5c0_0242ac1c0002row10_col10{\n",
              "            font-size:  6pt;\n",
              "            background-color:  #393939;\n",
              "            color:  #f1f1f1;\n",
              "        }</style><table id=\"T_2ee1b916_4c3c_11eb_a5c0_0242ac1c0002\" ><thead>    <tr>        <th class=\"blank level0\" ></th>        <th class=\"col_heading level0 col0\" >0</th>        <th class=\"col_heading level0 col1\" >1</th>        <th class=\"col_heading level0 col2\" >2</th>        <th class=\"col_heading level0 col3\" >3</th>        <th class=\"col_heading level0 col4\" >4</th>        <th class=\"col_heading level0 col5\" >5</th>        <th class=\"col_heading level0 col6\" >6</th>        <th class=\"col_heading level0 col7\" >7</th>        <th class=\"col_heading level0 col8\" >8</th>        <th class=\"col_heading level0 col9\" >9</th>        <th class=\"col_heading level0 col10\" >10</th>        <th class=\"col_heading level0 col11\" >11</th>        <th class=\"col_heading level0 col12\" >12</th>        <th class=\"col_heading level0 col13\" >13</th>        <th class=\"col_heading level0 col14\" >14</th>        <th class=\"col_heading level0 col15\" >15</th>        <th class=\"col_heading level0 col16\" >16</th>        <th class=\"col_heading level0 col17\" >17</th>    </tr></thead><tbody>\n",
              "                <tr>\n",
              "                        <th id=\"T_2ee1b916_4c3c_11eb_a5c0_0242ac1c0002level0_row0\" class=\"row_heading level0 row0\" >0</th>\n",
              "                        <td id=\"T_2ee1b916_4c3c_11eb_a5c0_0242ac1c0002row0_col0\" class=\"data row0 col0\" >0</td>\n",
              "                        <td id=\"T_2ee1b916_4c3c_11eb_a5c0_0242ac1c0002row0_col1\" class=\"data row0 col1\" >0</td>\n",
              "                        <td id=\"T_2ee1b916_4c3c_11eb_a5c0_0242ac1c0002row0_col2\" class=\"data row0 col2\" >0</td>\n",
              "                        <td id=\"T_2ee1b916_4c3c_11eb_a5c0_0242ac1c0002row0_col3\" class=\"data row0 col3\" >0</td>\n",
              "                        <td id=\"T_2ee1b916_4c3c_11eb_a5c0_0242ac1c0002row0_col4\" class=\"data row0 col4\" >0</td>\n",
              "                        <td id=\"T_2ee1b916_4c3c_11eb_a5c0_0242ac1c0002row0_col5\" class=\"data row0 col5\" >0</td>\n",
              "                        <td id=\"T_2ee1b916_4c3c_11eb_a5c0_0242ac1c0002row0_col6\" class=\"data row0 col6\" >0</td>\n",
              "                        <td id=\"T_2ee1b916_4c3c_11eb_a5c0_0242ac1c0002row0_col7\" class=\"data row0 col7\" >0</td>\n",
              "                        <td id=\"T_2ee1b916_4c3c_11eb_a5c0_0242ac1c0002row0_col8\" class=\"data row0 col8\" >0</td>\n",
              "                        <td id=\"T_2ee1b916_4c3c_11eb_a5c0_0242ac1c0002row0_col9\" class=\"data row0 col9\" >0</td>\n",
              "                        <td id=\"T_2ee1b916_4c3c_11eb_a5c0_0242ac1c0002row0_col10\" class=\"data row0 col10\" >0</td>\n",
              "                        <td id=\"T_2ee1b916_4c3c_11eb_a5c0_0242ac1c0002row0_col11\" class=\"data row0 col11\" >0</td>\n",
              "                        <td id=\"T_2ee1b916_4c3c_11eb_a5c0_0242ac1c0002row0_col12\" class=\"data row0 col12\" >0</td>\n",
              "                        <td id=\"T_2ee1b916_4c3c_11eb_a5c0_0242ac1c0002row0_col13\" class=\"data row0 col13\" >0</td>\n",
              "                        <td id=\"T_2ee1b916_4c3c_11eb_a5c0_0242ac1c0002row0_col14\" class=\"data row0 col14\" >0</td>\n",
              "                        <td id=\"T_2ee1b916_4c3c_11eb_a5c0_0242ac1c0002row0_col15\" class=\"data row0 col15\" >0</td>\n",
              "                        <td id=\"T_2ee1b916_4c3c_11eb_a5c0_0242ac1c0002row0_col16\" class=\"data row0 col16\" >0</td>\n",
              "                        <td id=\"T_2ee1b916_4c3c_11eb_a5c0_0242ac1c0002row0_col17\" class=\"data row0 col17\" >0</td>\n",
              "            </tr>\n",
              "            <tr>\n",
              "                        <th id=\"T_2ee1b916_4c3c_11eb_a5c0_0242ac1c0002level0_row1\" class=\"row_heading level0 row1\" >1</th>\n",
              "                        <td id=\"T_2ee1b916_4c3c_11eb_a5c0_0242ac1c0002row1_col0\" class=\"data row1 col0\" >0</td>\n",
              "                        <td id=\"T_2ee1b916_4c3c_11eb_a5c0_0242ac1c0002row1_col1\" class=\"data row1 col1\" >0</td>\n",
              "                        <td id=\"T_2ee1b916_4c3c_11eb_a5c0_0242ac1c0002row1_col2\" class=\"data row1 col2\" >0</td>\n",
              "                        <td id=\"T_2ee1b916_4c3c_11eb_a5c0_0242ac1c0002row1_col3\" class=\"data row1 col3\" >0</td>\n",
              "                        <td id=\"T_2ee1b916_4c3c_11eb_a5c0_0242ac1c0002row1_col4\" class=\"data row1 col4\" >0</td>\n",
              "                        <td id=\"T_2ee1b916_4c3c_11eb_a5c0_0242ac1c0002row1_col5\" class=\"data row1 col5\" >29</td>\n",
              "                        <td id=\"T_2ee1b916_4c3c_11eb_a5c0_0242ac1c0002row1_col6\" class=\"data row1 col6\" >150</td>\n",
              "                        <td id=\"T_2ee1b916_4c3c_11eb_a5c0_0242ac1c0002row1_col7\" class=\"data row1 col7\" >195</td>\n",
              "                        <td id=\"T_2ee1b916_4c3c_11eb_a5c0_0242ac1c0002row1_col8\" class=\"data row1 col8\" >254</td>\n",
              "                        <td id=\"T_2ee1b916_4c3c_11eb_a5c0_0242ac1c0002row1_col9\" class=\"data row1 col9\" >255</td>\n",
              "                        <td id=\"T_2ee1b916_4c3c_11eb_a5c0_0242ac1c0002row1_col10\" class=\"data row1 col10\" >254</td>\n",
              "                        <td id=\"T_2ee1b916_4c3c_11eb_a5c0_0242ac1c0002row1_col11\" class=\"data row1 col11\" >176</td>\n",
              "                        <td id=\"T_2ee1b916_4c3c_11eb_a5c0_0242ac1c0002row1_col12\" class=\"data row1 col12\" >193</td>\n",
              "                        <td id=\"T_2ee1b916_4c3c_11eb_a5c0_0242ac1c0002row1_col13\" class=\"data row1 col13\" >150</td>\n",
              "                        <td id=\"T_2ee1b916_4c3c_11eb_a5c0_0242ac1c0002row1_col14\" class=\"data row1 col14\" >96</td>\n",
              "                        <td id=\"T_2ee1b916_4c3c_11eb_a5c0_0242ac1c0002row1_col15\" class=\"data row1 col15\" >0</td>\n",
              "                        <td id=\"T_2ee1b916_4c3c_11eb_a5c0_0242ac1c0002row1_col16\" class=\"data row1 col16\" >0</td>\n",
              "                        <td id=\"T_2ee1b916_4c3c_11eb_a5c0_0242ac1c0002row1_col17\" class=\"data row1 col17\" >0</td>\n",
              "            </tr>\n",
              "            <tr>\n",
              "                        <th id=\"T_2ee1b916_4c3c_11eb_a5c0_0242ac1c0002level0_row2\" class=\"row_heading level0 row2\" >2</th>\n",
              "                        <td id=\"T_2ee1b916_4c3c_11eb_a5c0_0242ac1c0002row2_col0\" class=\"data row2 col0\" >0</td>\n",
              "                        <td id=\"T_2ee1b916_4c3c_11eb_a5c0_0242ac1c0002row2_col1\" class=\"data row2 col1\" >0</td>\n",
              "                        <td id=\"T_2ee1b916_4c3c_11eb_a5c0_0242ac1c0002row2_col2\" class=\"data row2 col2\" >0</td>\n",
              "                        <td id=\"T_2ee1b916_4c3c_11eb_a5c0_0242ac1c0002row2_col3\" class=\"data row2 col3\" >48</td>\n",
              "                        <td id=\"T_2ee1b916_4c3c_11eb_a5c0_0242ac1c0002row2_col4\" class=\"data row2 col4\" >166</td>\n",
              "                        <td id=\"T_2ee1b916_4c3c_11eb_a5c0_0242ac1c0002row2_col5\" class=\"data row2 col5\" >224</td>\n",
              "                        <td id=\"T_2ee1b916_4c3c_11eb_a5c0_0242ac1c0002row2_col6\" class=\"data row2 col6\" >253</td>\n",
              "                        <td id=\"T_2ee1b916_4c3c_11eb_a5c0_0242ac1c0002row2_col7\" class=\"data row2 col7\" >253</td>\n",
              "                        <td id=\"T_2ee1b916_4c3c_11eb_a5c0_0242ac1c0002row2_col8\" class=\"data row2 col8\" >234</td>\n",
              "                        <td id=\"T_2ee1b916_4c3c_11eb_a5c0_0242ac1c0002row2_col9\" class=\"data row2 col9\" >196</td>\n",
              "                        <td id=\"T_2ee1b916_4c3c_11eb_a5c0_0242ac1c0002row2_col10\" class=\"data row2 col10\" >253</td>\n",
              "                        <td id=\"T_2ee1b916_4c3c_11eb_a5c0_0242ac1c0002row2_col11\" class=\"data row2 col11\" >253</td>\n",
              "                        <td id=\"T_2ee1b916_4c3c_11eb_a5c0_0242ac1c0002row2_col12\" class=\"data row2 col12\" >253</td>\n",
              "                        <td id=\"T_2ee1b916_4c3c_11eb_a5c0_0242ac1c0002row2_col13\" class=\"data row2 col13\" >253</td>\n",
              "                        <td id=\"T_2ee1b916_4c3c_11eb_a5c0_0242ac1c0002row2_col14\" class=\"data row2 col14\" >233</td>\n",
              "                        <td id=\"T_2ee1b916_4c3c_11eb_a5c0_0242ac1c0002row2_col15\" class=\"data row2 col15\" >0</td>\n",
              "                        <td id=\"T_2ee1b916_4c3c_11eb_a5c0_0242ac1c0002row2_col16\" class=\"data row2 col16\" >0</td>\n",
              "                        <td id=\"T_2ee1b916_4c3c_11eb_a5c0_0242ac1c0002row2_col17\" class=\"data row2 col17\" >0</td>\n",
              "            </tr>\n",
              "            <tr>\n",
              "                        <th id=\"T_2ee1b916_4c3c_11eb_a5c0_0242ac1c0002level0_row3\" class=\"row_heading level0 row3\" >3</th>\n",
              "                        <td id=\"T_2ee1b916_4c3c_11eb_a5c0_0242ac1c0002row3_col0\" class=\"data row3 col0\" >0</td>\n",
              "                        <td id=\"T_2ee1b916_4c3c_11eb_a5c0_0242ac1c0002row3_col1\" class=\"data row3 col1\" >93</td>\n",
              "                        <td id=\"T_2ee1b916_4c3c_11eb_a5c0_0242ac1c0002row3_col2\" class=\"data row3 col2\" >244</td>\n",
              "                        <td id=\"T_2ee1b916_4c3c_11eb_a5c0_0242ac1c0002row3_col3\" class=\"data row3 col3\" >249</td>\n",
              "                        <td id=\"T_2ee1b916_4c3c_11eb_a5c0_0242ac1c0002row3_col4\" class=\"data row3 col4\" >253</td>\n",
              "                        <td id=\"T_2ee1b916_4c3c_11eb_a5c0_0242ac1c0002row3_col5\" class=\"data row3 col5\" >187</td>\n",
              "                        <td id=\"T_2ee1b916_4c3c_11eb_a5c0_0242ac1c0002row3_col6\" class=\"data row3 col6\" >46</td>\n",
              "                        <td id=\"T_2ee1b916_4c3c_11eb_a5c0_0242ac1c0002row3_col7\" class=\"data row3 col7\" >10</td>\n",
              "                        <td id=\"T_2ee1b916_4c3c_11eb_a5c0_0242ac1c0002row3_col8\" class=\"data row3 col8\" >8</td>\n",
              "                        <td id=\"T_2ee1b916_4c3c_11eb_a5c0_0242ac1c0002row3_col9\" class=\"data row3 col9\" >4</td>\n",
              "                        <td id=\"T_2ee1b916_4c3c_11eb_a5c0_0242ac1c0002row3_col10\" class=\"data row3 col10\" >10</td>\n",
              "                        <td id=\"T_2ee1b916_4c3c_11eb_a5c0_0242ac1c0002row3_col11\" class=\"data row3 col11\" >194</td>\n",
              "                        <td id=\"T_2ee1b916_4c3c_11eb_a5c0_0242ac1c0002row3_col12\" class=\"data row3 col12\" >253</td>\n",
              "                        <td id=\"T_2ee1b916_4c3c_11eb_a5c0_0242ac1c0002row3_col13\" class=\"data row3 col13\" >253</td>\n",
              "                        <td id=\"T_2ee1b916_4c3c_11eb_a5c0_0242ac1c0002row3_col14\" class=\"data row3 col14\" >233</td>\n",
              "                        <td id=\"T_2ee1b916_4c3c_11eb_a5c0_0242ac1c0002row3_col15\" class=\"data row3 col15\" >0</td>\n",
              "                        <td id=\"T_2ee1b916_4c3c_11eb_a5c0_0242ac1c0002row3_col16\" class=\"data row3 col16\" >0</td>\n",
              "                        <td id=\"T_2ee1b916_4c3c_11eb_a5c0_0242ac1c0002row3_col17\" class=\"data row3 col17\" >0</td>\n",
              "            </tr>\n",
              "            <tr>\n",
              "                        <th id=\"T_2ee1b916_4c3c_11eb_a5c0_0242ac1c0002level0_row4\" class=\"row_heading level0 row4\" >4</th>\n",
              "                        <td id=\"T_2ee1b916_4c3c_11eb_a5c0_0242ac1c0002row4_col0\" class=\"data row4 col0\" >0</td>\n",
              "                        <td id=\"T_2ee1b916_4c3c_11eb_a5c0_0242ac1c0002row4_col1\" class=\"data row4 col1\" >107</td>\n",
              "                        <td id=\"T_2ee1b916_4c3c_11eb_a5c0_0242ac1c0002row4_col2\" class=\"data row4 col2\" >253</td>\n",
              "                        <td id=\"T_2ee1b916_4c3c_11eb_a5c0_0242ac1c0002row4_col3\" class=\"data row4 col3\" >253</td>\n",
              "                        <td id=\"T_2ee1b916_4c3c_11eb_a5c0_0242ac1c0002row4_col4\" class=\"data row4 col4\" >230</td>\n",
              "                        <td id=\"T_2ee1b916_4c3c_11eb_a5c0_0242ac1c0002row4_col5\" class=\"data row4 col5\" >48</td>\n",
              "                        <td id=\"T_2ee1b916_4c3c_11eb_a5c0_0242ac1c0002row4_col6\" class=\"data row4 col6\" >0</td>\n",
              "                        <td id=\"T_2ee1b916_4c3c_11eb_a5c0_0242ac1c0002row4_col7\" class=\"data row4 col7\" >0</td>\n",
              "                        <td id=\"T_2ee1b916_4c3c_11eb_a5c0_0242ac1c0002row4_col8\" class=\"data row4 col8\" >0</td>\n",
              "                        <td id=\"T_2ee1b916_4c3c_11eb_a5c0_0242ac1c0002row4_col9\" class=\"data row4 col9\" >0</td>\n",
              "                        <td id=\"T_2ee1b916_4c3c_11eb_a5c0_0242ac1c0002row4_col10\" class=\"data row4 col10\" >0</td>\n",
              "                        <td id=\"T_2ee1b916_4c3c_11eb_a5c0_0242ac1c0002row4_col11\" class=\"data row4 col11\" >192</td>\n",
              "                        <td id=\"T_2ee1b916_4c3c_11eb_a5c0_0242ac1c0002row4_col12\" class=\"data row4 col12\" >253</td>\n",
              "                        <td id=\"T_2ee1b916_4c3c_11eb_a5c0_0242ac1c0002row4_col13\" class=\"data row4 col13\" >253</td>\n",
              "                        <td id=\"T_2ee1b916_4c3c_11eb_a5c0_0242ac1c0002row4_col14\" class=\"data row4 col14\" >156</td>\n",
              "                        <td id=\"T_2ee1b916_4c3c_11eb_a5c0_0242ac1c0002row4_col15\" class=\"data row4 col15\" >0</td>\n",
              "                        <td id=\"T_2ee1b916_4c3c_11eb_a5c0_0242ac1c0002row4_col16\" class=\"data row4 col16\" >0</td>\n",
              "                        <td id=\"T_2ee1b916_4c3c_11eb_a5c0_0242ac1c0002row4_col17\" class=\"data row4 col17\" >0</td>\n",
              "            </tr>\n",
              "            <tr>\n",
              "                        <th id=\"T_2ee1b916_4c3c_11eb_a5c0_0242ac1c0002level0_row5\" class=\"row_heading level0 row5\" >5</th>\n",
              "                        <td id=\"T_2ee1b916_4c3c_11eb_a5c0_0242ac1c0002row5_col0\" class=\"data row5 col0\" >0</td>\n",
              "                        <td id=\"T_2ee1b916_4c3c_11eb_a5c0_0242ac1c0002row5_col1\" class=\"data row5 col1\" >3</td>\n",
              "                        <td id=\"T_2ee1b916_4c3c_11eb_a5c0_0242ac1c0002row5_col2\" class=\"data row5 col2\" >20</td>\n",
              "                        <td id=\"T_2ee1b916_4c3c_11eb_a5c0_0242ac1c0002row5_col3\" class=\"data row5 col3\" >20</td>\n",
              "                        <td id=\"T_2ee1b916_4c3c_11eb_a5c0_0242ac1c0002row5_col4\" class=\"data row5 col4\" >15</td>\n",
              "                        <td id=\"T_2ee1b916_4c3c_11eb_a5c0_0242ac1c0002row5_col5\" class=\"data row5 col5\" >0</td>\n",
              "                        <td id=\"T_2ee1b916_4c3c_11eb_a5c0_0242ac1c0002row5_col6\" class=\"data row5 col6\" >0</td>\n",
              "                        <td id=\"T_2ee1b916_4c3c_11eb_a5c0_0242ac1c0002row5_col7\" class=\"data row5 col7\" >0</td>\n",
              "                        <td id=\"T_2ee1b916_4c3c_11eb_a5c0_0242ac1c0002row5_col8\" class=\"data row5 col8\" >0</td>\n",
              "                        <td id=\"T_2ee1b916_4c3c_11eb_a5c0_0242ac1c0002row5_col9\" class=\"data row5 col9\" >0</td>\n",
              "                        <td id=\"T_2ee1b916_4c3c_11eb_a5c0_0242ac1c0002row5_col10\" class=\"data row5 col10\" >43</td>\n",
              "                        <td id=\"T_2ee1b916_4c3c_11eb_a5c0_0242ac1c0002row5_col11\" class=\"data row5 col11\" >224</td>\n",
              "                        <td id=\"T_2ee1b916_4c3c_11eb_a5c0_0242ac1c0002row5_col12\" class=\"data row5 col12\" >253</td>\n",
              "                        <td id=\"T_2ee1b916_4c3c_11eb_a5c0_0242ac1c0002row5_col13\" class=\"data row5 col13\" >245</td>\n",
              "                        <td id=\"T_2ee1b916_4c3c_11eb_a5c0_0242ac1c0002row5_col14\" class=\"data row5 col14\" >74</td>\n",
              "                        <td id=\"T_2ee1b916_4c3c_11eb_a5c0_0242ac1c0002row5_col15\" class=\"data row5 col15\" >0</td>\n",
              "                        <td id=\"T_2ee1b916_4c3c_11eb_a5c0_0242ac1c0002row5_col16\" class=\"data row5 col16\" >0</td>\n",
              "                        <td id=\"T_2ee1b916_4c3c_11eb_a5c0_0242ac1c0002row5_col17\" class=\"data row5 col17\" >0</td>\n",
              "            </tr>\n",
              "            <tr>\n",
              "                        <th id=\"T_2ee1b916_4c3c_11eb_a5c0_0242ac1c0002level0_row6\" class=\"row_heading level0 row6\" >6</th>\n",
              "                        <td id=\"T_2ee1b916_4c3c_11eb_a5c0_0242ac1c0002row6_col0\" class=\"data row6 col0\" >0</td>\n",
              "                        <td id=\"T_2ee1b916_4c3c_11eb_a5c0_0242ac1c0002row6_col1\" class=\"data row6 col1\" >0</td>\n",
              "                        <td id=\"T_2ee1b916_4c3c_11eb_a5c0_0242ac1c0002row6_col2\" class=\"data row6 col2\" >0</td>\n",
              "                        <td id=\"T_2ee1b916_4c3c_11eb_a5c0_0242ac1c0002row6_col3\" class=\"data row6 col3\" >0</td>\n",
              "                        <td id=\"T_2ee1b916_4c3c_11eb_a5c0_0242ac1c0002row6_col4\" class=\"data row6 col4\" >0</td>\n",
              "                        <td id=\"T_2ee1b916_4c3c_11eb_a5c0_0242ac1c0002row6_col5\" class=\"data row6 col5\" >0</td>\n",
              "                        <td id=\"T_2ee1b916_4c3c_11eb_a5c0_0242ac1c0002row6_col6\" class=\"data row6 col6\" >0</td>\n",
              "                        <td id=\"T_2ee1b916_4c3c_11eb_a5c0_0242ac1c0002row6_col7\" class=\"data row6 col7\" >0</td>\n",
              "                        <td id=\"T_2ee1b916_4c3c_11eb_a5c0_0242ac1c0002row6_col8\" class=\"data row6 col8\" >0</td>\n",
              "                        <td id=\"T_2ee1b916_4c3c_11eb_a5c0_0242ac1c0002row6_col9\" class=\"data row6 col9\" >0</td>\n",
              "                        <td id=\"T_2ee1b916_4c3c_11eb_a5c0_0242ac1c0002row6_col10\" class=\"data row6 col10\" >249</td>\n",
              "                        <td id=\"T_2ee1b916_4c3c_11eb_a5c0_0242ac1c0002row6_col11\" class=\"data row6 col11\" >253</td>\n",
              "                        <td id=\"T_2ee1b916_4c3c_11eb_a5c0_0242ac1c0002row6_col12\" class=\"data row6 col12\" >245</td>\n",
              "                        <td id=\"T_2ee1b916_4c3c_11eb_a5c0_0242ac1c0002row6_col13\" class=\"data row6 col13\" >126</td>\n",
              "                        <td id=\"T_2ee1b916_4c3c_11eb_a5c0_0242ac1c0002row6_col14\" class=\"data row6 col14\" >0</td>\n",
              "                        <td id=\"T_2ee1b916_4c3c_11eb_a5c0_0242ac1c0002row6_col15\" class=\"data row6 col15\" >0</td>\n",
              "                        <td id=\"T_2ee1b916_4c3c_11eb_a5c0_0242ac1c0002row6_col16\" class=\"data row6 col16\" >0</td>\n",
              "                        <td id=\"T_2ee1b916_4c3c_11eb_a5c0_0242ac1c0002row6_col17\" class=\"data row6 col17\" >0</td>\n",
              "            </tr>\n",
              "            <tr>\n",
              "                        <th id=\"T_2ee1b916_4c3c_11eb_a5c0_0242ac1c0002level0_row7\" class=\"row_heading level0 row7\" >7</th>\n",
              "                        <td id=\"T_2ee1b916_4c3c_11eb_a5c0_0242ac1c0002row7_col0\" class=\"data row7 col0\" >0</td>\n",
              "                        <td id=\"T_2ee1b916_4c3c_11eb_a5c0_0242ac1c0002row7_col1\" class=\"data row7 col1\" >0</td>\n",
              "                        <td id=\"T_2ee1b916_4c3c_11eb_a5c0_0242ac1c0002row7_col2\" class=\"data row7 col2\" >0</td>\n",
              "                        <td id=\"T_2ee1b916_4c3c_11eb_a5c0_0242ac1c0002row7_col3\" class=\"data row7 col3\" >0</td>\n",
              "                        <td id=\"T_2ee1b916_4c3c_11eb_a5c0_0242ac1c0002row7_col4\" class=\"data row7 col4\" >0</td>\n",
              "                        <td id=\"T_2ee1b916_4c3c_11eb_a5c0_0242ac1c0002row7_col5\" class=\"data row7 col5\" >0</td>\n",
              "                        <td id=\"T_2ee1b916_4c3c_11eb_a5c0_0242ac1c0002row7_col6\" class=\"data row7 col6\" >0</td>\n",
              "                        <td id=\"T_2ee1b916_4c3c_11eb_a5c0_0242ac1c0002row7_col7\" class=\"data row7 col7\" >14</td>\n",
              "                        <td id=\"T_2ee1b916_4c3c_11eb_a5c0_0242ac1c0002row7_col8\" class=\"data row7 col8\" >101</td>\n",
              "                        <td id=\"T_2ee1b916_4c3c_11eb_a5c0_0242ac1c0002row7_col9\" class=\"data row7 col9\" >223</td>\n",
              "                        <td id=\"T_2ee1b916_4c3c_11eb_a5c0_0242ac1c0002row7_col10\" class=\"data row7 col10\" >253</td>\n",
              "                        <td id=\"T_2ee1b916_4c3c_11eb_a5c0_0242ac1c0002row7_col11\" class=\"data row7 col11\" >248</td>\n",
              "                        <td id=\"T_2ee1b916_4c3c_11eb_a5c0_0242ac1c0002row7_col12\" class=\"data row7 col12\" >124</td>\n",
              "                        <td id=\"T_2ee1b916_4c3c_11eb_a5c0_0242ac1c0002row7_col13\" class=\"data row7 col13\" >0</td>\n",
              "                        <td id=\"T_2ee1b916_4c3c_11eb_a5c0_0242ac1c0002row7_col14\" class=\"data row7 col14\" >0</td>\n",
              "                        <td id=\"T_2ee1b916_4c3c_11eb_a5c0_0242ac1c0002row7_col15\" class=\"data row7 col15\" >0</td>\n",
              "                        <td id=\"T_2ee1b916_4c3c_11eb_a5c0_0242ac1c0002row7_col16\" class=\"data row7 col16\" >0</td>\n",
              "                        <td id=\"T_2ee1b916_4c3c_11eb_a5c0_0242ac1c0002row7_col17\" class=\"data row7 col17\" >0</td>\n",
              "            </tr>\n",
              "            <tr>\n",
              "                        <th id=\"T_2ee1b916_4c3c_11eb_a5c0_0242ac1c0002level0_row8\" class=\"row_heading level0 row8\" >8</th>\n",
              "                        <td id=\"T_2ee1b916_4c3c_11eb_a5c0_0242ac1c0002row8_col0\" class=\"data row8 col0\" >0</td>\n",
              "                        <td id=\"T_2ee1b916_4c3c_11eb_a5c0_0242ac1c0002row8_col1\" class=\"data row8 col1\" >0</td>\n",
              "                        <td id=\"T_2ee1b916_4c3c_11eb_a5c0_0242ac1c0002row8_col2\" class=\"data row8 col2\" >0</td>\n",
              "                        <td id=\"T_2ee1b916_4c3c_11eb_a5c0_0242ac1c0002row8_col3\" class=\"data row8 col3\" >0</td>\n",
              "                        <td id=\"T_2ee1b916_4c3c_11eb_a5c0_0242ac1c0002row8_col4\" class=\"data row8 col4\" >0</td>\n",
              "                        <td id=\"T_2ee1b916_4c3c_11eb_a5c0_0242ac1c0002row8_col5\" class=\"data row8 col5\" >11</td>\n",
              "                        <td id=\"T_2ee1b916_4c3c_11eb_a5c0_0242ac1c0002row8_col6\" class=\"data row8 col6\" >166</td>\n",
              "                        <td id=\"T_2ee1b916_4c3c_11eb_a5c0_0242ac1c0002row8_col7\" class=\"data row8 col7\" >239</td>\n",
              "                        <td id=\"T_2ee1b916_4c3c_11eb_a5c0_0242ac1c0002row8_col8\" class=\"data row8 col8\" >253</td>\n",
              "                        <td id=\"T_2ee1b916_4c3c_11eb_a5c0_0242ac1c0002row8_col9\" class=\"data row8 col9\" >253</td>\n",
              "                        <td id=\"T_2ee1b916_4c3c_11eb_a5c0_0242ac1c0002row8_col10\" class=\"data row8 col10\" >253</td>\n",
              "                        <td id=\"T_2ee1b916_4c3c_11eb_a5c0_0242ac1c0002row8_col11\" class=\"data row8 col11\" >187</td>\n",
              "                        <td id=\"T_2ee1b916_4c3c_11eb_a5c0_0242ac1c0002row8_col12\" class=\"data row8 col12\" >30</td>\n",
              "                        <td id=\"T_2ee1b916_4c3c_11eb_a5c0_0242ac1c0002row8_col13\" class=\"data row8 col13\" >0</td>\n",
              "                        <td id=\"T_2ee1b916_4c3c_11eb_a5c0_0242ac1c0002row8_col14\" class=\"data row8 col14\" >0</td>\n",
              "                        <td id=\"T_2ee1b916_4c3c_11eb_a5c0_0242ac1c0002row8_col15\" class=\"data row8 col15\" >0</td>\n",
              "                        <td id=\"T_2ee1b916_4c3c_11eb_a5c0_0242ac1c0002row8_col16\" class=\"data row8 col16\" >0</td>\n",
              "                        <td id=\"T_2ee1b916_4c3c_11eb_a5c0_0242ac1c0002row8_col17\" class=\"data row8 col17\" >0</td>\n",
              "            </tr>\n",
              "            <tr>\n",
              "                        <th id=\"T_2ee1b916_4c3c_11eb_a5c0_0242ac1c0002level0_row9\" class=\"row_heading level0 row9\" >9</th>\n",
              "                        <td id=\"T_2ee1b916_4c3c_11eb_a5c0_0242ac1c0002row9_col0\" class=\"data row9 col0\" >0</td>\n",
              "                        <td id=\"T_2ee1b916_4c3c_11eb_a5c0_0242ac1c0002row9_col1\" class=\"data row9 col1\" >0</td>\n",
              "                        <td id=\"T_2ee1b916_4c3c_11eb_a5c0_0242ac1c0002row9_col2\" class=\"data row9 col2\" >0</td>\n",
              "                        <td id=\"T_2ee1b916_4c3c_11eb_a5c0_0242ac1c0002row9_col3\" class=\"data row9 col3\" >0</td>\n",
              "                        <td id=\"T_2ee1b916_4c3c_11eb_a5c0_0242ac1c0002row9_col4\" class=\"data row9 col4\" >0</td>\n",
              "                        <td id=\"T_2ee1b916_4c3c_11eb_a5c0_0242ac1c0002row9_col5\" class=\"data row9 col5\" >16</td>\n",
              "                        <td id=\"T_2ee1b916_4c3c_11eb_a5c0_0242ac1c0002row9_col6\" class=\"data row9 col6\" >248</td>\n",
              "                        <td id=\"T_2ee1b916_4c3c_11eb_a5c0_0242ac1c0002row9_col7\" class=\"data row9 col7\" >250</td>\n",
              "                        <td id=\"T_2ee1b916_4c3c_11eb_a5c0_0242ac1c0002row9_col8\" class=\"data row9 col8\" >253</td>\n",
              "                        <td id=\"T_2ee1b916_4c3c_11eb_a5c0_0242ac1c0002row9_col9\" class=\"data row9 col9\" >253</td>\n",
              "                        <td id=\"T_2ee1b916_4c3c_11eb_a5c0_0242ac1c0002row9_col10\" class=\"data row9 col10\" >253</td>\n",
              "                        <td id=\"T_2ee1b916_4c3c_11eb_a5c0_0242ac1c0002row9_col11\" class=\"data row9 col11\" >253</td>\n",
              "                        <td id=\"T_2ee1b916_4c3c_11eb_a5c0_0242ac1c0002row9_col12\" class=\"data row9 col12\" >232</td>\n",
              "                        <td id=\"T_2ee1b916_4c3c_11eb_a5c0_0242ac1c0002row9_col13\" class=\"data row9 col13\" >213</td>\n",
              "                        <td id=\"T_2ee1b916_4c3c_11eb_a5c0_0242ac1c0002row9_col14\" class=\"data row9 col14\" >111</td>\n",
              "                        <td id=\"T_2ee1b916_4c3c_11eb_a5c0_0242ac1c0002row9_col15\" class=\"data row9 col15\" >2</td>\n",
              "                        <td id=\"T_2ee1b916_4c3c_11eb_a5c0_0242ac1c0002row9_col16\" class=\"data row9 col16\" >0</td>\n",
              "                        <td id=\"T_2ee1b916_4c3c_11eb_a5c0_0242ac1c0002row9_col17\" class=\"data row9 col17\" >0</td>\n",
              "            </tr>\n",
              "            <tr>\n",
              "                        <th id=\"T_2ee1b916_4c3c_11eb_a5c0_0242ac1c0002level0_row10\" class=\"row_heading level0 row10\" >10</th>\n",
              "                        <td id=\"T_2ee1b916_4c3c_11eb_a5c0_0242ac1c0002row10_col0\" class=\"data row10 col0\" >0</td>\n",
              "                        <td id=\"T_2ee1b916_4c3c_11eb_a5c0_0242ac1c0002row10_col1\" class=\"data row10 col1\" >0</td>\n",
              "                        <td id=\"T_2ee1b916_4c3c_11eb_a5c0_0242ac1c0002row10_col2\" class=\"data row10 col2\" >0</td>\n",
              "                        <td id=\"T_2ee1b916_4c3c_11eb_a5c0_0242ac1c0002row10_col3\" class=\"data row10 col3\" >0</td>\n",
              "                        <td id=\"T_2ee1b916_4c3c_11eb_a5c0_0242ac1c0002row10_col4\" class=\"data row10 col4\" >0</td>\n",
              "                        <td id=\"T_2ee1b916_4c3c_11eb_a5c0_0242ac1c0002row10_col5\" class=\"data row10 col5\" >0</td>\n",
              "                        <td id=\"T_2ee1b916_4c3c_11eb_a5c0_0242ac1c0002row10_col6\" class=\"data row10 col6\" >0</td>\n",
              "                        <td id=\"T_2ee1b916_4c3c_11eb_a5c0_0242ac1c0002row10_col7\" class=\"data row10 col7\" >43</td>\n",
              "                        <td id=\"T_2ee1b916_4c3c_11eb_a5c0_0242ac1c0002row10_col8\" class=\"data row10 col8\" >98</td>\n",
              "                        <td id=\"T_2ee1b916_4c3c_11eb_a5c0_0242ac1c0002row10_col9\" class=\"data row10 col9\" >98</td>\n",
              "                        <td id=\"T_2ee1b916_4c3c_11eb_a5c0_0242ac1c0002row10_col10\" class=\"data row10 col10\" >208</td>\n",
              "                        <td id=\"T_2ee1b916_4c3c_11eb_a5c0_0242ac1c0002row10_col11\" class=\"data row10 col11\" >253</td>\n",
              "                        <td id=\"T_2ee1b916_4c3c_11eb_a5c0_0242ac1c0002row10_col12\" class=\"data row10 col12\" >253</td>\n",
              "                        <td id=\"T_2ee1b916_4c3c_11eb_a5c0_0242ac1c0002row10_col13\" class=\"data row10 col13\" >253</td>\n",
              "                        <td id=\"T_2ee1b916_4c3c_11eb_a5c0_0242ac1c0002row10_col14\" class=\"data row10 col14\" >253</td>\n",
              "                        <td id=\"T_2ee1b916_4c3c_11eb_a5c0_0242ac1c0002row10_col15\" class=\"data row10 col15\" >187</td>\n",
              "                        <td id=\"T_2ee1b916_4c3c_11eb_a5c0_0242ac1c0002row10_col16\" class=\"data row10 col16\" >22</td>\n",
              "                        <td id=\"T_2ee1b916_4c3c_11eb_a5c0_0242ac1c0002row10_col17\" class=\"data row10 col17\" >0</td>\n",
              "            </tr>\n",
              "    </tbody></table>"
            ],
            "text/plain": [
              "<pandas.io.formats.style.Styler at 0x7f028c15f6a0>"
            ]
          },
          "metadata": {
            "tags": []
          },
          "execution_count": 11
        }
      ]
    },
    {
      "cell_type": "markdown",
      "metadata": {
        "id": "oMF9djuXQ5gX"
      },
      "source": [
        "# Pixel Similarity"
      ]
    },
    {
      "cell_type": "markdown",
      "metadata": {
        "id": "jSu2offSgghg"
      },
      "source": [
        "Find the average pixel value for every pixel of the 3s, then do the same for the 7s. This will give you the \"ideal\" number. Then, to classify an image as one digit or the other, we see which of these two ideal digits the image is most similar to. "
      ]
    },
    {
      "cell_type": "markdown",
      "metadata": {
        "id": "JBhZqpjihWqi"
      },
      "source": [
        "Get tensor of every image:"
      ]
    },
    {
      "cell_type": "code",
      "metadata": {
        "id": "ln0yoTHrPm-9"
      },
      "source": [
        "seven_tensors = [tensor(Image.open(o)) for o in sevens]\r\n",
        "three_tensors = [tensor(Image.open(o)) for o in threes]"
      ],
      "execution_count": 12,
      "outputs": []
    },
    {
      "cell_type": "markdown",
      "metadata": {
        "id": "4XBMXRFiiHPj"
      },
      "source": [
        "Number of items in list:"
      ]
    },
    {
      "cell_type": "code",
      "metadata": {
        "colab": {
          "base_uri": "https://localhost:8080/"
        },
        "id": "Wexi99TChpem",
        "outputId": "87f31098-4166-4ee7-b271-57635377678a"
      },
      "source": [
        "len(seven_tensors), len(three_tensors)"
      ],
      "execution_count": 13,
      "outputs": [
        {
          "output_type": "execute_result",
          "data": {
            "text/plain": [
              "(6265, 6131)"
            ]
          },
          "metadata": {
            "tags": []
          },
          "execution_count": 13
        }
      ]
    },
    {
      "cell_type": "markdown",
      "metadata": {
        "id": "DeDqx6MuiWpt"
      },
      "source": [
        "Show tensor as image:"
      ]
    },
    {
      "cell_type": "code",
      "metadata": {
        "colab": {
          "base_uri": "https://localhost:8080/",
          "height": 85
        },
        "id": "Y0kPF8BziQHH",
        "outputId": "d804a447-5080-402e-dca4-206d3907335b"
      },
      "source": [
        "show_image(three_tensors[1]);"
      ],
      "execution_count": 14,
      "outputs": [
        {
          "output_type": "display_data",
          "data": {
            "image/png": "[encoded data removed]",
            "text/plain": [
              "<Figure size 72x72 with 1 Axes>"
            ]
          },
          "metadata": {
            "tags": [],
            "needs_background": "light"
          }
        }
      ]
    },
    {
      "cell_type": "markdown",
      "metadata": {
        "id": "TDZD7o3ninus"
      },
      "source": [
        "For every pixel position we want to compute the average over all the images of the intensity of that pixel. Stack all images in the list into a single 3D-tesor. This is called a ``rank-3 tensor``.\r\n",
        "\r\n",
        "- First requirement is to convert from integer type to float type!\r\n",
        "- Divide by 255 in order to get values between 0 and 1"
      ]
    },
    {
      "cell_type": "code",
      "metadata": {
        "id": "Q905ba6YieOM"
      },
      "source": [
        "stacked_sevens = torch.stack(seven_tensors).float()/255 # stack tensors, convert to float and divide by 255\r\n",
        "stacked_threes = torch.stack(three_tensors).float()/255"
      ],
      "execution_count": 15,
      "outputs": []
    },
    {
      "cell_type": "markdown",
      "metadata": {
        "id": "IKWcpb9Ckbzt"
      },
      "source": [
        "Shape of tensor:\r\n",
        "\r\n",
        "We see 6131 images of size 28(height)x28(width)"
      ]
    },
    {
      "cell_type": "code",
      "metadata": {
        "colab": {
          "base_uri": "https://localhost:8080/"
        },
        "id": "eVTEHXIrkTIF",
        "outputId": "c7944612-c4fb-4a55-bde5-47cb66adf6af"
      },
      "source": [
        "stacked_threes.shape"
      ],
      "execution_count": 16,
      "outputs": [
        {
          "output_type": "execute_result",
          "data": {
            "text/plain": [
              "torch.Size([6131, 28, 28])"
            ]
          },
          "metadata": {
            "tags": []
          },
          "execution_count": 16
        }
      ]
    },
    {
      "cell_type": "markdown",
      "metadata": {
        "id": "nEzl7nblkqQV"
      },
      "source": [
        "The rank of the tensor is the *length* of its tensor shape: length <--> rank\r\n",
        "\r\n",
        "- **rank:** number of axis (dimensions) in a tensor\r\n",
        "- **shape:** size of each axis of a tensor"
      ]
    },
    {
      "cell_type": "code",
      "metadata": {
        "colab": {
          "base_uri": "https://localhost:8080/"
        },
        "id": "5w0aF-uTkmPH",
        "outputId": "eaf0ad82-f850-4bc9-ac43-35d3cba4b119"
      },
      "source": [
        "len(stacked_threes.shape)"
      ],
      "execution_count": 17,
      "outputs": [
        {
          "output_type": "execute_result",
          "data": {
            "text/plain": [
              "3"
            ]
          },
          "metadata": {
            "tags": []
          },
          "execution_count": 17
        }
      ]
    },
    {
      "cell_type": "markdown",
      "metadata": {
        "id": "BTLwmN-OnHhO"
      },
      "source": [
        "Different way to get the rank of tensor:"
      ]
    },
    {
      "cell_type": "code",
      "metadata": {
        "colab": {
          "base_uri": "https://localhost:8080/"
        },
        "id": "nSdCoCVolmx4",
        "outputId": "10397c27-e39e-4ed8-9de0-930f7099cce2"
      },
      "source": [
        "stacked_threes.ndim"
      ],
      "execution_count": 18,
      "outputs": [
        {
          "output_type": "execute_result",
          "data": {
            "text/plain": [
              "3"
            ]
          },
          "metadata": {
            "tags": []
          },
          "execution_count": 18
        }
      ]
    },
    {
      "cell_type": "markdown",
      "metadata": {
        "id": "x-DY1XtKn8qe"
      },
      "source": [
        "Get \"perfect\" 3 and 7:\r\n",
        "\r\n",
        "Take mean along axis 0 of stacked, rank-3 tensors"
      ]
    },
    {
      "cell_type": "code",
      "metadata": {
        "id": "c_eq5xcJnVtZ"
      },
      "source": [
        "mean3 = stacked_threes.mean(0)\r\n",
        "mean7 = stacked_sevens.mean(0)"
      ],
      "execution_count": 19,
      "outputs": []
    },
    {
      "cell_type": "markdown",
      "metadata": {
        "id": "A-JmYDTUo6ow"
      },
      "source": [
        "Show perfect number:"
      ]
    },
    {
      "cell_type": "code",
      "metadata": {
        "colab": {
          "base_uri": "https://localhost:8080/",
          "height": 85
        },
        "id": "OoO9rYIIo5OL",
        "outputId": "386ba8f8-3bfc-4771-db55-a6f78c0037f5"
      },
      "source": [
        "show_image(mean3);"
      ],
      "execution_count": 20,
      "outputs": [
        {
          "output_type": "display_data",
          "data": {
            "image/png": "[encoded data removed]",
            "text/plain": [
              "<Figure size 72x72 with 1 Axes>"
            ]
          },
          "metadata": {
            "tags": [],
            "needs_background": "light"
          }
        }
      ]
    },
    {
      "cell_type": "code",
      "metadata": {
        "colab": {
          "base_uri": "https://localhost:8080/",
          "height": 85
        },
        "id": "SJaYuCjtptMx",
        "outputId": "bf3ce65c-b635-4898-a6f0-efe6387e0bef"
      },
      "source": [
        "show_image(mean7);"
      ],
      "execution_count": 21,
      "outputs": [
        {
          "output_type": "display_data",
          "data": {
            "image/png": "[encoded data removed]",
            "text/plain": [
              "<Figure size 72x72 with 1 Axes>"
            ]
          },
          "metadata": {
            "tags": [],
            "needs_background": "light"
          }
        }
      ]
    },
    {
      "cell_type": "markdown",
      "metadata": {
        "id": "ROJxIJnWp5Bn"
      },
      "source": [
        "Take sample image:"
      ]
    },
    {
      "cell_type": "code",
      "metadata": {
        "colab": {
          "base_uri": "https://localhost:8080/",
          "height": 85
        },
        "id": "lH2qkZUNpzBE",
        "outputId": "b2e3c1cc-b07a-4558-8912-48c62e2e610c"
      },
      "source": [
        "a_3 = stacked_threes[1]\r\n",
        "show_image(a_3);"
      ],
      "execution_count": 22,
      "outputs": [
        {
          "output_type": "display_data",
          "data": {
            "image/png": "[encoded data removed]",
            "text/plain": [
              "<Figure size 72x72 with 1 Axes>"
            ]
          },
          "metadata": {
            "tags": [],
            "needs_background": "light"
          }
        }
      ]
    },
    {
      "cell_type": "markdown",
      "metadata": {
        "id": "wIt8Tt3Yqbr8"
      },
      "source": [
        "How to determine distance of sample \"3\" to image of perfect \"3\"?\r\n",
        "\r\n",
        "Two main ways to measure distance:"
      ]
    },
    {
      "cell_type": "markdown",
      "metadata": {
        "id": "ScMzRzDdiFtX"
      },
      "source": [
        "1) L1-norm or mean absolute error --> absolute value of difference"
      ]
    },
    {
      "cell_type": "code",
      "metadata": {
        "id": "bUr6QTYpqI8y"
      },
      "source": [
        "dist_3_abs = (a_3 - mean3).abs().mean()\r\n",
        "dist_7_abs = (a_3 - mean7).abs().mean()"
      ],
      "execution_count": 23,
      "outputs": []
    },
    {
      "cell_type": "markdown",
      "metadata": {
        "id": "xFLZLhmfi9nA"
      },
      "source": [
        "2) L2-norm or root mean squared error --> mean of the square of the difference\r\n",
        "\r\n",
        "Note: L2 penalies bigger mistakes more heavily than L1-norm"
      ]
    },
    {
      "cell_type": "code",
      "metadata": {
        "id": "fCzFXv5gi803"
      },
      "source": [
        "dist_3_sqr = ((a_3 - mean3)**2).mean().sqrt()\r\n",
        "dist_7_sqr = ((a_3 - mean7)**2).mean().sqrt()"
      ],
      "execution_count": 24,
      "outputs": []
    },
    {
      "cell_type": "markdown",
      "metadata": {
        "id": "VMKODmOlkJ-q"
      },
      "source": [
        "Compare results:"
      ]
    },
    {
      "cell_type": "code",
      "metadata": {
        "colab": {
          "base_uri": "https://localhost:8080/"
        },
        "id": "9LwVF-3AjiAU",
        "outputId": "e2bd7fc9-06d0-441f-bbe6-7a0e0eb9ca00"
      },
      "source": [
        "dist_3_abs, dist_3_sqr"
      ],
      "execution_count": 25,
      "outputs": [
        {
          "output_type": "execute_result",
          "data": {
            "text/plain": [
              "(tensor(0.1114), tensor(0.2021))"
            ]
          },
          "metadata": {
            "tags": []
          },
          "execution_count": 25
        }
      ]
    },
    {
      "cell_type": "code",
      "metadata": {
        "colab": {
          "base_uri": "https://localhost:8080/"
        },
        "id": "0LSpZMLsjq-H",
        "outputId": "7e9a1b7e-9004-41c9-9936-2a95894c934c"
      },
      "source": [
        "dist_7_abs, dist_7_sqr"
      ],
      "execution_count": 26,
      "outputs": [
        {
          "output_type": "execute_result",
          "data": {
            "text/plain": [
              "(tensor(0.1586), tensor(0.3021))"
            ]
          },
          "metadata": {
            "tags": []
          },
          "execution_count": 26
        }
      ]
    },
    {
      "cell_type": "markdown",
      "metadata": {
        "id": "DjHQeoWDkNDb"
      },
      "source": [
        "In both cases the distance between our 3 and \"ideal\" 3 is less than the distance to the \"ideal\" 7 --> this is what we would expect!"
      ]
    },
    {
      "cell_type": "code",
      "metadata": {
        "colab": {
          "base_uri": "https://localhost:8080/"
        },
        "id": "NpZPz3RmkE0l",
        "outputId": "8645868c-61cc-4878-8efa-88f06c4c2bc5"
      },
      "source": [
        "F.l1_loss(a_3.float(), mean3) # PyTorch function for L1"
      ],
      "execution_count": 27,
      "outputs": [
        {
          "output_type": "execute_result",
          "data": {
            "text/plain": [
              "tensor(0.1114)"
            ]
          },
          "metadata": {
            "tags": []
          },
          "execution_count": 27
        }
      ]
    },
    {
      "cell_type": "code",
      "metadata": {
        "colab": {
          "base_uri": "https://localhost:8080/"
        },
        "id": "GrqwM3aKlYC_",
        "outputId": "d7777e87-a5a4-4506-b15f-5a37ada0f640"
      },
      "source": [
        "F.mse_loss(a_3.float(), mean3).sqrt() # PyTorch function for L2"
      ],
      "execution_count": 28,
      "outputs": [
        {
          "output_type": "execute_result",
          "data": {
            "text/plain": [
              "tensor(0.2021)"
            ]
          },
          "metadata": {
            "tags": []
          },
          "execution_count": 28
        }
      ]
    },
    {
      "cell_type": "code",
      "metadata": {
        "colab": {
          "base_uri": "https://localhost:8080/"
        },
        "id": "y8xtEtjhlkGX",
        "outputId": "bbeb5cdc-9a32-453a-de33-59ba2a48f0ff"
      },
      "source": [
        "F.l1_loss(a_3.float(), mean7) # PyTorch function for L1"
      ],
      "execution_count": 29,
      "outputs": [
        {
          "output_type": "execute_result",
          "data": {
            "text/plain": [
              "tensor(0.1586)"
            ]
          },
          "metadata": {
            "tags": []
          },
          "execution_count": 29
        }
      ]
    },
    {
      "cell_type": "code",
      "metadata": {
        "colab": {
          "base_uri": "https://localhost:8080/"
        },
        "id": "zDCT-F6xl9p0",
        "outputId": "d742c589-5e1b-40d3-eaaa-e800f8583ac1"
      },
      "source": [
        "F.mse_loss(a_3.float(), mean7).sqrt() # PyTorch function for L2"
      ],
      "execution_count": 30,
      "outputs": [
        {
          "output_type": "execute_result",
          "data": {
            "text/plain": [
              "tensor(0.3021)"
            ]
          },
          "metadata": {
            "tags": []
          },
          "execution_count": 30
        }
      ]
    },
    {
      "cell_type": "markdown",
      "metadata": {
        "id": "JelXUHuImVoe"
      },
      "source": [
        "## Numpy arrays and PyTorch tensors\r\n",
        "\r\n",
        "- Numpy does not support using a GPU.\r\n",
        "- Numpy does not support calculating gradients. \r\n",
        "\r\n",
        "Both is important for Deep Learning."
      ]
    },
    {
      "cell_type": "code",
      "metadata": {
        "id": "93g_pAVjmCPf"
      },
      "source": [
        "data = [[1,2,3], [4,5,6]] # can be a list or list of list, or list of list of lists,..."
      ],
      "execution_count": 31,
      "outputs": []
    },
    {
      "cell_type": "code",
      "metadata": {
        "colab": {
          "base_uri": "https://localhost:8080/"
        },
        "id": "isuNBDOSrOkK",
        "outputId": "76f91fe0-7e0f-45ec-f47c-76d2d6b04aa0"
      },
      "source": [
        "arr = array(data) # create array\r\n",
        "arr"
      ],
      "execution_count": 32,
      "outputs": [
        {
          "output_type": "execute_result",
          "data": {
            "text/plain": [
              "array([[1, 2, 3],\n",
              "       [4, 5, 6]])"
            ]
          },
          "metadata": {
            "tags": []
          },
          "execution_count": 32
        }
      ]
    },
    {
      "cell_type": "code",
      "metadata": {
        "colab": {
          "base_uri": "https://localhost:8080/"
        },
        "id": "nLzEtGSPrWGq",
        "outputId": "cd0e2200-cfb8-4a53-9807-e714bc03711c"
      },
      "source": [
        "tns = tensor(data) # create tensor\r\n",
        "tns"
      ],
      "execution_count": 33,
      "outputs": [
        {
          "output_type": "execute_result",
          "data": {
            "text/plain": [
              "tensor([[1, 2, 3],\n",
              "        [4, 5, 6]])"
            ]
          },
          "metadata": {
            "tags": []
          },
          "execution_count": 33
        }
      ]
    },
    {
      "cell_type": "markdown",
      "metadata": {
        "id": "s4Qloqncr7J7"
      },
      "source": [
        "Select second row:"
      ]
    },
    {
      "cell_type": "code",
      "metadata": {
        "colab": {
          "base_uri": "https://localhost:8080/"
        },
        "id": "GoZpsumLrdC8",
        "outputId": "0a8d7cea-c014-4b03-a120-067285a7bb2f"
      },
      "source": [
        "tns[1]"
      ],
      "execution_count": 34,
      "outputs": [
        {
          "output_type": "execute_result",
          "data": {
            "text/plain": [
              "tensor([4, 5, 6])"
            ]
          },
          "metadata": {
            "tags": []
          },
          "execution_count": 34
        }
      ]
    },
    {
      "cell_type": "markdown",
      "metadata": {
        "id": "oP0eQhZnsCNH"
      },
      "source": [
        "Select all of second column:"
      ]
    },
    {
      "cell_type": "code",
      "metadata": {
        "colab": {
          "base_uri": "https://localhost:8080/"
        },
        "id": "NCyao0aIsAKx",
        "outputId": "8c1cb88a-6c0b-4370-b807-01d0380d4c68"
      },
      "source": [
        "tns[:,1]"
      ],
      "execution_count": 35,
      "outputs": [
        {
          "output_type": "execute_result",
          "data": {
            "text/plain": [
              "tensor([2, 5])"
            ]
          },
          "metadata": {
            "tags": []
          },
          "execution_count": 35
        }
      ]
    },
    {
      "cell_type": "markdown",
      "metadata": {
        "id": "FefLrK7csZ5_"
      },
      "source": [
        "Select second row from [start, end]"
      ]
    },
    {
      "cell_type": "code",
      "metadata": {
        "colab": {
          "base_uri": "https://localhost:8080/"
        },
        "id": "-9RWB2lEsToS",
        "outputId": "ae320a84-4005-4df9-e23a-f6d7a06a0b6d"
      },
      "source": [
        "tns[1,1:3]"
      ],
      "execution_count": 36,
      "outputs": [
        {
          "output_type": "execute_result",
          "data": {
            "text/plain": [
              "tensor([5, 6])"
            ]
          },
          "metadata": {
            "tags": []
          },
          "execution_count": 36
        }
      ]
    },
    {
      "cell_type": "markdown",
      "metadata": {
        "id": "t1m3iUqJthN7"
      },
      "source": [
        "Use standart operators like +, -, *, and /"
      ]
    },
    {
      "cell_type": "code",
      "metadata": {
        "colab": {
          "base_uri": "https://localhost:8080/"
        },
        "id": "XYfPIEJ6sryX",
        "outputId": "a364aa1f-82be-4ac7-93f0-c0471047a8c1"
      },
      "source": [
        "tns + 1"
      ],
      "execution_count": 37,
      "outputs": [
        {
          "output_type": "execute_result",
          "data": {
            "text/plain": [
              "tensor([[2, 3, 4],\n",
              "        [5, 6, 7]])"
            ]
          },
          "metadata": {
            "tags": []
          },
          "execution_count": 37
        }
      ]
    },
    {
      "cell_type": "markdown",
      "metadata": {
        "id": "jNTtHpKMtuqb"
      },
      "source": [
        "Check type of tensor:"
      ]
    },
    {
      "cell_type": "code",
      "metadata": {
        "colab": {
          "base_uri": "https://localhost:8080/",
          "height": 35
        },
        "id": "uNqATkzStqt4",
        "outputId": "aeea0085-a079-4e0b-9ff6-eedc8be7a330"
      },
      "source": [
        "tns.type()"
      ],
      "execution_count": 38,
      "outputs": [
        {
          "output_type": "execute_result",
          "data": {
            "application/vnd.google.colaboratory.intrinsic+json": {
              "type": "string"
            },
            "text/plain": [
              "'torch.LongTensor'"
            ]
          },
          "metadata": {
            "tags": []
          },
          "execution_count": 38
        }
      ]
    },
    {
      "cell_type": "markdown",
      "metadata": {
        "id": "QznP0HbFuAEj"
      },
      "source": [
        "Change type automaticaly when needed:"
      ]
    },
    {
      "cell_type": "code",
      "metadata": {
        "colab": {
          "base_uri": "https://localhost:8080/"
        },
        "id": "GLjVHRDrtyei",
        "outputId": "32174684-e730-4758-f7de-207d90e52893"
      },
      "source": [
        "tns * 1.5"
      ],
      "execution_count": 39,
      "outputs": [
        {
          "output_type": "execute_result",
          "data": {
            "text/plain": [
              "tensor([[1.5000, 3.0000, 4.5000],\n",
              "        [6.0000, 7.5000, 9.0000]])"
            ]
          },
          "metadata": {
            "tags": []
          },
          "execution_count": 39
        }
      ]
    },
    {
      "cell_type": "markdown",
      "metadata": {
        "id": "LI4dd9oSuNQB"
      },
      "source": [
        "# Computing Metrics Using Broadcasting\r\n",
        "The metric tells us, how good our model performce. For classification we often use ``accuracy`` as the metric.\r\n",
        "\r\n",
        "Let's create tensors for our 3s and 7s from the validation directory to test our \"model\". These are the tensors we will use to calculate a metric measuring the quality of our first-try model, which measures distance from an ideal image:"
      ]
    },
    {
      "cell_type": "code",
      "metadata": {
        "id": "ngF0Ze5luFBV"
      },
      "source": [
        "valid_3_tens = torch.stack([tensor(Image.open(o)) for o in (path/'valid'/'3').ls()]) # get tensor of every image\r\n",
        "valid_3_tens = valid_3_tens.float()/255 # convert to float and divide by 255"
      ],
      "execution_count": 40,
      "outputs": []
    },
    {
      "cell_type": "code",
      "metadata": {
        "id": "AWk_op6z0i9F"
      },
      "source": [
        "valid_7_tens = torch.stack([tensor(Image.open(o)) for o in (path/'valid'/'7').ls()]) # get tensor of every image\r\n",
        "valid_7_tens = valid_7_tens.float()/255 # convert to float and divide by 255"
      ],
      "execution_count": 41,
      "outputs": []
    },
    {
      "cell_type": "markdown",
      "metadata": {
        "id": "25qMQ-Q31oSw"
      },
      "source": [
        "Shape of tensor to count number of images in stack and size of images"
      ]
    },
    {
      "cell_type": "code",
      "metadata": {
        "colab": {
          "base_uri": "https://localhost:8080/"
        },
        "id": "rk2SmZAj1Y1E",
        "outputId": "c925ace2-0edd-4a64-b881-1af3bfcb4d7e"
      },
      "source": [
        "valid_3_tens.shape, valid_7_tens.shape"
      ],
      "execution_count": 42,
      "outputs": [
        {
          "output_type": "execute_result",
          "data": {
            "text/plain": [
              "(torch.Size([1010, 28, 28]), torch.Size([1028, 28, 28]))"
            ]
          },
          "metadata": {
            "tags": []
          },
          "execution_count": 42
        }
      ]
    },
    {
      "cell_type": "markdown",
      "metadata": {
        "id": "b0SxVkoz3WWB"
      },
      "source": [
        "Function that calculates distances between images based on mean absolut error (L1-norm):"
      ]
    },
    {
      "cell_type": "code",
      "metadata": {
        "id": "KP2cJinz1eho"
      },
      "source": [
        "def mnist_distance(a,b):\r\n",
        "  return (a-b).abs().mean((-1,-2))"
      ],
      "execution_count": 43,
      "outputs": []
    },
    {
      "cell_type": "markdown",
      "metadata": {
        "id": "dFNHUoc64E63"
      },
      "source": [
        "Input arbitrary sample ``a_3`` and \"ideal\" 3 ``mean3`` "
      ]
    },
    {
      "cell_type": "code",
      "metadata": {
        "colab": {
          "base_uri": "https://localhost:8080/"
        },
        "id": "LZ8hkKuU33D0",
        "outputId": "cd0c241d-3df1-4e98-87d9-69b2c1dbc43e"
      },
      "source": [
        "mnist_distance(a_3, mean3)  "
      ],
      "execution_count": 44,
      "outputs": [
        {
          "output_type": "execute_result",
          "data": {
            "text/plain": [
              "tensor(0.1114)"
            ]
          },
          "metadata": {
            "tags": []
          },
          "execution_count": 44
        }
      ]
    },
    {
      "cell_type": "markdown",
      "metadata": {
        "id": "9eVRLaKh7t5M"
      },
      "source": [
        "Calculate the distance to \"ideal\" 3 for *every* image in the validation set:"
      ]
    },
    {
      "cell_type": "code",
      "metadata": {
        "colab": {
          "base_uri": "https://localhost:8080/"
        },
        "id": "X2qx_4P43-8_",
        "outputId": "fd49fe0c-5a69-4ba4-fd20-7071f203e6b5"
      },
      "source": [
        "valid_3_dist = mnist_distance(valid_3_tens, mean3) # distance for every single image as a vector\r\n",
        "valid_3_dist"
      ],
      "execution_count": 45,
      "outputs": [
        {
          "output_type": "execute_result",
          "data": {
            "text/plain": [
              "tensor([0.1474, 0.1071, 0.1349,  ..., 0.1343, 0.1370, 0.1305])"
            ]
          },
          "metadata": {
            "tags": []
          },
          "execution_count": 45
        }
      ]
    },
    {
      "cell_type": "markdown",
      "metadata": {
        "id": "8g9ipwBP-3fR"
      },
      "source": [
        "Note: this only works because PyTorch tries to perform a simple substraction operation between two tensors of different ranks by using ``broadcasting``. It will automatically expand the tensor with the smaller rank to have the same size as the one with the larger rank. PyTorch treats ``mean3``, a rank 2 tensor representing a single image, as if it were 1010 copies of the same image, and then substracts each of those copies from each 3 in our validation set."
      ]
    },
    {
      "cell_type": "code",
      "metadata": {
        "colab": {
          "base_uri": "https://localhost:8080/"
        },
        "id": "E4gRUWsy8Jj6",
        "outputId": "666d3b55-781c-4991-d612-a93ef4b4c934"
      },
      "source": [
        "valid_3_dist.shape # length of vector"
      ],
      "execution_count": 46,
      "outputs": [
        {
          "output_type": "execute_result",
          "data": {
            "text/plain": [
              "torch.Size([1010])"
            ]
          },
          "metadata": {
            "tags": []
          },
          "execution_count": 46
        }
      ]
    },
    {
      "cell_type": "code",
      "metadata": {
        "colab": {
          "base_uri": "https://localhost:8080/"
        },
        "id": "vB31cgqn8UU3",
        "outputId": "b9b1098b-40cf-45d7-c31e-7d3c0aaad640"
      },
      "source": [
        "(valid_3_tens - mean3).shape"
      ],
      "execution_count": 47,
      "outputs": [
        {
          "output_type": "execute_result",
          "data": {
            "text/plain": [
              "torch.Size([1010, 28, 28])"
            ]
          },
          "metadata": {
            "tags": []
          },
          "execution_count": 47
        }
      ]
    },
    {
      "cell_type": "markdown",
      "metadata": {
        "id": "_VkAwksJFM3O"
      },
      "source": [
        "If the distance between the digit in question and the ideal 3 is less then the distance to the ideal 7, then it's a 3:"
      ]
    },
    {
      "cell_type": "code",
      "metadata": {
        "id": "ZnBli4MoAT6X"
      },
      "source": [
        "def is_3(x):\r\n",
        "  return mnist_distance(x, mean3) < mnist_distance(x, mean7)"
      ],
      "execution_count": 48,
      "outputs": []
    },
    {
      "cell_type": "markdown",
      "metadata": {
        "id": "0W9f1dn9GDMs"
      },
      "source": [
        "Apply function:"
      ]
    },
    {
      "cell_type": "code",
      "metadata": {
        "colab": {
          "base_uri": "https://localhost:8080/"
        },
        "id": "Z-cVD61eFzU7",
        "outputId": "3afdd334-3abb-4625-cc61-06d798cca6a7"
      },
      "source": [
        "is_3(a_3)"
      ],
      "execution_count": 49,
      "outputs": [
        {
          "output_type": "execute_result",
          "data": {
            "text/plain": [
              "tensor(True)"
            ]
          },
          "metadata": {
            "tags": []
          },
          "execution_count": 49
        }
      ]
    },
    {
      "cell_type": "code",
      "metadata": {
        "colab": {
          "base_uri": "https://localhost:8080/"
        },
        "id": "so_OMa8FF3LM",
        "outputId": "8b53551c-b186-483e-9252-78b81b7ad15f"
      },
      "source": [
        "is_3(a_3).float() # convert Boolean response to float"
      ],
      "execution_count": 50,
      "outputs": [
        {
          "output_type": "execute_result",
          "data": {
            "text/plain": [
              "tensor(1.)"
            ]
          },
          "metadata": {
            "tags": []
          },
          "execution_count": 50
        }
      ]
    },
    {
      "cell_type": "markdown",
      "metadata": {
        "id": "2DWWAai2Gjgr"
      },
      "source": [
        "Thanks to broadcasting we can test it on full validation set of 3s:"
      ]
    },
    {
      "cell_type": "code",
      "metadata": {
        "colab": {
          "base_uri": "https://localhost:8080/"
        },
        "id": "OBKFupa-GKhw",
        "outputId": "e7e2fb85-c4f6-421d-8902-7d37e25a3927"
      },
      "source": [
        "is_3(valid_3_tens)"
      ],
      "execution_count": 51,
      "outputs": [
        {
          "output_type": "execute_result",
          "data": {
            "text/plain": [
              "tensor([ True,  True,  True,  ..., False,  True,  True])"
            ]
          },
          "metadata": {
            "tags": []
          },
          "execution_count": 51
        }
      ]
    },
    {
      "cell_type": "markdown",
      "metadata": {
        "id": "RDqb6E_-HJX8"
      },
      "source": [
        "Calculate accuracy for each of the 3s and 7s:"
      ]
    },
    {
      "cell_type": "code",
      "metadata": {
        "id": "a529NfspGy_s"
      },
      "source": [
        "accuracy_3s = is_3(valid_3_tens).float().mean()\r\n",
        "accuracy_7s = (1- is_3(valid_7_tens).float()).mean()"
      ],
      "execution_count": 52,
      "outputs": []
    },
    {
      "cell_type": "code",
      "metadata": {
        "colab": {
          "base_uri": "https://localhost:8080/"
        },
        "id": "QPNc0gpCWaOq",
        "outputId": "4f5a97a2-26d8-4e36-8cd4-34294065de78"
      },
      "source": [
        "accuracy_3s"
      ],
      "execution_count": 53,
      "outputs": [
        {
          "output_type": "execute_result",
          "data": {
            "text/plain": [
              "tensor(0.9168)"
            ]
          },
          "metadata": {
            "tags": []
          },
          "execution_count": 53
        }
      ]
    },
    {
      "cell_type": "code",
      "metadata": {
        "colab": {
          "base_uri": "https://localhost:8080/"
        },
        "id": "H7uSnJK4WeRg",
        "outputId": "d843525e-0a89-480b-df00-afec5e97e554"
      },
      "source": [
        "accuracy_7s"
      ],
      "execution_count": 54,
      "outputs": [
        {
          "output_type": "execute_result",
          "data": {
            "text/plain": [
              "tensor(0.9854)"
            ]
          },
          "metadata": {
            "tags": []
          },
          "execution_count": 54
        }
      ]
    },
    {
      "cell_type": "code",
      "metadata": {
        "colab": {
          "base_uri": "https://localhost:8080/"
        },
        "id": "BWulwKaEWdUA",
        "outputId": "d88e6624-8ab1-422e-e1ea-aa93fe180bef"
      },
      "source": [
        "(accuracy_3s + accuracy_7s) / 2"
      ],
      "execution_count": 55,
      "outputs": [
        {
          "output_type": "execute_result",
          "data": {
            "text/plain": [
              "tensor(0.9511)"
            ]
          },
          "metadata": {
            "tags": []
          },
          "execution_count": 55
        }
      ]
    },
    {
      "cell_type": "markdown",
      "metadata": {
        "id": "cIekGJMCXAkF"
      },
      "source": [
        "We're getting over 90% accuracy ob both 3s and 7s!"
      ]
    },
    {
      "cell_type": "markdown",
      "metadata": {
        "id": "XGjKg9Z3XJb2"
      },
      "source": [
        "To imporove, let's now do some real learning --> time to talk about training process and SGD!"
      ]
    },
    {
      "cell_type": "markdown",
      "metadata": {
        "id": "9id6FigrXbJ3"
      },
      "source": [
        "# Stochastic Gradient Descent (SGD)\r\n",
        "\r\n",
        "Instead of trying to find the similarity between an image and an \"ideal image,\" we could instead look at each individual pixel and come up with a set of weights for each one, such that the highest weights are associated with those pixels most likely to be black for a particular category."
      ]
    },
    {
      "cell_type": "markdown",
      "metadata": {
        "id": "GNntwBDM57t0"
      },
      "source": [
        "Let's pretend that f(x) is our loss function, and x is a weight parameter of the function. If performance of model is good, the loss function returns a low number. A simmple way to figure out wheter a weight should be increased a bit or decreased a bit would be just by try it: increase the weight by a small amount, and see if the loss goes up or down. We calculate *gradients* to do this process."
      ]
    },
    {
      "cell_type": "code",
      "metadata": {
        "id": "yzn3oP2s9Ued",
        "colab": {
          "base_uri": "https://localhost:8080/"
        },
        "outputId": "530b3d6c-2d4a-48aa-b9c6-29f9280f0a2d"
      },
      "source": [
        "!pip install -Uqq fastbook\r\n",
        "import fastbook\r\n",
        "fastbook.setup_book()"
      ],
      "execution_count": 56,
      "outputs": [
        {
          "output_type": "stream",
          "text": [
            "\u001b[K     |████████████████████████████████| 727kB 14.9MB/s \n",
            "\u001b[K     |████████████████████████████████| 51kB 9.4MB/s \n",
            "\u001b[K     |████████████████████████████████| 1.1MB 56.6MB/s \n",
            "\u001b[?25hMounted at /content/gdrive\n"
          ],
          "name": "stdout"
        }
      ]
    },
    {
      "cell_type": "code",
      "metadata": {
        "id": "023Q0clg9W5V"
      },
      "source": [
        "from fastbook import *"
      ],
      "execution_count": 57,
      "outputs": []
    },
    {
      "cell_type": "code",
      "metadata": {
        "id": "91arvHq_Wsb3"
      },
      "source": [
        "def f(x):\r\n",
        "  return x**2"
      ],
      "execution_count": 58,
      "outputs": []
    },
    {
      "cell_type": "code",
      "metadata": {
        "colab": {
          "base_uri": "https://localhost:8080/",
          "height": 339
        },
        "id": "PQi3pp_e7Dg-",
        "outputId": "c0f4cd24-81f2-4ece-b034-d14a5d1f9a82"
      },
      "source": [
        "plot_function(f, 'x', 'x**2');"
      ],
      "execution_count": 59,
      "outputs": [
        {
          "output_type": "stream",
          "text": [
            "/usr/local/lib/python3.6/dist-packages/fastbook/__init__.py:73: UserWarning: Not providing a value for linspace's steps is deprecated and will throw a runtime error in a future release. This warning will appear only once per process. (Triggered internally at  /pytorch/aten/src/ATen/native/RangeFactories.cpp:23.)\n",
            "  x = torch.linspace(min,max)\n"
          ],
          "name": "stderr"
        },
        {
          "output_type": "display_data",
          "data": {
            "image/png": "[encoded data removed]",
            "text/plain": [
              "<Figure size 432x288 with 1 Axes>"
            ]
          },
          "metadata": {
            "tags": [],
            "needs_background": "light"
          }
        }
      ]
    },
    {
      "cell_type": "markdown",
      "metadata": {
        "id": "cRdKqeTZ_KmP"
      },
      "source": [
        "Picking some random value for a parameter, and calculating the value of the loss:"
      ]
    },
    {
      "cell_type": "code",
      "metadata": {
        "colab": {
          "base_uri": "https://localhost:8080/",
          "height": 285
        },
        "id": "9UKXgpxq84oF",
        "outputId": "ec3ae957-c02c-4528-d119-3d9452f2a78e"
      },
      "source": [
        "plot_function(f, 'x', 'x**2')\r\n",
        "plt.scatter(-1.5, f(-1.5), color='red');"
      ],
      "execution_count": 60,
      "outputs": [
        {
          "output_type": "display_data",
          "data": {
            "image/png": "[encoded data removed]",
            "text/plain": [
              "<Figure size 432x288 with 1 Axes>"
            ]
          },
          "metadata": {
            "tags": [],
            "needs_background": "light"
          }
        }
      ]
    },
    {
      "cell_type": "markdown",
      "metadata": {
        "id": "Oo-ACzKJDD6H"
      },
      "source": [
        "The one magic step is the bit where we calculate the gradients. As we mentioned, we use calculus as a performance optimization; it allows us to more quickly calculate whether our loss will go up or down when we adjust our parameters up or down. In other words, the gradients will tell us how much we have to change each weight to make our model better."
      ]
    },
    {
      "cell_type": "markdown",
      "metadata": {
        "id": "Odk0GneRTKux"
      },
      "source": [
        "## Calculating Gradients"
      ]
    },
    {
      "cell_type": "markdown",
      "metadata": {
        "id": "txelpjJlFHaX"
      },
      "source": [
        "PyTorch is able to automatically compute the derivative of nearly any function!\r\n",
        "In Deep Learning:\r\n",
        "- gradient is not a function\r\n",
        "- gradient is a value!"
      ]
    },
    {
      "cell_type": "markdown",
      "metadata": {
        "id": "JfkZfpoHHO4Q"
      },
      "source": [
        "Pick a tensor value at which we want gradients:"
      ]
    },
    {
      "cell_type": "code",
      "metadata": {
        "colab": {
          "base_uri": "https://localhost:8080/"
        },
        "id": "PEgqLWxC9GD7",
        "outputId": "34440091-602a-4378-808f-ce1a61baaf6f"
      },
      "source": [
        "xt = tensor(3.).requires_grad_()\r\n",
        "xt"
      ],
      "execution_count": 61,
      "outputs": [
        {
          "output_type": "execute_result",
          "data": {
            "text/plain": [
              "tensor(3., requires_grad=True)"
            ]
          },
          "metadata": {
            "tags": []
          },
          "execution_count": 61
        }
      ]
    },
    {
      "cell_type": "markdown",
      "metadata": {
        "id": "Y_8C_6KRHleC"
      },
      "source": [
        "Calculate value for our function (here: ``9 = 3**2``). We get:\r\n",
        "- value\r\n",
        "- gradient function that was used to calculate the gradient."
      ]
    },
    {
      "cell_type": "code",
      "metadata": {
        "colab": {
          "base_uri": "https://localhost:8080/"
        },
        "id": "yNLHJAglHZ-m",
        "outputId": "a921812b-b579-479f-cb71-16cec91d745a"
      },
      "source": [
        "yt = f(xt)\r\n",
        "yt"
      ],
      "execution_count": 62,
      "outputs": [
        {
          "output_type": "execute_result",
          "data": {
            "text/plain": [
              "tensor(9., grad_fn=<PowBackward0>)"
            ]
          },
          "metadata": {
            "tags": []
          },
          "execution_count": 62
        }
      ]
    },
    {
      "cell_type": "markdown",
      "metadata": {
        "id": "a9K-pJKeLh5t"
      },
      "source": [
        "Calculate gradients:\r\n",
        "- Life would be easier if ``backward`` was just called ``calculate_grad``"
      ]
    },
    {
      "cell_type": "code",
      "metadata": {
        "id": "vwj177sKHq5m"
      },
      "source": [
        "yt.backward()"
      ],
      "execution_count": 63,
      "outputs": []
    },
    {
      "cell_type": "markdown",
      "metadata": {
        "id": "8lhRvRfEMZJL"
      },
      "source": [
        "View gradients:"
      ]
    },
    {
      "cell_type": "code",
      "metadata": {
        "colab": {
          "base_uri": "https://localhost:8080/"
        },
        "id": "s94vg2cwLnGK",
        "outputId": "9361a57d-118b-46a4-d13f-f94bca606e1d"
      },
      "source": [
        "xt.grad"
      ],
      "execution_count": 64,
      "outputs": [
        {
          "output_type": "execute_result",
          "data": {
            "text/plain": [
              "tensor(6.)"
            ]
          },
          "metadata": {
            "tags": []
          },
          "execution_count": 64
        }
      ]
    },
    {
      "cell_type": "markdown",
      "metadata": {
        "id": "Rh9M7Ca-M3Ss"
      },
      "source": [
        "Repeat the preceding steps, but with a vector argument for our function \r\n",
        "\r\n",
        "--> values at which we want gradients!"
      ]
    },
    {
      "cell_type": "code",
      "metadata": {
        "id": "s0ETQjOGMdWR"
      },
      "source": [
        "xt = tensor([3., 4., 10.]).requires_grad_()"
      ],
      "execution_count": 65,
      "outputs": []
    },
    {
      "cell_type": "markdown",
      "metadata": {
        "id": "kqNaJrMvN_BC"
      },
      "source": [
        "Change our function so that it can take a vector (rank-1 tensor) and return a scalar (rank-0 tensor)"
      ]
    },
    {
      "cell_type": "code",
      "metadata": {
        "id": "qNTVVV-jNFu7"
      },
      "source": [
        "def f(x):\r\n",
        "  return (x**2).sum()"
      ],
      "execution_count": 66,
      "outputs": []
    },
    {
      "cell_type": "markdown",
      "metadata": {
        "id": "bpFO1VmeOizS"
      },
      "source": [
        "Calculate value for our function (here: ``125 = 3**2 + 4**2 + 10**2``). We get:\r\n",
        "\r\n",
        "value\r\n",
        "gradient function that was used to calculate the gradient."
      ]
    },
    {
      "cell_type": "code",
      "metadata": {
        "colab": {
          "base_uri": "https://localhost:8080/"
        },
        "id": "miAOYqW2OVUr",
        "outputId": "95084efa-752b-4eb9-e1a7-0430b5c8ee19"
      },
      "source": [
        "yt = f(xt)\r\n",
        "yt"
      ],
      "execution_count": 67,
      "outputs": [
        {
          "output_type": "execute_result",
          "data": {
            "text/plain": [
              "tensor(125., grad_fn=<SumBackward0>)"
            ]
          },
          "metadata": {
            "tags": []
          },
          "execution_count": 67
        }
      ]
    },
    {
      "cell_type": "markdown",
      "metadata": {
        "id": "nfd8LFTUPvRZ"
      },
      "source": [
        "As expected, our gradients are ``2*xt``:"
      ]
    },
    {
      "cell_type": "code",
      "metadata": {
        "colab": {
          "base_uri": "https://localhost:8080/"
        },
        "id": "hUM_c6-APkTh",
        "outputId": "ace38404-7f27-4d9c-b4e8-2ba053a2ee81"
      },
      "source": [
        "yt.backward() # --> calculate gradients\r\n",
        "xt.grad # --> view tells us the slope of our function"
      ],
      "execution_count": 68,
      "outputs": [
        {
          "output_type": "execute_result",
          "data": {
            "text/plain": [
              "tensor([ 6.,  8., 20.])"
            ]
          },
          "metadata": {
            "tags": []
          },
          "execution_count": 68
        }
      ]
    },
    {
      "cell_type": "markdown",
      "metadata": {
        "id": "abf31nKWS9HH"
      },
      "source": [
        "- If the slope is very small, that may suggest that we are close to the optimal value.\r\n",
        "- Gradient tells us to change our parameters in order to minimize loss\r\n",
        "- Next, multiply gradient by some small number, called the ***learning rate***"
      ]
    },
    {
      "cell_type": "markdown",
      "metadata": {
        "id": "XqdB3Vk0TVX6"
      },
      "source": [
        "## An End-to-End SGD Example\r\n",
        "\r\n",
        "Create simple example to show how to use SGD."
      ]
    },
    {
      "cell_type": "markdown",
      "metadata": {
        "id": "F-HYf7eGhIK7"
      },
      "source": [
        "Imagine, you were measuring the speed of your bike as it went over the top of a hump. You measured every second for 20 seconds:"
      ]
    },
    {
      "cell_type": "code",
      "metadata": {
        "id": "DN_TIiERTR-x",
        "colab": {
          "base_uri": "https://localhost:8080/"
        },
        "outputId": "f3fd2d32-59de-46e1-985d-d73b41b674ae"
      },
      "source": [
        "time = torch.arange(0,20).float()\r\n",
        "time"
      ],
      "execution_count": 69,
      "outputs": [
        {
          "output_type": "execute_result",
          "data": {
            "text/plain": [
              "tensor([ 0.,  1.,  2.,  3.,  4.,  5.,  6.,  7.,  8.,  9., 10., 11., 12., 13., 14., 15., 16., 17., 18., 19.])"
            ]
          },
          "metadata": {
            "tags": []
          },
          "execution_count": 69
        }
      ]
    },
    {
      "cell_type": "markdown",
      "metadata": {
        "id": "jFwgLpePh8jC"
      },
      "source": [
        "Plot speed vs time:\r\n"
      ]
    },
    {
      "cell_type": "code",
      "metadata": {
        "colab": {
          "base_uri": "https://localhost:8080/",
          "height": 268
        },
        "id": "DOjynCH3gpwv",
        "outputId": "89646cd5-5d9b-46db-e2df-ba83dc3d929b"
      },
      "source": [
        "speed = torch.randn(20)*3 + 0.75*(time-9.5)**2 + 1  # 20 data points in parabolic shape\r\n",
        "plt.scatter(time, speed);"
      ],
      "execution_count": 70,
      "outputs": [
        {
          "output_type": "display_data",
          "data": {
            "image/png": "[encoded data removed]",
            "text/plain": [
              "<Figure size 432x288 with 1 Axes>"
            ]
          },
          "metadata": {
            "tags": [],
            "needs_background": "light"
          }
        }
      ]
    },
    {
      "cell_type": "markdown",
      "metadata": {
        "id": "33ppSoZJihfX"
      },
      "source": [
        "We guess that the function underlying is quadratic:"
      ]
    },
    {
      "cell_type": "code",
      "metadata": {
        "id": "1RcENpYViSqf"
      },
      "source": [
        "def f(t, params):\r\n",
        "  a, b, c = params\r\n",
        "  return a*(t**2) + (b*t) + c # general form of quadratic function"
      ],
      "execution_count": 71,
      "outputs": []
    },
    {
      "cell_type": "markdown",
      "metadata": {
        "id": "WQzp7sZWjUrt"
      },
      "source": [
        "We want to find the best (quadratic) function that fits the data! Function is fully defined by the ``params`` ``a``, ``b``, ``c``.\r\n",
        "\r\n",
        "**NOTE:** This approach can be applied to any function, for example a complex function with more parameters - such as a neural network."
      ]
    },
    {
      "cell_type": "markdown",
      "metadata": {
        "id": "PYHsisrolL8-"
      },
      "source": [
        "Define loss-function:\r\n",
        "\r\n",
        "- Lower loss <--> better predictions"
      ]
    },
    {
      "cell_type": "code",
      "metadata": {
        "id": "E2Ffa9bfjTOC"
      },
      "source": [
        "def mse(preds, target):\r\n",
        "  return ((preds-target)**2).mean()  # for continues data it's common to use mean squared error"
      ],
      "execution_count": 72,
      "outputs": []
    },
    {
      "cell_type": "markdown",
      "metadata": {
        "id": "53HUsytxlr3T"
      },
      "source": [
        "### Step 1: Initialize the parameters\r\n",
        "- Create 3 random values to initialize our parameters\r\n",
        "- Tell PyTorch that we want to track their gradients using ``requires_grad_()``, so that we can later get the gradients"
      ]
    },
    {
      "cell_type": "code",
      "metadata": {
        "colab": {
          "base_uri": "https://localhost:8080/"
        },
        "id": "udUJI0TGlpV1",
        "outputId": "630eeead-e54d-42c6-a5ce-384fded61b7b"
      },
      "source": [
        "params = torch.randn(3).requires_grad_()\r\n",
        "params"
      ],
      "execution_count": 73,
      "outputs": [
        {
          "output_type": "execute_result",
          "data": {
            "text/plain": [
              "tensor([-0.7658, -0.7506,  1.3525], requires_grad=True)"
            ]
          },
          "metadata": {
            "tags": []
          },
          "execution_count": 73
        }
      ]
    },
    {
      "cell_type": "markdown",
      "metadata": {
        "id": "hmnuvdgiuS5E"
      },
      "source": [
        "Get values of params:"
      ]
    },
    {
      "cell_type": "code",
      "metadata": {
        "colab": {
          "base_uri": "https://localhost:8080/"
        },
        "id": "7IJ-EEksuXun",
        "outputId": "fe0e24c4-dfa9-4560-ad7c-7b8714d924f5"
      },
      "source": [
        "params.data"
      ],
      "execution_count": 74,
      "outputs": [
        {
          "output_type": "execute_result",
          "data": {
            "text/plain": [
              "tensor([-0.7658, -0.7506,  1.3525])"
            ]
          },
          "metadata": {
            "tags": []
          },
          "execution_count": 74
        }
      ]
    },
    {
      "cell_type": "markdown",
      "metadata": {
        "id": "2Jl7KnB0n7XN"
      },
      "source": [
        "### Step 2: Calculate the predictions"
      ]
    },
    {
      "cell_type": "code",
      "metadata": {
        "id": "6FLxJ3BOmhA5"
      },
      "source": [
        "preds = f(time, params)"
      ],
      "execution_count": 75,
      "outputs": []
    },
    {
      "cell_type": "markdown",
      "metadata": {
        "id": "Wo_xn-q6ptzo"
      },
      "source": [
        "Plot predictions"
      ]
    },
    {
      "cell_type": "code",
      "metadata": {
        "id": "wEHSG8cao_zW"
      },
      "source": [
        "def show_preds(preds, ax=None):\r\n",
        "    if ax is None: ax=plt.subplots()[1]\r\n",
        "    ax.scatter(time, speed)\r\n",
        "    ax.scatter(time, to_np(preds), color='red')\r\n",
        "    ax.set_ylim(-300,100)"
      ],
      "execution_count": 76,
      "outputs": []
    },
    {
      "cell_type": "code",
      "metadata": {
        "colab": {
          "base_uri": "https://localhost:8080/",
          "height": 273
        },
        "id": "wgtYN-PFqF7n",
        "outputId": "d4f5ac35-86db-499a-d0f0-164c8cc67f3c"
      },
      "source": [
        "# blue:target, red:predictions\r\n",
        "show_preds(preds)"
      ],
      "execution_count": 77,
      "outputs": [
        {
          "output_type": "display_data",
          "data": {
            "image/png": "[encoded data removed]",
            "text/plain": [
              "<Figure size 432x288 with 1 Axes>"
            ]
          },
          "metadata": {
            "tags": [],
            "needs_background": "light"
          }
        }
      ]
    },
    {
      "cell_type": "markdown",
      "metadata": {
        "id": "b8dYJiBwrD7V"
      },
      "source": [
        "### Step 3: Calculate the loss"
      ]
    },
    {
      "cell_type": "code",
      "metadata": {
        "colab": {
          "base_uri": "https://localhost:8080/"
        },
        "id": "mMo7W6lMqJEo",
        "outputId": "0b9e8ee6-279b-4d42-bad3-48e6bb55852f"
      },
      "source": [
        "loss = mse(preds, speed)\r\n",
        "loss"
      ],
      "execution_count": 78,
      "outputs": [
        {
          "output_type": "execute_result",
          "data": {
            "text/plain": [
              "tensor(25823.8086, grad_fn=<MeanBackward0>)"
            ]
          },
          "metadata": {
            "tags": []
          },
          "execution_count": 78
        }
      ]
    },
    {
      "cell_type": "markdown",
      "metadata": {
        "id": "nzkT9hzJrXxf"
      },
      "source": [
        "### Step 4: Calculate the gradients\r\n",
        "To improve the result, we need to know the gradients."
      ]
    },
    {
      "cell_type": "code",
      "metadata": {
        "colab": {
          "base_uri": "https://localhost:8080/"
        },
        "id": "8wlRapUFrREP",
        "outputId": "74d9694d-2719-49d6-c388-8952d3b6318e"
      },
      "source": [
        "loss.backward() # calculate gradients\r\n",
        "params.grad # view gradients"
      ],
      "execution_count": 79,
      "outputs": [
        {
          "output_type": "execute_result",
          "data": {
            "text/plain": [
              "tensor([-53195.8633,  -3419.7148,   -253.8908])"
            ]
          },
          "metadata": {
            "tags": []
          },
          "execution_count": 79
        }
      ]
    },
    {
      "cell_type": "markdown",
      "metadata": {
        "id": "3MWoQ6EPs5ci"
      },
      "source": [
        "Multiply with a small learning rate:"
      ]
    },
    {
      "cell_type": "code",
      "metadata": {
        "colab": {
          "base_uri": "https://localhost:8080/"
        },
        "id": "0_tON5FjsZEj",
        "outputId": "0d54f1ef-f2fd-42c8-a5e1-0b8133aa4af1"
      },
      "source": [
        "lr = 1e-5\r\n",
        "params.grad * lr"
      ],
      "execution_count": 80,
      "outputs": [
        {
          "output_type": "execute_result",
          "data": {
            "text/plain": [
              "tensor([-0.5320, -0.0342, -0.0025])"
            ]
          },
          "metadata": {
            "tags": []
          },
          "execution_count": 80
        }
      ]
    },
    {
      "cell_type": "markdown",
      "metadata": {
        "id": "JOLNEJiQtFDg"
      },
      "source": [
        "### Step 5: Step the weights\r\n",
        "Update the params based on gradients:"
      ]
    },
    {
      "cell_type": "code",
      "metadata": {
        "id": "rIjuMqHrr3mW"
      },
      "source": [
        "params.data -= lr * params.grad.data # update params and hope that this time they fit better\r\n",
        "params.grad = None "
      ],
      "execution_count": 81,
      "outputs": []
    },
    {
      "cell_type": "markdown",
      "metadata": {
        "id": "KJPrAy3iu4kt"
      },
      "source": [
        "Check if loss has improved (is lower):"
      ]
    },
    {
      "cell_type": "code",
      "metadata": {
        "id": "xqxxAxp-teGr"
      },
      "source": [
        "preds = f(time, params) # calculate predictions again"
      ],
      "execution_count": 82,
      "outputs": []
    },
    {
      "cell_type": "code",
      "metadata": {
        "colab": {
          "base_uri": "https://localhost:8080/"
        },
        "id": "1VtbO373wszN",
        "outputId": "f8f12e93-6bf8-41c8-ac2b-d0c8a7650d5e"
      },
      "source": [
        "mse(preds, speed) "
      ],
      "execution_count": 83,
      "outputs": [
        {
          "output_type": "execute_result",
          "data": {
            "text/plain": [
              "tensor(5435.5356, grad_fn=<MeanBackward0>)"
            ]
          },
          "metadata": {
            "tags": []
          },
          "execution_count": 83
        }
      ]
    },
    {
      "cell_type": "markdown",
      "metadata": {
        "id": "Psxm616Ow1B5"
      },
      "source": [
        "Plot predictions:"
      ]
    },
    {
      "cell_type": "code",
      "metadata": {
        "colab": {
          "base_uri": "https://localhost:8080/",
          "height": 273
        },
        "id": "O-ejWOTjwxEs",
        "outputId": "5e97728f-e2f4-4471-8876-5b78d9e898ab"
      },
      "source": [
        "# blue:target, red:predictions\r\n",
        "show_preds(preds)"
      ],
      "execution_count": 84,
      "outputs": [
        {
          "output_type": "display_data",
          "data": {
            "image/png": "[encoded data removed]",
            "text/plain": [
              "<Figure size 432x288 with 1 Axes>"
            ]
          },
          "metadata": {
            "tags": [],
            "needs_background": "light"
          }
        }
      ]
    },
    {
      "cell_type": "markdown",
      "metadata": {
        "id": "bdWuj_OIx9iX"
      },
      "source": [
        "### Step 6: Repeat the process\r\n",
        "Repeat this a few times."
      ]
    },
    {
      "cell_type": "code",
      "metadata": {
        "id": "75LS4gWgw6sx"
      },
      "source": [
        "def apply_step(params, prn=True):\r\n",
        "    preds = f(time, params)\r\n",
        "    loss = mse(preds, speed)\r\n",
        "    loss.backward()\r\n",
        "    params.data -= lr * params.grad.data\r\n",
        "    params.grad = None\r\n",
        "    if prn: print(loss.item())\r\n",
        "    return preds"
      ],
      "execution_count": 85,
      "outputs": []
    },
    {
      "cell_type": "markdown",
      "metadata": {
        "id": "DbWPo8OMyhSn"
      },
      "source": [
        "The loss is going down:"
      ]
    },
    {
      "cell_type": "code",
      "metadata": {
        "colab": {
          "base_uri": "https://localhost:8080/"
        },
        "id": "uPe2ZZGjySec",
        "outputId": "8ae31712-6be2-4d20-fddc-0c9acfbfa2b4"
      },
      "source": [
        "for i in range(20):\r\n",
        "  apply_step(params)"
      ],
      "execution_count": 86,
      "outputs": [
        {
          "output_type": "stream",
          "text": [
            "5435.53564453125\n",
            "1577.44921875\n",
            "847.3778076171875\n",
            "709.2225341796875\n",
            "683.0758056640625\n",
            "678.1243896484375\n",
            "677.1838989257812\n",
            "677.0023803710938\n",
            "676.9645385742188\n",
            "676.9537353515625\n",
            "676.9480590820312\n",
            "676.9434814453125\n",
            "676.9390869140625\n",
            "676.9346923828125\n",
            "676.93017578125\n",
            "676.9259033203125\n",
            "676.9213256835938\n",
            "676.9171142578125\n",
            "676.9126586914062\n",
            "676.9082641601562\n"
          ],
          "name": "stdout"
        }
      ]
    },
    {
      "cell_type": "markdown",
      "metadata": {
        "id": "CK3UNr5DygBd"
      },
      "source": [
        "Plot function at every step:"
      ]
    },
    {
      "cell_type": "code",
      "metadata": {
        "colab": {
          "base_uri": "https://localhost:8080/",
          "height": 221
        },
        "id": "81qhYTqEyaJX",
        "outputId": "d3a0aadc-df19-4511-fc6f-f78e417f2988"
      },
      "source": [
        "_,axs = plt.subplots(1,4,figsize=(12,3))\r\n",
        "for ax in axs: show_preds(apply_step(params, False), ax)\r\n",
        "plt.tight_layout()"
      ],
      "execution_count": 87,
      "outputs": [
        {
          "output_type": "display_data",
          "data": {
            "image/png": "[encoded data removed]",
            "text/plain": [
              "<Figure size 864x216 with 4 Axes>"
            ]
          },
          "metadata": {
            "tags": [],
            "needs_background": "light"
          }
        }
      ]
    },
    {
      "cell_type": "markdown",
      "metadata": {
        "id": "a3AK2gLszA1J"
      },
      "source": [
        "### Step 7: Stop\r\n",
        "Stop once you are satisfied with the result"
      ]
    },
    {
      "cell_type": "markdown",
      "metadata": {
        "id": "hLs9dFpYW-8Z"
      },
      "source": [
        "# The MNIST loss function\r\n",
        "\r\n",
        "We take our 3D tensors and concatenate them into a single tensor"
      ]
    },
    {
      "cell_type": "code",
      "metadata": {
        "id": "f5tCiaTpyzAW"
      },
      "source": [
        "train_x = torch.cat([stacked_threes, stacked_sevens])"
      ],
      "execution_count": 88,
      "outputs": []
    },
    {
      "cell_type": "markdown",
      "metadata": {
        "id": "scQKjJX8Y5Rt"
      },
      "source": [
        "Shape of tensor:\r\n",
        "\r\n",
        "We see 12396 images of size 28(height)x28(width)"
      ]
    },
    {
      "cell_type": "code",
      "metadata": {
        "colab": {
          "base_uri": "https://localhost:8080/"
        },
        "id": "UQuptchBYcxW",
        "outputId": "ef0a9ba0-6b55-4c76-89bc-e4cb9844c887"
      },
      "source": [
        "train_x.shape"
      ],
      "execution_count": 90,
      "outputs": [
        {
          "output_type": "execute_result",
          "data": {
            "text/plain": [
              "torch.Size([12396, 28, 28])"
            ]
          },
          "metadata": {
            "tags": []
          },
          "execution_count": 90
        }
      ]
    },
    {
      "cell_type": "markdown",
      "metadata": {
        "id": "dbp4JubOY-A1"
      },
      "source": [
        "We change shape of single tensor from a list of matrices (a rank-3 tensor) to a list of vectors (a rank-2 tensor) without changing its content:"
      ]
    },
    {
      "cell_type": "code",
      "metadata": {
        "id": "L2rFEw1FYeFi"
      },
      "source": [
        "train_x = train_x.view(-1, 28*28)"
      ],
      "execution_count": 91,
      "outputs": []
    },
    {
      "cell_type": "markdown",
      "metadata": {
        "id": "iJ6dyrd1Zzgp"
      },
      "source": [
        "Shape of tensor:"
      ]
    },
    {
      "cell_type": "code",
      "metadata": {
        "colab": {
          "base_uri": "https://localhost:8080/"
        },
        "id": "dwe02gduZrFZ",
        "outputId": "dc032521-a55b-4048-f977-43b4cd2288f3"
      },
      "source": [
        "train_x.shape"
      ],
      "execution_count": 92,
      "outputs": [
        {
          "output_type": "execute_result",
          "data": {
            "text/plain": [
              "torch.Size([12396, 784])"
            ]
          },
          "metadata": {
            "tags": []
          },
          "execution_count": 92
        }
      ]
    },
    {
      "cell_type": "markdown",
      "metadata": {
        "id": "x9S1hwa1aG7c"
      },
      "source": [
        "We need label for each image:\r\n",
        "- ``1`` for 3s\r\n",
        "- ``0`` for 7s"
      ]
    },
    {
      "cell_type": "code",
      "metadata": {
        "colab": {
          "base_uri": "https://localhost:8080/"
        },
        "id": "ApnWl59sZthU",
        "outputId": "98ee203f-e2c3-48df-85c4-342c06fa7c9b"
      },
      "source": [
        "train_y = tensor([1]*len(threes) + [0]*len(sevens)).unsqueeze(1)\r\n",
        "train_y"
      ],
      "execution_count": 96,
      "outputs": [
        {
          "output_type": "execute_result",
          "data": {
            "text/plain": [
              "tensor([[1],\n",
              "        [1],\n",
              "        [1],\n",
              "        ...,\n",
              "        [0],\n",
              "        [0],\n",
              "        [0]])"
            ]
          },
          "metadata": {
            "tags": []
          },
          "execution_count": 96
        }
      ]
    },
    {
      "cell_type": "code",
      "metadata": {
        "colab": {
          "base_uri": "https://localhost:8080/"
        },
        "id": "GanHnQPrbD1c",
        "outputId": "b6d09585-b16a-41e5-8617-1f7957088b37"
      },
      "source": [
        "train_y.shape"
      ],
      "execution_count": 97,
      "outputs": [
        {
          "output_type": "execute_result",
          "data": {
            "text/plain": [
              "torch.Size([12396, 1])"
            ]
          },
          "metadata": {
            "tags": []
          },
          "execution_count": 97
        }
      ]
    },
    {
      "cell_type": "markdown",
      "metadata": {
        "id": "pTK0KPfqbecG"
      },
      "source": [
        "A ``Dataset`` in PyTorch is required to return a tuple of (x,y):"
      ]
    },
    {
      "cell_type": "code",
      "metadata": {
        "id": "hOezsuTwbF97"
      },
      "source": [
        "dset = list(zip(train_x, train_y))"
      ],
      "execution_count": 98,
      "outputs": []
    },
    {
      "cell_type": "markdown",
      "metadata": {
        "id": "NK_OUVkJcBLt"
      },
      "source": [
        "Check:\r\n",
        "- x represents a image converted as a list\r\n",
        "- y represent label of image"
      ]
    },
    {
      "cell_type": "code",
      "metadata": {
        "id": "zOn8M0r9buay"
      },
      "source": [
        "x,y = dset[0]"
      ],
      "execution_count": 99,
      "outputs": []
    },
    {
      "cell_type": "code",
      "metadata": {
        "colab": {
          "base_uri": "https://localhost:8080/"
        },
        "id": "tLsl1FlEb02D",
        "outputId": "6dc21b56-cf01-4c46-a4cb-10c5a61458b8"
      },
      "source": [
        "x.shape"
      ],
      "execution_count": 104,
      "outputs": [
        {
          "output_type": "execute_result",
          "data": {
            "text/plain": [
              "torch.Size([784])"
            ]
          },
          "metadata": {
            "tags": []
          },
          "execution_count": 104
        }
      ]
    },
    {
      "cell_type": "code",
      "metadata": {
        "colab": {
          "base_uri": "https://localhost:8080/"
        },
        "id": "ho07JbRRb2lR",
        "outputId": "7e256b0c-c934-43fa-c552-dbbd3e6e2616"
      },
      "source": [
        "y.shape"
      ],
      "execution_count": 105,
      "outputs": [
        {
          "output_type": "execute_result",
          "data": {
            "text/plain": [
              "torch.Size([1])"
            ]
          },
          "metadata": {
            "tags": []
          },
          "execution_count": 105
        }
      ]
    },
    {
      "cell_type": "markdown",
      "metadata": {
        "id": "c4dIq5Krefqv"
      },
      "source": [
        "We repeat steps for the validation set:"
      ]
    },
    {
      "cell_type": "code",
      "metadata": {
        "id": "7GblZZEXdvAr"
      },
      "source": [
        "valid_x = torch.cat([valid_3_tens, valid_7_tens]).view(-1, 28*28)\r\n",
        "valid_y = tensor([1]*len(valid_3_tens) + [0]*len(valid_7_tens)).unsqueeze(1)\r\n",
        "valid_dset = list(zip(valid_x,valid_y))"
      ],
      "execution_count": 106,
      "outputs": []
    },
    {
      "cell_type": "markdown",
      "metadata": {
        "id": "ul7TeMd7f2Sz"
      },
      "source": [
        "\r\n",
        "Now we need an (initially random) weight for every pixel (this is the initialize step in our seven-step process):\r\n",
        "- Tell PyTorch that we want to track their gradients using ``requires_grad_()``, so that we can later get the gradients"
      ]
    },
    {
      "cell_type": "code",
      "metadata": {
        "id": "s54DVm9df5qR"
      },
      "source": [
        "def init_params(size, std=1.0): \r\n",
        "  return (torch.randn(size)*std).requires_grad_()"
      ],
      "execution_count": 107,
      "outputs": []
    },
    {
      "cell_type": "code",
      "metadata": {
        "id": "X0556O9ig6b8"
      },
      "source": [
        "weights = init_params((28*28, 1))"
      ],
      "execution_count": 108,
      "outputs": []
    },
    {
      "cell_type": "markdown",
      "metadata": {
        "id": "pn0Easw1gzc8"
      },
      "source": [
        "Define ``bias``:"
      ]
    },
    {
      "cell_type": "code",
      "metadata": {
        "id": "rnTnbeGIgAM0"
      },
      "source": [
        "bias = init_params(1)"
      ],
      "execution_count": 109,
      "outputs": []
    },
    {
      "cell_type": "markdown",
      "metadata": {
        "id": "flY7kU0niGqr"
      },
      "source": [
        "Neural network:\r\n",
        "\r\n",
        "``y = weights * x + bias = w * x + b``"
      ]
    },
    {
      "cell_type": "markdown",
      "metadata": {
        "id": "4sSMcuGDkOi6"
      },
      "source": [
        "Calculate prediction for one image:"
      ]
    },
    {
      "cell_type": "code",
      "metadata": {
        "colab": {
          "base_uri": "https://localhost:8080/"
        },
        "id": "8fWtM8fjhKuU",
        "outputId": "5fed6a9a-5b3c-4844-bc14-c0c5aa903287"
      },
      "source": [
        "(train_x[0]*weights.T).sum() + bias"
      ],
      "execution_count": 110,
      "outputs": [
        {
          "output_type": "execute_result",
          "data": {
            "text/plain": [
              "tensor([20.2336], grad_fn=<AddBackward0>)"
            ]
          },
          "metadata": {
            "tags": []
          },
          "execution_count": 110
        }
      ]
    },
    {
      "cell_type": "markdown",
      "metadata": {
        "id": "iKuswTTPkdd8"
      },
      "source": [
        "Do this for each image! However, a loop in Python is too slow!"
      ]
    },
    {
      "cell_type": "markdown",
      "metadata": {
        "id": "UQoVBzFnlreB"
      },
      "source": [
        "There's an extremely convenient mathematical operation that calculates ``w*x`` for every row of a matrix —it's called matrix multiplication:"
      ]
    },
    {
      "cell_type": "code",
      "metadata": {
        "id": "lJfZPzOAkcBM"
      },
      "source": [
        "def linear1(xb):  # multiply matrixes by using @\r\n",
        "  return xb@weights + bias"
      ],
      "execution_count": 111,
      "outputs": []
    },
    {
      "cell_type": "markdown",
      "metadata": {
        "id": "Cu_KnsOIl8oB"
      },
      "source": [
        "Apply \"multiply-matrix\" function:"
      ]
    },
    {
      "cell_type": "code",
      "metadata": {
        "colab": {
          "base_uri": "https://localhost:8080/"
        },
        "id": "SQKjvvWhmA2e",
        "outputId": "b806cb6e-055c-4032-8fd4-7f8817b4cff0"
      },
      "source": [
        "preds = linear1(train_x)\r\n",
        "preds"
      ],
      "execution_count": 112,
      "outputs": [
        {
          "output_type": "execute_result",
          "data": {
            "text/plain": [
              "tensor([[20.2336],\n",
              "        [17.0644],\n",
              "        [15.2384],\n",
              "        ...,\n",
              "        [18.3804],\n",
              "        [23.8567],\n",
              "        [28.6816]], grad_fn=<AddBackward0>)"
            ]
          },
          "metadata": {
            "tags": []
          },
          "execution_count": 112
        }
      ]
    },
    {
      "cell_type": "markdown",
      "metadata": {
        "id": "NvOEyFJBpN76"
      },
      "source": [
        "Check our aacuracy:\r\n",
        "- if output greater than 0 then output represents 3 or 7"
      ]
    },
    {
      "cell_type": "code",
      "metadata": {
        "colab": {
          "base_uri": "https://localhost:8080/"
        },
        "id": "Z-gNPLwBmL8m",
        "outputId": "5f0e79ad-1cf8-457e-be28-6bf2b7544228"
      },
      "source": [
        "corrects = (preds>0.0).float() == train_y\r\n",
        "corrects"
      ],
      "execution_count": 115,
      "outputs": [
        {
          "output_type": "execute_result",
          "data": {
            "text/plain": [
              "tensor([[ True],\n",
              "        [ True],\n",
              "        [ True],\n",
              "        ...,\n",
              "        [False],\n",
              "        [False],\n",
              "        [False]])"
            ]
          },
          "metadata": {
            "tags": []
          },
          "execution_count": 115
        }
      ]
    },
    {
      "cell_type": "code",
      "metadata": {
        "colab": {
          "base_uri": "https://localhost:8080/"
        },
        "id": "tM2jL3sFse0-",
        "outputId": "e395bd52-8763-48e3-d9e3-77a5d4176bd9"
      },
      "source": [
        "corrects.float().mean().item()"
      ],
      "execution_count": 116,
      "outputs": [
        {
          "output_type": "execute_result",
          "data": {
            "text/plain": [
              "0.4912068545818329"
            ]
          },
          "metadata": {
            "tags": []
          },
          "execution_count": 116
        }
      ]
    },
    {
      "cell_type": "markdown",
      "metadata": {
        "id": "GEH69suPuMW_"
      },
      "source": [
        "Now we need to choose our loss function."
      ]
    },
    {
      "cell_type": "markdown",
      "metadata": {
        "id": "D7it4SvnyRFg"
      },
      "source": [
        "We need a loss function which, when our weights result in slightly better predictions, gives us a slightly better loss. So what does a \"slightly better prediction\" look like, exactly? Well, in this case, it means that if the correct answer is a 3 the score is a little higher, or if the correct answer is a 7 the score is a little lower."
      ]
    },
    {
      "cell_type": "markdown",
      "metadata": {
        "id": "5sKTh2MX3HdJ"
      },
      "source": [
        "Create a new variable, called ``trgts``, which tells wheater an image is actually a 3 or not."
      ]
    },
    {
      "cell_type": "code",
      "metadata": {
        "id": "zHq8vSH-tmv4"
      },
      "source": [
        "trgts = tensor([1,0,1])  # target values represent a 3, 7 and 3\r\n",
        "preds = tensor([0.9, 0.4, 0.2]) "
      ],
      "execution_count": 117,
      "outputs": []
    },
    {
      "cell_type": "markdown",
      "metadata": {
        "id": "3WeCTs7p5b_3"
      },
      "source": [
        "First try at a loss function.\r\n",
        "\r\n",
        "This function will measure how distant each prediction is from 1 if it should be 1, and how distant it is from 0 if it should be 0, and then it will take the mean of all those distances."
      ]
    },
    {
      "cell_type": "code",
      "metadata": {
        "id": "--OJin4N5pCU"
      },
      "source": [
        "def mnist_loss(predictions, targets):\r\n",
        "    return torch.where(targets==1, 1-predictions, predictions).mean()"
      ],
      "execution_count": 119,
      "outputs": []
    },
    {
      "cell_type": "markdown",
      "metadata": {
        "id": "Vj8HXqcj6MdJ"
      },
      "source": [
        "Apply approach on our example:\r\n",
        "- if predictions are perfect, each number would be 0 --> loss = 0\r\n",
        "- it tells us, how far predictions are away from target."
      ]
    },
    {
      "cell_type": "code",
      "metadata": {
        "colab": {
          "base_uri": "https://localhost:8080/"
        },
        "id": "vK_Q-cTc5wae",
        "outputId": "30784aee-9336-4e9c-f9e0-e500b45c408b"
      },
      "source": [
        "torch.where(trgts==1, 1-preds, preds)"
      ],
      "execution_count": 122,
      "outputs": [
        {
          "output_type": "execute_result",
          "data": {
            "text/plain": [
              "tensor([0.1000, 0.4000, 0.8000])"
            ]
          },
          "metadata": {
            "tags": []
          },
          "execution_count": 122
        }
      ]
    },
    {
      "cell_type": "markdown",
      "metadata": {
        "id": "j3JE1DS28SWE"
      },
      "source": [
        "Calculate loss on our example:"
      ]
    },
    {
      "cell_type": "code",
      "metadata": {
        "colab": {
          "base_uri": "https://localhost:8080/"
        },
        "id": "ZV3Q-EcR7tT4",
        "outputId": "5f696c33-6da5-44c1-f98e-4cf0b71c16b0"
      },
      "source": [
        "mnist_loss(preds, trgts)"
      ],
      "execution_count": 127,
      "outputs": [
        {
          "output_type": "execute_result",
          "data": {
            "text/plain": [
              "tensor(0.4333)"
            ]
          },
          "metadata": {
            "tags": []
          },
          "execution_count": 127
        }
      ]
    },
    {
      "cell_type": "markdown",
      "metadata": {
        "id": "weAYrZTw9ksW"
      },
      "source": [
        "This function returns a lower number when predictions are more accurate, when accurate predictions are more confident (higher absolute values), and when inaccurate predictions are less confident. "
      ]
    },
    {
      "cell_type": "markdown",
      "metadata": {
        "id": "7_3dYn4J-YIF"
      },
      "source": [
        "## Sigmoid"
      ]
    },
    {
      "cell_type": "code",
      "metadata": {
        "id": "U25Sa6E68YM2"
      },
      "source": [
        ""
      ],
      "execution_count": null,
      "outputs": []
    }
  ]
}