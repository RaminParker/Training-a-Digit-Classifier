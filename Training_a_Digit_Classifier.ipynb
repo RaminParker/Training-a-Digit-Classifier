{
  "nbformat": 4,
  "nbformat_minor": 0,
  "metadata": {
    "colab": {
      "name": "Training a Digit Classifier",
      "provenance": [],
      "collapsed_sections": [],
      "toc_visible": true,
      "authorship_tag": "ABX9TyMn3PyiJPnhYa73biC9eh+8",
      "include_colab_link": true
    },
    "kernelspec": {
      "name": "python3",
      "display_name": "Python 3"
    },
    "accelerator": "GPU"
  },
  "cells": [
    {
      "cell_type": "markdown",
      "metadata": {
        "id": "view-in-github",
        "colab_type": "text"
      },
      "source": [
        "<a href=\"https://colab.research.google.com/github/RaminParker/Training-a-Digit-Classifier/blob/main/Training_a_Digit_Classifier.ipynb\" target=\"_parent\"><img src=\"https://colab.research.google.com/assets/colab-badge.svg\" alt=\"Open In Colab\"/></a>"
      ]
    },
    {
      "cell_type": "markdown",
      "metadata": {
        "id": "iF8IOuVGFkfJ"
      },
      "source": [
        "# Training a Digit Classifier"
      ]
    },
    {
      "cell_type": "markdown",
      "metadata": {
        "id": "9ImQQZteE4tP"
      },
      "source": [
        "**Note:** \r\n",
        "- This is a *Google Colab* notebook!"
      ]
    },
    {
      "cell_type": "markdown",
      "metadata": {
        "id": "KwrbRu6ghj4v"
      },
      "source": [
        "**GPU:**\n",
        "\n",
        "- Switch on the GPU accelerator for the notebook: clicking ``Runtime`` > ``Change runtime type`` > Select ``GPU`` for Hardware Accelerator."
      ]
    },
    {
      "cell_type": "markdown",
      "metadata": {
        "id": "8WSG6oA4Fh5y"
      },
      "source": [
        "# Import"
      ]
    },
    {
      "cell_type": "code",
      "metadata": {
        "id": "WzNVAqxw__0F"
      },
      "source": [
        "! [ -e /content ] && pip install -Uqq fastai  # upgrade fastai on colab"
      ],
      "execution_count": 261,
      "outputs": []
    },
    {
      "cell_type": "code",
      "metadata": {
        "id": "_ZoxFiZZgPy4"
      },
      "source": [
        "#from fastai.vision import * \r\n",
        "from fastai.vision.all import *"
      ],
      "execution_count": 262,
      "outputs": []
    },
    {
      "cell_type": "markdown",
      "metadata": {
        "id": "1t4PNta9Ea93"
      },
      "source": [
        "Download MNIST data set"
      ]
    },
    {
      "cell_type": "code",
      "metadata": {
        "id": "zXd1_-yEfrZl"
      },
      "source": [
        "path = untar_data(URLs.MNIST_SAMPLE)"
      ],
      "execution_count": 263,
      "outputs": []
    },
    {
      "cell_type": "markdown",
      "metadata": {
        "id": "crhCy4SqGBfm"
      },
      "source": [
        "Count number of items and list them:"
      ]
    },
    {
      "cell_type": "code",
      "metadata": {
        "colab": {
          "base_uri": "https://localhost:8080/"
        },
        "id": "QcTZt1kaD7T7",
        "outputId": "a8915572-5c64-4f50-c917-f130fc11ffd9"
      },
      "source": [
        "path.ls()"
      ],
      "execution_count": 264,
      "outputs": [
        {
          "output_type": "execute_result",
          "data": {
            "text/plain": [
              "(#3) [Path('/root/.fastai/data/mnist_sample/valid'),Path('/root/.fastai/data/mnist_sample/labels.csv'),Path('/root/.fastai/data/mnist_sample/train')]"
            ]
          },
          "metadata": {
            "tags": []
          },
          "execution_count": 264
        }
      ]
    },
    {
      "cell_type": "markdown",
      "metadata": {
        "id": "7k0g4GnLGaLC"
      },
      "source": [
        "Check out what's in folder ``train``."
      ]
    },
    {
      "cell_type": "code",
      "metadata": {
        "colab": {
          "base_uri": "https://localhost:8080/"
        },
        "id": "Ko8dhj7TEo65",
        "outputId": "e3e4e08b-80a1-4921-d7ec-b1f6ea7cf442"
      },
      "source": [
        "(path/'train').ls()"
      ],
      "execution_count": 265,
      "outputs": [
        {
          "output_type": "execute_result",
          "data": {
            "text/plain": [
              "(#2) [Path('/root/.fastai/data/mnist_sample/train/3'),Path('/root/.fastai/data/mnist_sample/train/7')]"
            ]
          },
          "metadata": {
            "tags": []
          },
          "execution_count": 265
        }
      ]
    },
    {
      "cell_type": "markdown",
      "metadata": {
        "id": "fW1EwLEhGlIS"
      },
      "source": [
        "There is a folder of 3s, and there is a folder of 7s. Let's look inside:"
      ]
    },
    {
      "cell_type": "code",
      "metadata": {
        "colab": {
          "base_uri": "https://localhost:8080/"
        },
        "id": "1ExD0cyKGU9j",
        "outputId": "8427a52e-19cc-4c90-8d76-2b991e93612f"
      },
      "source": [
        "threes = (path/'train'/'3').ls().sorted()\r\n",
        "sevens = (path/'train'/'7').ls().sorted()\r\n",
        "threes"
      ],
      "execution_count": 266,
      "outputs": [
        {
          "output_type": "execute_result",
          "data": {
            "text/plain": [
              "(#6131) [Path('/root/.fastai/data/mnist_sample/train/3/10.png'),Path('/root/.fastai/data/mnist_sample/train/3/10000.png'),Path('/root/.fastai/data/mnist_sample/train/3/10011.png'),Path('/root/.fastai/data/mnist_sample/train/3/10031.png'),Path('/root/.fastai/data/mnist_sample/train/3/10034.png'),Path('/root/.fastai/data/mnist_sample/train/3/10042.png'),Path('/root/.fastai/data/mnist_sample/train/3/10052.png'),Path('/root/.fastai/data/mnist_sample/train/3/1007.png'),Path('/root/.fastai/data/mnist_sample/train/3/10074.png'),Path('/root/.fastai/data/mnist_sample/train/3/10091.png')...]"
            ]
          },
          "metadata": {
            "tags": []
          },
          "execution_count": 266
        }
      ]
    },
    {
      "cell_type": "markdown",
      "metadata": {
        "id": "Riyu9CxpHnoe"
      },
      "source": [
        "Show one of the images:"
      ]
    },
    {
      "cell_type": "code",
      "metadata": {
        "colab": {
          "base_uri": "https://localhost:8080/",
          "height": 45
        },
        "id": "7YpOufyKG-3w",
        "outputId": "c372d2c5-72c5-41ad-fef2-1f63368bc1a9"
      },
      "source": [
        "im3_path = threes[1]\r\n",
        "im3 = Image.open(im3_path)\r\n",
        "im3"
      ],
      "execution_count": 267,
      "outputs": [
        {
          "output_type": "execute_result",
          "data": {
            "image/png": "[encoded data removed]",
            "text/plain": [
              "<PIL.PngImagePlugin.PngImageFile image mode=L size=28x28 at 0x7F14BE5FFE80>"
            ]
          },
          "metadata": {
            "tags": []
          },
          "execution_count": 267
        }
      ]
    },
    {
      "cell_type": "markdown",
      "metadata": {
        "id": "t3J-jq1AOSsr"
      },
      "source": [
        "Image to numpy array:"
      ]
    },
    {
      "cell_type": "code",
      "metadata": {
        "id": "OnNwUmaUPCIU"
      },
      "source": [
        "row_start = 4\r\n",
        "row_end = 10\r\n",
        "\r\n",
        "col_start = 4\r\n",
        "col_end = 10"
      ],
      "execution_count": 268,
      "outputs": []
    },
    {
      "cell_type": "code",
      "metadata": {
        "colab": {
          "base_uri": "https://localhost:8080/"
        },
        "id": "IDp9DoGeHksw",
        "outputId": "b51cbcad-f034-4f9e-dc6c-9a8fb03c30c7"
      },
      "source": [
        "array(im3)[row_start:row_end,col_start:col_end]"
      ],
      "execution_count": 269,
      "outputs": [
        {
          "output_type": "execute_result",
          "data": {
            "text/plain": [
              "array([[  0,   0,   0,   0,   0,   0],\n",
              "       [  0,   0,   0,   0,   0,  29],\n",
              "       [  0,   0,   0,  48, 166, 224],\n",
              "       [  0,  93, 244, 249, 253, 187],\n",
              "       [  0, 107, 253, 253, 230,  48],\n",
              "       [  0,   3,  20,  20,  15,   0]], dtype=uint8)"
            ]
          },
          "metadata": {
            "tags": []
          },
          "execution_count": 269
        }
      ]
    },
    {
      "cell_type": "markdown",
      "metadata": {
        "id": "qjZlkMzMPJgY"
      },
      "source": [
        "Image to PyTorch tensor:"
      ]
    },
    {
      "cell_type": "code",
      "metadata": {
        "colab": {
          "base_uri": "https://localhost:8080/"
        },
        "id": "q3Vbo3mmOYSY",
        "outputId": "9ffb29f2-3a44-4463-f2f0-51f4725742b5"
      },
      "source": [
        "tensor(im3)[row_start:row_end,col_start:col_end]"
      ],
      "execution_count": 270,
      "outputs": [
        {
          "output_type": "execute_result",
          "data": {
            "text/plain": [
              "tensor([[  0,   0,   0,   0,   0,   0],\n",
              "        [  0,   0,   0,   0,   0,  29],\n",
              "        [  0,   0,   0,  48, 166, 224],\n",
              "        [  0,  93, 244, 249, 253, 187],\n",
              "        [  0, 107, 253, 253, 230,  48],\n",
              "        [  0,   3,  20,  20,  15,   0]], dtype=torch.uint8)"
            ]
          },
          "metadata": {
            "tags": []
          },
          "execution_count": 270
        }
      ]
    },
    {
      "cell_type": "markdown",
      "metadata": {
        "id": "Umwmb9hpPbZ3"
      },
      "source": [
        "Use pandas df to color-code the values:"
      ]
    },
    {
      "cell_type": "code",
      "metadata": {
        "colab": {
          "base_uri": "https://localhost:8080/",
          "height": 255
        },
        "id": "ayMtwBQrPOz5",
        "outputId": "6ba07cbf-ef20-4928-a583-880cef5d86ba"
      },
      "source": [
        "row_start = 4\r\n",
        "row_end = 15\r\n",
        "\r\n",
        "col_start = 4\r\n",
        "col_end = 22\r\n",
        "\r\n",
        "im3_t = tensor(im3)\r\n",
        "df = pd.DataFrame(im3_t[row_start:row_end,col_start:col_end])\r\n",
        "df.style.set_properties(**{'font-size': '6pt'}).background_gradient('Greys')"
      ],
      "execution_count": 271,
      "outputs": [
        {
          "output_type": "execute_result",
          "data": {
            "text/html": [
              "<style  type=\"text/css\" >\n",
              "#T_e1263524_5039_11eb_8f66_0242ac1c0002row0_col0,#T_e1263524_5039_11eb_8f66_0242ac1c0002row0_col1,#T_e1263524_5039_11eb_8f66_0242ac1c0002row0_col2,#T_e1263524_5039_11eb_8f66_0242ac1c0002row0_col3,#T_e1263524_5039_11eb_8f66_0242ac1c0002row0_col4,#T_e1263524_5039_11eb_8f66_0242ac1c0002row0_col5,#T_e1263524_5039_11eb_8f66_0242ac1c0002row0_col6,#T_e1263524_5039_11eb_8f66_0242ac1c0002row0_col7,#T_e1263524_5039_11eb_8f66_0242ac1c0002row0_col8,#T_e1263524_5039_11eb_8f66_0242ac1c0002row0_col9,#T_e1263524_5039_11eb_8f66_0242ac1c0002row0_col10,#T_e1263524_5039_11eb_8f66_0242ac1c0002row0_col11,#T_e1263524_5039_11eb_8f66_0242ac1c0002row0_col12,#T_e1263524_5039_11eb_8f66_0242ac1c0002row0_col13,#T_e1263524_5039_11eb_8f66_0242ac1c0002row0_col14,#T_e1263524_5039_11eb_8f66_0242ac1c0002row0_col15,#T_e1263524_5039_11eb_8f66_0242ac1c0002row0_col16,#T_e1263524_5039_11eb_8f66_0242ac1c0002row0_col17,#T_e1263524_5039_11eb_8f66_0242ac1c0002row1_col0,#T_e1263524_5039_11eb_8f66_0242ac1c0002row1_col1,#T_e1263524_5039_11eb_8f66_0242ac1c0002row1_col2,#T_e1263524_5039_11eb_8f66_0242ac1c0002row1_col3,#T_e1263524_5039_11eb_8f66_0242ac1c0002row1_col4,#T_e1263524_5039_11eb_8f66_0242ac1c0002row1_col15,#T_e1263524_5039_11eb_8f66_0242ac1c0002row1_col16,#T_e1263524_5039_11eb_8f66_0242ac1c0002row1_col17,#T_e1263524_5039_11eb_8f66_0242ac1c0002row2_col0,#T_e1263524_5039_11eb_8f66_0242ac1c0002row2_col1,#T_e1263524_5039_11eb_8f66_0242ac1c0002row2_col2,#T_e1263524_5039_11eb_8f66_0242ac1c0002row2_col15,#T_e1263524_5039_11eb_8f66_0242ac1c0002row2_col16,#T_e1263524_5039_11eb_8f66_0242ac1c0002row2_col17,#T_e1263524_5039_11eb_8f66_0242ac1c0002row3_col0,#T_e1263524_5039_11eb_8f66_0242ac1c0002row3_col15,#T_e1263524_5039_11eb_8f66_0242ac1c0002row3_col16,#T_e1263524_5039_11eb_8f66_0242ac1c0002row3_col17,#T_e1263524_5039_11eb_8f66_0242ac1c0002row4_col0,#T_e1263524_5039_11eb_8f66_0242ac1c0002row4_col6,#T_e1263524_5039_11eb_8f66_0242ac1c0002row4_col7,#T_e1263524_5039_11eb_8f66_0242ac1c0002row4_col8,#T_e1263524_5039_11eb_8f66_0242ac1c0002row4_col9,#T_e1263524_5039_11eb_8f66_0242ac1c0002row4_col10,#T_e1263524_5039_11eb_8f66_0242ac1c0002row4_col15,#T_e1263524_5039_11eb_8f66_0242ac1c0002row4_col16,#T_e1263524_5039_11eb_8f66_0242ac1c0002row4_col17,#T_e1263524_5039_11eb_8f66_0242ac1c0002row5_col0,#T_e1263524_5039_11eb_8f66_0242ac1c0002row5_col5,#T_e1263524_5039_11eb_8f66_0242ac1c0002row5_col6,#T_e1263524_5039_11eb_8f66_0242ac1c0002row5_col7,#T_e1263524_5039_11eb_8f66_0242ac1c0002row5_col8,#T_e1263524_5039_11eb_8f66_0242ac1c0002row5_col9,#T_e1263524_5039_11eb_8f66_0242ac1c0002row5_col15,#T_e1263524_5039_11eb_8f66_0242ac1c0002row5_col16,#T_e1263524_5039_11eb_8f66_0242ac1c0002row5_col17,#T_e1263524_5039_11eb_8f66_0242ac1c0002row6_col0,#T_e1263524_5039_11eb_8f66_0242ac1c0002row6_col1,#T_e1263524_5039_11eb_8f66_0242ac1c0002row6_col2,#T_e1263524_5039_11eb_8f66_0242ac1c0002row6_col3,#T_e1263524_5039_11eb_8f66_0242ac1c0002row6_col4,#T_e1263524_5039_11eb_8f66_0242ac1c0002row6_col5,#T_e1263524_5039_11eb_8f66_0242ac1c0002row6_col6,#T_e1263524_5039_11eb_8f66_0242ac1c0002row6_col7,#T_e1263524_5039_11eb_8f66_0242ac1c0002row6_col8,#T_e1263524_5039_11eb_8f66_0242ac1c0002row6_col9,#T_e1263524_5039_11eb_8f66_0242ac1c0002row6_col14,#T_e1263524_5039_11eb_8f66_0242ac1c0002row6_col15,#T_e1263524_5039_11eb_8f66_0242ac1c0002row6_col16,#T_e1263524_5039_11eb_8f66_0242ac1c0002row6_col17,#T_e1263524_5039_11eb_8f66_0242ac1c0002row7_col0,#T_e1263524_5039_11eb_8f66_0242ac1c0002row7_col1,#T_e1263524_5039_11eb_8f66_0242ac1c0002row7_col2,#T_e1263524_5039_11eb_8f66_0242ac1c0002row7_col3,#T_e1263524_5039_11eb_8f66_0242ac1c0002row7_col4,#T_e1263524_5039_11eb_8f66_0242ac1c0002row7_col5,#T_e1263524_5039_11eb_8f66_0242ac1c0002row7_col6,#T_e1263524_5039_11eb_8f66_0242ac1c0002row7_col13,#T_e1263524_5039_11eb_8f66_0242ac1c0002row7_col14,#T_e1263524_5039_11eb_8f66_0242ac1c0002row7_col15,#T_e1263524_5039_11eb_8f66_0242ac1c0002row7_col16,#T_e1263524_5039_11eb_8f66_0242ac1c0002row7_col17,#T_e1263524_5039_11eb_8f66_0242ac1c0002row8_col0,#T_e1263524_5039_11eb_8f66_0242ac1c0002row8_col1,#T_e1263524_5039_11eb_8f66_0242ac1c0002row8_col2,#T_e1263524_5039_11eb_8f66_0242ac1c0002row8_col3,#T_e1263524_5039_11eb_8f66_0242ac1c0002row8_col4,#T_e1263524_5039_11eb_8f66_0242ac1c0002row8_col13,#T_e1263524_5039_11eb_8f66_0242ac1c0002row8_col14,#T_e1263524_5039_11eb_8f66_0242ac1c0002row8_col15,#T_e1263524_5039_11eb_8f66_0242ac1c0002row8_col16,#T_e1263524_5039_11eb_8f66_0242ac1c0002row8_col17,#T_e1263524_5039_11eb_8f66_0242ac1c0002row9_col0,#T_e1263524_5039_11eb_8f66_0242ac1c0002row9_col1,#T_e1263524_5039_11eb_8f66_0242ac1c0002row9_col2,#T_e1263524_5039_11eb_8f66_0242ac1c0002row9_col3,#T_e1263524_5039_11eb_8f66_0242ac1c0002row9_col4,#T_e1263524_5039_11eb_8f66_0242ac1c0002row9_col16,#T_e1263524_5039_11eb_8f66_0242ac1c0002row9_col17,#T_e1263524_5039_11eb_8f66_0242ac1c0002row10_col0,#T_e1263524_5039_11eb_8f66_0242ac1c0002row10_col1,#T_e1263524_5039_11eb_8f66_0242ac1c0002row10_col2,#T_e1263524_5039_11eb_8f66_0242ac1c0002row10_col3,#T_e1263524_5039_11eb_8f66_0242ac1c0002row10_col4,#T_e1263524_5039_11eb_8f66_0242ac1c0002row10_col5,#T_e1263524_5039_11eb_8f66_0242ac1c0002row10_col6,#T_e1263524_5039_11eb_8f66_0242ac1c0002row10_col17{\n",
              "            font-size:  6pt;\n",
              "            background-color:  #ffffff;\n",
              "            color:  #000000;\n",
              "        }#T_e1263524_5039_11eb_8f66_0242ac1c0002row1_col5{\n",
              "            font-size:  6pt;\n",
              "            background-color:  #efefef;\n",
              "            color:  #000000;\n",
              "        }#T_e1263524_5039_11eb_8f66_0242ac1c0002row1_col6,#T_e1263524_5039_11eb_8f66_0242ac1c0002row1_col13{\n",
              "            font-size:  6pt;\n",
              "            background-color:  #7c7c7c;\n",
              "            color:  #000000;\n",
              "        }#T_e1263524_5039_11eb_8f66_0242ac1c0002row1_col7{\n",
              "            font-size:  6pt;\n",
              "            background-color:  #4a4a4a;\n",
              "            color:  #f1f1f1;\n",
              "        }#T_e1263524_5039_11eb_8f66_0242ac1c0002row1_col8,#T_e1263524_5039_11eb_8f66_0242ac1c0002row1_col9,#T_e1263524_5039_11eb_8f66_0242ac1c0002row1_col10,#T_e1263524_5039_11eb_8f66_0242ac1c0002row2_col5,#T_e1263524_5039_11eb_8f66_0242ac1c0002row2_col6,#T_e1263524_5039_11eb_8f66_0242ac1c0002row2_col7,#T_e1263524_5039_11eb_8f66_0242ac1c0002row2_col11,#T_e1263524_5039_11eb_8f66_0242ac1c0002row2_col12,#T_e1263524_5039_11eb_8f66_0242ac1c0002row2_col13,#T_e1263524_5039_11eb_8f66_0242ac1c0002row3_col4,#T_e1263524_5039_11eb_8f66_0242ac1c0002row3_col12,#T_e1263524_5039_11eb_8f66_0242ac1c0002row3_col13,#T_e1263524_5039_11eb_8f66_0242ac1c0002row4_col1,#T_e1263524_5039_11eb_8f66_0242ac1c0002row4_col2,#T_e1263524_5039_11eb_8f66_0242ac1c0002row4_col3,#T_e1263524_5039_11eb_8f66_0242ac1c0002row4_col12,#T_e1263524_5039_11eb_8f66_0242ac1c0002row4_col13,#T_e1263524_5039_11eb_8f66_0242ac1c0002row5_col12,#T_e1263524_5039_11eb_8f66_0242ac1c0002row6_col11,#T_e1263524_5039_11eb_8f66_0242ac1c0002row9_col11,#T_e1263524_5039_11eb_8f66_0242ac1c0002row10_col11,#T_e1263524_5039_11eb_8f66_0242ac1c0002row10_col12,#T_e1263524_5039_11eb_8f66_0242ac1c0002row10_col13,#T_e1263524_5039_11eb_8f66_0242ac1c0002row10_col14,#T_e1263524_5039_11eb_8f66_0242ac1c0002row10_col15,#T_e1263524_5039_11eb_8f66_0242ac1c0002row10_col16{\n",
              "            font-size:  6pt;\n",
              "            background-color:  #000000;\n",
              "            color:  #f1f1f1;\n",
              "        }#T_e1263524_5039_11eb_8f66_0242ac1c0002row1_col11{\n",
              "            font-size:  6pt;\n",
              "            background-color:  #606060;\n",
              "            color:  #f1f1f1;\n",
              "        }#T_e1263524_5039_11eb_8f66_0242ac1c0002row1_col12{\n",
              "            font-size:  6pt;\n",
              "            background-color:  #4d4d4d;\n",
              "            color:  #f1f1f1;\n",
              "        }#T_e1263524_5039_11eb_8f66_0242ac1c0002row1_col14{\n",
              "            font-size:  6pt;\n",
              "            background-color:  #bbbbbb;\n",
              "            color:  #000000;\n",
              "        }#T_e1263524_5039_11eb_8f66_0242ac1c0002row2_col3{\n",
              "            font-size:  6pt;\n",
              "            background-color:  #e4e4e4;\n",
              "            color:  #000000;\n",
              "        }#T_e1263524_5039_11eb_8f66_0242ac1c0002row2_col4,#T_e1263524_5039_11eb_8f66_0242ac1c0002row8_col6{\n",
              "            font-size:  6pt;\n",
              "            background-color:  #6b6b6b;\n",
              "            color:  #000000;\n",
              "        }#T_e1263524_5039_11eb_8f66_0242ac1c0002row2_col8,#T_e1263524_5039_11eb_8f66_0242ac1c0002row2_col14,#T_e1263524_5039_11eb_8f66_0242ac1c0002row3_col14{\n",
              "            font-size:  6pt;\n",
              "            background-color:  #171717;\n",
              "            color:  #f1f1f1;\n",
              "        }#T_e1263524_5039_11eb_8f66_0242ac1c0002row2_col9,#T_e1263524_5039_11eb_8f66_0242ac1c0002row3_col11{\n",
              "            font-size:  6pt;\n",
              "            background-color:  #4b4b4b;\n",
              "            color:  #f1f1f1;\n",
              "        }#T_e1263524_5039_11eb_8f66_0242ac1c0002row2_col10,#T_e1263524_5039_11eb_8f66_0242ac1c0002row7_col10,#T_e1263524_5039_11eb_8f66_0242ac1c0002row8_col8,#T_e1263524_5039_11eb_8f66_0242ac1c0002row8_col10,#T_e1263524_5039_11eb_8f66_0242ac1c0002row9_col8,#T_e1263524_5039_11eb_8f66_0242ac1c0002row9_col10{\n",
              "            font-size:  6pt;\n",
              "            background-color:  #010101;\n",
              "            color:  #f1f1f1;\n",
              "        }#T_e1263524_5039_11eb_8f66_0242ac1c0002row3_col1{\n",
              "            font-size:  6pt;\n",
              "            background-color:  #272727;\n",
              "            color:  #f1f1f1;\n",
              "        }#T_e1263524_5039_11eb_8f66_0242ac1c0002row3_col2{\n",
              "            font-size:  6pt;\n",
              "            background-color:  #0a0a0a;\n",
              "            color:  #f1f1f1;\n",
              "        }#T_e1263524_5039_11eb_8f66_0242ac1c0002row3_col3{\n",
              "            font-size:  6pt;\n",
              "            background-color:  #050505;\n",
              "            color:  #f1f1f1;\n",
              "        }#T_e1263524_5039_11eb_8f66_0242ac1c0002row3_col5{\n",
              "            font-size:  6pt;\n",
              "            background-color:  #333333;\n",
              "            color:  #f1f1f1;\n",
              "        }#T_e1263524_5039_11eb_8f66_0242ac1c0002row3_col6{\n",
              "            font-size:  6pt;\n",
              "            background-color:  #e6e6e6;\n",
              "            color:  #000000;\n",
              "        }#T_e1263524_5039_11eb_8f66_0242ac1c0002row3_col7,#T_e1263524_5039_11eb_8f66_0242ac1c0002row3_col10{\n",
              "            font-size:  6pt;\n",
              "            background-color:  #fafafa;\n",
              "            color:  #000000;\n",
              "        }#T_e1263524_5039_11eb_8f66_0242ac1c0002row3_col8{\n",
              "            font-size:  6pt;\n",
              "            background-color:  #fbfbfb;\n",
              "            color:  #000000;\n",
              "        }#T_e1263524_5039_11eb_8f66_0242ac1c0002row3_col9{\n",
              "            font-size:  6pt;\n",
              "            background-color:  #fdfdfd;\n",
              "            color:  #000000;\n",
              "        }#T_e1263524_5039_11eb_8f66_0242ac1c0002row4_col4{\n",
              "            font-size:  6pt;\n",
              "            background-color:  #1b1b1b;\n",
              "            color:  #f1f1f1;\n",
              "        }#T_e1263524_5039_11eb_8f66_0242ac1c0002row4_col5{\n",
              "            font-size:  6pt;\n",
              "            background-color:  #e0e0e0;\n",
              "            color:  #000000;\n",
              "        }#T_e1263524_5039_11eb_8f66_0242ac1c0002row4_col11{\n",
              "            font-size:  6pt;\n",
              "            background-color:  #4e4e4e;\n",
              "            color:  #f1f1f1;\n",
              "        }#T_e1263524_5039_11eb_8f66_0242ac1c0002row4_col14{\n",
              "            font-size:  6pt;\n",
              "            background-color:  #767676;\n",
              "            color:  #000000;\n",
              "        }#T_e1263524_5039_11eb_8f66_0242ac1c0002row5_col1{\n",
              "            font-size:  6pt;\n",
              "            background-color:  #fcfcfc;\n",
              "            color:  #000000;\n",
              "        }#T_e1263524_5039_11eb_8f66_0242ac1c0002row5_col2,#T_e1263524_5039_11eb_8f66_0242ac1c0002row5_col3{\n",
              "            font-size:  6pt;\n",
              "            background-color:  #f6f6f6;\n",
              "            color:  #000000;\n",
              "        }#T_e1263524_5039_11eb_8f66_0242ac1c0002row5_col4,#T_e1263524_5039_11eb_8f66_0242ac1c0002row7_col7{\n",
              "            font-size:  6pt;\n",
              "            background-color:  #f8f8f8;\n",
              "            color:  #000000;\n",
              "        }#T_e1263524_5039_11eb_8f66_0242ac1c0002row5_col10,#T_e1263524_5039_11eb_8f66_0242ac1c0002row10_col7{\n",
              "            font-size:  6pt;\n",
              "            background-color:  #e8e8e8;\n",
              "            color:  #000000;\n",
              "        }#T_e1263524_5039_11eb_8f66_0242ac1c0002row5_col11{\n",
              "            font-size:  6pt;\n",
              "            background-color:  #222222;\n",
              "            color:  #f1f1f1;\n",
              "        }#T_e1263524_5039_11eb_8f66_0242ac1c0002row5_col13,#T_e1263524_5039_11eb_8f66_0242ac1c0002row6_col12{\n",
              "            font-size:  6pt;\n",
              "            background-color:  #090909;\n",
              "            color:  #f1f1f1;\n",
              "        }#T_e1263524_5039_11eb_8f66_0242ac1c0002row5_col14{\n",
              "            font-size:  6pt;\n",
              "            background-color:  #d0d0d0;\n",
              "            color:  #000000;\n",
              "        }#T_e1263524_5039_11eb_8f66_0242ac1c0002row6_col10,#T_e1263524_5039_11eb_8f66_0242ac1c0002row7_col11,#T_e1263524_5039_11eb_8f66_0242ac1c0002row9_col6{\n",
              "            font-size:  6pt;\n",
              "            background-color:  #060606;\n",
              "            color:  #f1f1f1;\n",
              "        }#T_e1263524_5039_11eb_8f66_0242ac1c0002row6_col13{\n",
              "            font-size:  6pt;\n",
              "            background-color:  #979797;\n",
              "            color:  #000000;\n",
              "        }#T_e1263524_5039_11eb_8f66_0242ac1c0002row7_col8{\n",
              "            font-size:  6pt;\n",
              "            background-color:  #b6b6b6;\n",
              "            color:  #000000;\n",
              "        }#T_e1263524_5039_11eb_8f66_0242ac1c0002row7_col9{\n",
              "            font-size:  6pt;\n",
              "            background-color:  #252525;\n",
              "            color:  #f1f1f1;\n",
              "        }#T_e1263524_5039_11eb_8f66_0242ac1c0002row7_col12{\n",
              "            font-size:  6pt;\n",
              "            background-color:  #999999;\n",
              "            color:  #000000;\n",
              "        }#T_e1263524_5039_11eb_8f66_0242ac1c0002row8_col5{\n",
              "            font-size:  6pt;\n",
              "            background-color:  #f9f9f9;\n",
              "            color:  #000000;\n",
              "        }#T_e1263524_5039_11eb_8f66_0242ac1c0002row8_col7{\n",
              "            font-size:  6pt;\n",
              "            background-color:  #101010;\n",
              "            color:  #f1f1f1;\n",
              "        }#T_e1263524_5039_11eb_8f66_0242ac1c0002row8_col9,#T_e1263524_5039_11eb_8f66_0242ac1c0002row9_col9{\n",
              "            font-size:  6pt;\n",
              "            background-color:  #020202;\n",
              "            color:  #f1f1f1;\n",
              "        }#T_e1263524_5039_11eb_8f66_0242ac1c0002row8_col11{\n",
              "            font-size:  6pt;\n",
              "            background-color:  #545454;\n",
              "            color:  #f1f1f1;\n",
              "        }#T_e1263524_5039_11eb_8f66_0242ac1c0002row8_col12{\n",
              "            font-size:  6pt;\n",
              "            background-color:  #f1f1f1;\n",
              "            color:  #000000;\n",
              "        }#T_e1263524_5039_11eb_8f66_0242ac1c0002row9_col5{\n",
              "            font-size:  6pt;\n",
              "            background-color:  #f7f7f7;\n",
              "            color:  #000000;\n",
              "        }#T_e1263524_5039_11eb_8f66_0242ac1c0002row9_col7{\n",
              "            font-size:  6pt;\n",
              "            background-color:  #030303;\n",
              "            color:  #f1f1f1;\n",
              "        }#T_e1263524_5039_11eb_8f66_0242ac1c0002row9_col12{\n",
              "            font-size:  6pt;\n",
              "            background-color:  #181818;\n",
              "            color:  #f1f1f1;\n",
              "        }#T_e1263524_5039_11eb_8f66_0242ac1c0002row9_col13{\n",
              "            font-size:  6pt;\n",
              "            background-color:  #303030;\n",
              "            color:  #f1f1f1;\n",
              "        }#T_e1263524_5039_11eb_8f66_0242ac1c0002row9_col14{\n",
              "            font-size:  6pt;\n",
              "            background-color:  #a9a9a9;\n",
              "            color:  #000000;\n",
              "        }#T_e1263524_5039_11eb_8f66_0242ac1c0002row9_col15{\n",
              "            font-size:  6pt;\n",
              "            background-color:  #fefefe;\n",
              "            color:  #000000;\n",
              "        }#T_e1263524_5039_11eb_8f66_0242ac1c0002row10_col8,#T_e1263524_5039_11eb_8f66_0242ac1c0002row10_col9{\n",
              "            font-size:  6pt;\n",
              "            background-color:  #bababa;\n",
              "            color:  #000000;\n",
              "        }#T_e1263524_5039_11eb_8f66_0242ac1c0002row10_col10{\n",
              "            font-size:  6pt;\n",
              "            background-color:  #393939;\n",
              "            color:  #f1f1f1;\n",
              "        }</style><table id=\"T_e1263524_5039_11eb_8f66_0242ac1c0002\" ><thead>    <tr>        <th class=\"blank level0\" ></th>        <th class=\"col_heading level0 col0\" >0</th>        <th class=\"col_heading level0 col1\" >1</th>        <th class=\"col_heading level0 col2\" >2</th>        <th class=\"col_heading level0 col3\" >3</th>        <th class=\"col_heading level0 col4\" >4</th>        <th class=\"col_heading level0 col5\" >5</th>        <th class=\"col_heading level0 col6\" >6</th>        <th class=\"col_heading level0 col7\" >7</th>        <th class=\"col_heading level0 col8\" >8</th>        <th class=\"col_heading level0 col9\" >9</th>        <th class=\"col_heading level0 col10\" >10</th>        <th class=\"col_heading level0 col11\" >11</th>        <th class=\"col_heading level0 col12\" >12</th>        <th class=\"col_heading level0 col13\" >13</th>        <th class=\"col_heading level0 col14\" >14</th>        <th class=\"col_heading level0 col15\" >15</th>        <th class=\"col_heading level0 col16\" >16</th>        <th class=\"col_heading level0 col17\" >17</th>    </tr></thead><tbody>\n",
              "                <tr>\n",
              "                        <th id=\"T_e1263524_5039_11eb_8f66_0242ac1c0002level0_row0\" class=\"row_heading level0 row0\" >0</th>\n",
              "                        <td id=\"T_e1263524_5039_11eb_8f66_0242ac1c0002row0_col0\" class=\"data row0 col0\" >0</td>\n",
              "                        <td id=\"T_e1263524_5039_11eb_8f66_0242ac1c0002row0_col1\" class=\"data row0 col1\" >0</td>\n",
              "                        <td id=\"T_e1263524_5039_11eb_8f66_0242ac1c0002row0_col2\" class=\"data row0 col2\" >0</td>\n",
              "                        <td id=\"T_e1263524_5039_11eb_8f66_0242ac1c0002row0_col3\" class=\"data row0 col3\" >0</td>\n",
              "                        <td id=\"T_e1263524_5039_11eb_8f66_0242ac1c0002row0_col4\" class=\"data row0 col4\" >0</td>\n",
              "                        <td id=\"T_e1263524_5039_11eb_8f66_0242ac1c0002row0_col5\" class=\"data row0 col5\" >0</td>\n",
              "                        <td id=\"T_e1263524_5039_11eb_8f66_0242ac1c0002row0_col6\" class=\"data row0 col6\" >0</td>\n",
              "                        <td id=\"T_e1263524_5039_11eb_8f66_0242ac1c0002row0_col7\" class=\"data row0 col7\" >0</td>\n",
              "                        <td id=\"T_e1263524_5039_11eb_8f66_0242ac1c0002row0_col8\" class=\"data row0 col8\" >0</td>\n",
              "                        <td id=\"T_e1263524_5039_11eb_8f66_0242ac1c0002row0_col9\" class=\"data row0 col9\" >0</td>\n",
              "                        <td id=\"T_e1263524_5039_11eb_8f66_0242ac1c0002row0_col10\" class=\"data row0 col10\" >0</td>\n",
              "                        <td id=\"T_e1263524_5039_11eb_8f66_0242ac1c0002row0_col11\" class=\"data row0 col11\" >0</td>\n",
              "                        <td id=\"T_e1263524_5039_11eb_8f66_0242ac1c0002row0_col12\" class=\"data row0 col12\" >0</td>\n",
              "                        <td id=\"T_e1263524_5039_11eb_8f66_0242ac1c0002row0_col13\" class=\"data row0 col13\" >0</td>\n",
              "                        <td id=\"T_e1263524_5039_11eb_8f66_0242ac1c0002row0_col14\" class=\"data row0 col14\" >0</td>\n",
              "                        <td id=\"T_e1263524_5039_11eb_8f66_0242ac1c0002row0_col15\" class=\"data row0 col15\" >0</td>\n",
              "                        <td id=\"T_e1263524_5039_11eb_8f66_0242ac1c0002row0_col16\" class=\"data row0 col16\" >0</td>\n",
              "                        <td id=\"T_e1263524_5039_11eb_8f66_0242ac1c0002row0_col17\" class=\"data row0 col17\" >0</td>\n",
              "            </tr>\n",
              "            <tr>\n",
              "                        <th id=\"T_e1263524_5039_11eb_8f66_0242ac1c0002level0_row1\" class=\"row_heading level0 row1\" >1</th>\n",
              "                        <td id=\"T_e1263524_5039_11eb_8f66_0242ac1c0002row1_col0\" class=\"data row1 col0\" >0</td>\n",
              "                        <td id=\"T_e1263524_5039_11eb_8f66_0242ac1c0002row1_col1\" class=\"data row1 col1\" >0</td>\n",
              "                        <td id=\"T_e1263524_5039_11eb_8f66_0242ac1c0002row1_col2\" class=\"data row1 col2\" >0</td>\n",
              "                        <td id=\"T_e1263524_5039_11eb_8f66_0242ac1c0002row1_col3\" class=\"data row1 col3\" >0</td>\n",
              "                        <td id=\"T_e1263524_5039_11eb_8f66_0242ac1c0002row1_col4\" class=\"data row1 col4\" >0</td>\n",
              "                        <td id=\"T_e1263524_5039_11eb_8f66_0242ac1c0002row1_col5\" class=\"data row1 col5\" >29</td>\n",
              "                        <td id=\"T_e1263524_5039_11eb_8f66_0242ac1c0002row1_col6\" class=\"data row1 col6\" >150</td>\n",
              "                        <td id=\"T_e1263524_5039_11eb_8f66_0242ac1c0002row1_col7\" class=\"data row1 col7\" >195</td>\n",
              "                        <td id=\"T_e1263524_5039_11eb_8f66_0242ac1c0002row1_col8\" class=\"data row1 col8\" >254</td>\n",
              "                        <td id=\"T_e1263524_5039_11eb_8f66_0242ac1c0002row1_col9\" class=\"data row1 col9\" >255</td>\n",
              "                        <td id=\"T_e1263524_5039_11eb_8f66_0242ac1c0002row1_col10\" class=\"data row1 col10\" >254</td>\n",
              "                        <td id=\"T_e1263524_5039_11eb_8f66_0242ac1c0002row1_col11\" class=\"data row1 col11\" >176</td>\n",
              "                        <td id=\"T_e1263524_5039_11eb_8f66_0242ac1c0002row1_col12\" class=\"data row1 col12\" >193</td>\n",
              "                        <td id=\"T_e1263524_5039_11eb_8f66_0242ac1c0002row1_col13\" class=\"data row1 col13\" >150</td>\n",
              "                        <td id=\"T_e1263524_5039_11eb_8f66_0242ac1c0002row1_col14\" class=\"data row1 col14\" >96</td>\n",
              "                        <td id=\"T_e1263524_5039_11eb_8f66_0242ac1c0002row1_col15\" class=\"data row1 col15\" >0</td>\n",
              "                        <td id=\"T_e1263524_5039_11eb_8f66_0242ac1c0002row1_col16\" class=\"data row1 col16\" >0</td>\n",
              "                        <td id=\"T_e1263524_5039_11eb_8f66_0242ac1c0002row1_col17\" class=\"data row1 col17\" >0</td>\n",
              "            </tr>\n",
              "            <tr>\n",
              "                        <th id=\"T_e1263524_5039_11eb_8f66_0242ac1c0002level0_row2\" class=\"row_heading level0 row2\" >2</th>\n",
              "                        <td id=\"T_e1263524_5039_11eb_8f66_0242ac1c0002row2_col0\" class=\"data row2 col0\" >0</td>\n",
              "                        <td id=\"T_e1263524_5039_11eb_8f66_0242ac1c0002row2_col1\" class=\"data row2 col1\" >0</td>\n",
              "                        <td id=\"T_e1263524_5039_11eb_8f66_0242ac1c0002row2_col2\" class=\"data row2 col2\" >0</td>\n",
              "                        <td id=\"T_e1263524_5039_11eb_8f66_0242ac1c0002row2_col3\" class=\"data row2 col3\" >48</td>\n",
              "                        <td id=\"T_e1263524_5039_11eb_8f66_0242ac1c0002row2_col4\" class=\"data row2 col4\" >166</td>\n",
              "                        <td id=\"T_e1263524_5039_11eb_8f66_0242ac1c0002row2_col5\" class=\"data row2 col5\" >224</td>\n",
              "                        <td id=\"T_e1263524_5039_11eb_8f66_0242ac1c0002row2_col6\" class=\"data row2 col6\" >253</td>\n",
              "                        <td id=\"T_e1263524_5039_11eb_8f66_0242ac1c0002row2_col7\" class=\"data row2 col7\" >253</td>\n",
              "                        <td id=\"T_e1263524_5039_11eb_8f66_0242ac1c0002row2_col8\" class=\"data row2 col8\" >234</td>\n",
              "                        <td id=\"T_e1263524_5039_11eb_8f66_0242ac1c0002row2_col9\" class=\"data row2 col9\" >196</td>\n",
              "                        <td id=\"T_e1263524_5039_11eb_8f66_0242ac1c0002row2_col10\" class=\"data row2 col10\" >253</td>\n",
              "                        <td id=\"T_e1263524_5039_11eb_8f66_0242ac1c0002row2_col11\" class=\"data row2 col11\" >253</td>\n",
              "                        <td id=\"T_e1263524_5039_11eb_8f66_0242ac1c0002row2_col12\" class=\"data row2 col12\" >253</td>\n",
              "                        <td id=\"T_e1263524_5039_11eb_8f66_0242ac1c0002row2_col13\" class=\"data row2 col13\" >253</td>\n",
              "                        <td id=\"T_e1263524_5039_11eb_8f66_0242ac1c0002row2_col14\" class=\"data row2 col14\" >233</td>\n",
              "                        <td id=\"T_e1263524_5039_11eb_8f66_0242ac1c0002row2_col15\" class=\"data row2 col15\" >0</td>\n",
              "                        <td id=\"T_e1263524_5039_11eb_8f66_0242ac1c0002row2_col16\" class=\"data row2 col16\" >0</td>\n",
              "                        <td id=\"T_e1263524_5039_11eb_8f66_0242ac1c0002row2_col17\" class=\"data row2 col17\" >0</td>\n",
              "            </tr>\n",
              "            <tr>\n",
              "                        <th id=\"T_e1263524_5039_11eb_8f66_0242ac1c0002level0_row3\" class=\"row_heading level0 row3\" >3</th>\n",
              "                        <td id=\"T_e1263524_5039_11eb_8f66_0242ac1c0002row3_col0\" class=\"data row3 col0\" >0</td>\n",
              "                        <td id=\"T_e1263524_5039_11eb_8f66_0242ac1c0002row3_col1\" class=\"data row3 col1\" >93</td>\n",
              "                        <td id=\"T_e1263524_5039_11eb_8f66_0242ac1c0002row3_col2\" class=\"data row3 col2\" >244</td>\n",
              "                        <td id=\"T_e1263524_5039_11eb_8f66_0242ac1c0002row3_col3\" class=\"data row3 col3\" >249</td>\n",
              "                        <td id=\"T_e1263524_5039_11eb_8f66_0242ac1c0002row3_col4\" class=\"data row3 col4\" >253</td>\n",
              "                        <td id=\"T_e1263524_5039_11eb_8f66_0242ac1c0002row3_col5\" class=\"data row3 col5\" >187</td>\n",
              "                        <td id=\"T_e1263524_5039_11eb_8f66_0242ac1c0002row3_col6\" class=\"data row3 col6\" >46</td>\n",
              "                        <td id=\"T_e1263524_5039_11eb_8f66_0242ac1c0002row3_col7\" class=\"data row3 col7\" >10</td>\n",
              "                        <td id=\"T_e1263524_5039_11eb_8f66_0242ac1c0002row3_col8\" class=\"data row3 col8\" >8</td>\n",
              "                        <td id=\"T_e1263524_5039_11eb_8f66_0242ac1c0002row3_col9\" class=\"data row3 col9\" >4</td>\n",
              "                        <td id=\"T_e1263524_5039_11eb_8f66_0242ac1c0002row3_col10\" class=\"data row3 col10\" >10</td>\n",
              "                        <td id=\"T_e1263524_5039_11eb_8f66_0242ac1c0002row3_col11\" class=\"data row3 col11\" >194</td>\n",
              "                        <td id=\"T_e1263524_5039_11eb_8f66_0242ac1c0002row3_col12\" class=\"data row3 col12\" >253</td>\n",
              "                        <td id=\"T_e1263524_5039_11eb_8f66_0242ac1c0002row3_col13\" class=\"data row3 col13\" >253</td>\n",
              "                        <td id=\"T_e1263524_5039_11eb_8f66_0242ac1c0002row3_col14\" class=\"data row3 col14\" >233</td>\n",
              "                        <td id=\"T_e1263524_5039_11eb_8f66_0242ac1c0002row3_col15\" class=\"data row3 col15\" >0</td>\n",
              "                        <td id=\"T_e1263524_5039_11eb_8f66_0242ac1c0002row3_col16\" class=\"data row3 col16\" >0</td>\n",
              "                        <td id=\"T_e1263524_5039_11eb_8f66_0242ac1c0002row3_col17\" class=\"data row3 col17\" >0</td>\n",
              "            </tr>\n",
              "            <tr>\n",
              "                        <th id=\"T_e1263524_5039_11eb_8f66_0242ac1c0002level0_row4\" class=\"row_heading level0 row4\" >4</th>\n",
              "                        <td id=\"T_e1263524_5039_11eb_8f66_0242ac1c0002row4_col0\" class=\"data row4 col0\" >0</td>\n",
              "                        <td id=\"T_e1263524_5039_11eb_8f66_0242ac1c0002row4_col1\" class=\"data row4 col1\" >107</td>\n",
              "                        <td id=\"T_e1263524_5039_11eb_8f66_0242ac1c0002row4_col2\" class=\"data row4 col2\" >253</td>\n",
              "                        <td id=\"T_e1263524_5039_11eb_8f66_0242ac1c0002row4_col3\" class=\"data row4 col3\" >253</td>\n",
              "                        <td id=\"T_e1263524_5039_11eb_8f66_0242ac1c0002row4_col4\" class=\"data row4 col4\" >230</td>\n",
              "                        <td id=\"T_e1263524_5039_11eb_8f66_0242ac1c0002row4_col5\" class=\"data row4 col5\" >48</td>\n",
              "                        <td id=\"T_e1263524_5039_11eb_8f66_0242ac1c0002row4_col6\" class=\"data row4 col6\" >0</td>\n",
              "                        <td id=\"T_e1263524_5039_11eb_8f66_0242ac1c0002row4_col7\" class=\"data row4 col7\" >0</td>\n",
              "                        <td id=\"T_e1263524_5039_11eb_8f66_0242ac1c0002row4_col8\" class=\"data row4 col8\" >0</td>\n",
              "                        <td id=\"T_e1263524_5039_11eb_8f66_0242ac1c0002row4_col9\" class=\"data row4 col9\" >0</td>\n",
              "                        <td id=\"T_e1263524_5039_11eb_8f66_0242ac1c0002row4_col10\" class=\"data row4 col10\" >0</td>\n",
              "                        <td id=\"T_e1263524_5039_11eb_8f66_0242ac1c0002row4_col11\" class=\"data row4 col11\" >192</td>\n",
              "                        <td id=\"T_e1263524_5039_11eb_8f66_0242ac1c0002row4_col12\" class=\"data row4 col12\" >253</td>\n",
              "                        <td id=\"T_e1263524_5039_11eb_8f66_0242ac1c0002row4_col13\" class=\"data row4 col13\" >253</td>\n",
              "                        <td id=\"T_e1263524_5039_11eb_8f66_0242ac1c0002row4_col14\" class=\"data row4 col14\" >156</td>\n",
              "                        <td id=\"T_e1263524_5039_11eb_8f66_0242ac1c0002row4_col15\" class=\"data row4 col15\" >0</td>\n",
              "                        <td id=\"T_e1263524_5039_11eb_8f66_0242ac1c0002row4_col16\" class=\"data row4 col16\" >0</td>\n",
              "                        <td id=\"T_e1263524_5039_11eb_8f66_0242ac1c0002row4_col17\" class=\"data row4 col17\" >0</td>\n",
              "            </tr>\n",
              "            <tr>\n",
              "                        <th id=\"T_e1263524_5039_11eb_8f66_0242ac1c0002level0_row5\" class=\"row_heading level0 row5\" >5</th>\n",
              "                        <td id=\"T_e1263524_5039_11eb_8f66_0242ac1c0002row5_col0\" class=\"data row5 col0\" >0</td>\n",
              "                        <td id=\"T_e1263524_5039_11eb_8f66_0242ac1c0002row5_col1\" class=\"data row5 col1\" >3</td>\n",
              "                        <td id=\"T_e1263524_5039_11eb_8f66_0242ac1c0002row5_col2\" class=\"data row5 col2\" >20</td>\n",
              "                        <td id=\"T_e1263524_5039_11eb_8f66_0242ac1c0002row5_col3\" class=\"data row5 col3\" >20</td>\n",
              "                        <td id=\"T_e1263524_5039_11eb_8f66_0242ac1c0002row5_col4\" class=\"data row5 col4\" >15</td>\n",
              "                        <td id=\"T_e1263524_5039_11eb_8f66_0242ac1c0002row5_col5\" class=\"data row5 col5\" >0</td>\n",
              "                        <td id=\"T_e1263524_5039_11eb_8f66_0242ac1c0002row5_col6\" class=\"data row5 col6\" >0</td>\n",
              "                        <td id=\"T_e1263524_5039_11eb_8f66_0242ac1c0002row5_col7\" class=\"data row5 col7\" >0</td>\n",
              "                        <td id=\"T_e1263524_5039_11eb_8f66_0242ac1c0002row5_col8\" class=\"data row5 col8\" >0</td>\n",
              "                        <td id=\"T_e1263524_5039_11eb_8f66_0242ac1c0002row5_col9\" class=\"data row5 col9\" >0</td>\n",
              "                        <td id=\"T_e1263524_5039_11eb_8f66_0242ac1c0002row5_col10\" class=\"data row5 col10\" >43</td>\n",
              "                        <td id=\"T_e1263524_5039_11eb_8f66_0242ac1c0002row5_col11\" class=\"data row5 col11\" >224</td>\n",
              "                        <td id=\"T_e1263524_5039_11eb_8f66_0242ac1c0002row5_col12\" class=\"data row5 col12\" >253</td>\n",
              "                        <td id=\"T_e1263524_5039_11eb_8f66_0242ac1c0002row5_col13\" class=\"data row5 col13\" >245</td>\n",
              "                        <td id=\"T_e1263524_5039_11eb_8f66_0242ac1c0002row5_col14\" class=\"data row5 col14\" >74</td>\n",
              "                        <td id=\"T_e1263524_5039_11eb_8f66_0242ac1c0002row5_col15\" class=\"data row5 col15\" >0</td>\n",
              "                        <td id=\"T_e1263524_5039_11eb_8f66_0242ac1c0002row5_col16\" class=\"data row5 col16\" >0</td>\n",
              "                        <td id=\"T_e1263524_5039_11eb_8f66_0242ac1c0002row5_col17\" class=\"data row5 col17\" >0</td>\n",
              "            </tr>\n",
              "            <tr>\n",
              "                        <th id=\"T_e1263524_5039_11eb_8f66_0242ac1c0002level0_row6\" class=\"row_heading level0 row6\" >6</th>\n",
              "                        <td id=\"T_e1263524_5039_11eb_8f66_0242ac1c0002row6_col0\" class=\"data row6 col0\" >0</td>\n",
              "                        <td id=\"T_e1263524_5039_11eb_8f66_0242ac1c0002row6_col1\" class=\"data row6 col1\" >0</td>\n",
              "                        <td id=\"T_e1263524_5039_11eb_8f66_0242ac1c0002row6_col2\" class=\"data row6 col2\" >0</td>\n",
              "                        <td id=\"T_e1263524_5039_11eb_8f66_0242ac1c0002row6_col3\" class=\"data row6 col3\" >0</td>\n",
              "                        <td id=\"T_e1263524_5039_11eb_8f66_0242ac1c0002row6_col4\" class=\"data row6 col4\" >0</td>\n",
              "                        <td id=\"T_e1263524_5039_11eb_8f66_0242ac1c0002row6_col5\" class=\"data row6 col5\" >0</td>\n",
              "                        <td id=\"T_e1263524_5039_11eb_8f66_0242ac1c0002row6_col6\" class=\"data row6 col6\" >0</td>\n",
              "                        <td id=\"T_e1263524_5039_11eb_8f66_0242ac1c0002row6_col7\" class=\"data row6 col7\" >0</td>\n",
              "                        <td id=\"T_e1263524_5039_11eb_8f66_0242ac1c0002row6_col8\" class=\"data row6 col8\" >0</td>\n",
              "                        <td id=\"T_e1263524_5039_11eb_8f66_0242ac1c0002row6_col9\" class=\"data row6 col9\" >0</td>\n",
              "                        <td id=\"T_e1263524_5039_11eb_8f66_0242ac1c0002row6_col10\" class=\"data row6 col10\" >249</td>\n",
              "                        <td id=\"T_e1263524_5039_11eb_8f66_0242ac1c0002row6_col11\" class=\"data row6 col11\" >253</td>\n",
              "                        <td id=\"T_e1263524_5039_11eb_8f66_0242ac1c0002row6_col12\" class=\"data row6 col12\" >245</td>\n",
              "                        <td id=\"T_e1263524_5039_11eb_8f66_0242ac1c0002row6_col13\" class=\"data row6 col13\" >126</td>\n",
              "                        <td id=\"T_e1263524_5039_11eb_8f66_0242ac1c0002row6_col14\" class=\"data row6 col14\" >0</td>\n",
              "                        <td id=\"T_e1263524_5039_11eb_8f66_0242ac1c0002row6_col15\" class=\"data row6 col15\" >0</td>\n",
              "                        <td id=\"T_e1263524_5039_11eb_8f66_0242ac1c0002row6_col16\" class=\"data row6 col16\" >0</td>\n",
              "                        <td id=\"T_e1263524_5039_11eb_8f66_0242ac1c0002row6_col17\" class=\"data row6 col17\" >0</td>\n",
              "            </tr>\n",
              "            <tr>\n",
              "                        <th id=\"T_e1263524_5039_11eb_8f66_0242ac1c0002level0_row7\" class=\"row_heading level0 row7\" >7</th>\n",
              "                        <td id=\"T_e1263524_5039_11eb_8f66_0242ac1c0002row7_col0\" class=\"data row7 col0\" >0</td>\n",
              "                        <td id=\"T_e1263524_5039_11eb_8f66_0242ac1c0002row7_col1\" class=\"data row7 col1\" >0</td>\n",
              "                        <td id=\"T_e1263524_5039_11eb_8f66_0242ac1c0002row7_col2\" class=\"data row7 col2\" >0</td>\n",
              "                        <td id=\"T_e1263524_5039_11eb_8f66_0242ac1c0002row7_col3\" class=\"data row7 col3\" >0</td>\n",
              "                        <td id=\"T_e1263524_5039_11eb_8f66_0242ac1c0002row7_col4\" class=\"data row7 col4\" >0</td>\n",
              "                        <td id=\"T_e1263524_5039_11eb_8f66_0242ac1c0002row7_col5\" class=\"data row7 col5\" >0</td>\n",
              "                        <td id=\"T_e1263524_5039_11eb_8f66_0242ac1c0002row7_col6\" class=\"data row7 col6\" >0</td>\n",
              "                        <td id=\"T_e1263524_5039_11eb_8f66_0242ac1c0002row7_col7\" class=\"data row7 col7\" >14</td>\n",
              "                        <td id=\"T_e1263524_5039_11eb_8f66_0242ac1c0002row7_col8\" class=\"data row7 col8\" >101</td>\n",
              "                        <td id=\"T_e1263524_5039_11eb_8f66_0242ac1c0002row7_col9\" class=\"data row7 col9\" >223</td>\n",
              "                        <td id=\"T_e1263524_5039_11eb_8f66_0242ac1c0002row7_col10\" class=\"data row7 col10\" >253</td>\n",
              "                        <td id=\"T_e1263524_5039_11eb_8f66_0242ac1c0002row7_col11\" class=\"data row7 col11\" >248</td>\n",
              "                        <td id=\"T_e1263524_5039_11eb_8f66_0242ac1c0002row7_col12\" class=\"data row7 col12\" >124</td>\n",
              "                        <td id=\"T_e1263524_5039_11eb_8f66_0242ac1c0002row7_col13\" class=\"data row7 col13\" >0</td>\n",
              "                        <td id=\"T_e1263524_5039_11eb_8f66_0242ac1c0002row7_col14\" class=\"data row7 col14\" >0</td>\n",
              "                        <td id=\"T_e1263524_5039_11eb_8f66_0242ac1c0002row7_col15\" class=\"data row7 col15\" >0</td>\n",
              "                        <td id=\"T_e1263524_5039_11eb_8f66_0242ac1c0002row7_col16\" class=\"data row7 col16\" >0</td>\n",
              "                        <td id=\"T_e1263524_5039_11eb_8f66_0242ac1c0002row7_col17\" class=\"data row7 col17\" >0</td>\n",
              "            </tr>\n",
              "            <tr>\n",
              "                        <th id=\"T_e1263524_5039_11eb_8f66_0242ac1c0002level0_row8\" class=\"row_heading level0 row8\" >8</th>\n",
              "                        <td id=\"T_e1263524_5039_11eb_8f66_0242ac1c0002row8_col0\" class=\"data row8 col0\" >0</td>\n",
              "                        <td id=\"T_e1263524_5039_11eb_8f66_0242ac1c0002row8_col1\" class=\"data row8 col1\" >0</td>\n",
              "                        <td id=\"T_e1263524_5039_11eb_8f66_0242ac1c0002row8_col2\" class=\"data row8 col2\" >0</td>\n",
              "                        <td id=\"T_e1263524_5039_11eb_8f66_0242ac1c0002row8_col3\" class=\"data row8 col3\" >0</td>\n",
              "                        <td id=\"T_e1263524_5039_11eb_8f66_0242ac1c0002row8_col4\" class=\"data row8 col4\" >0</td>\n",
              "                        <td id=\"T_e1263524_5039_11eb_8f66_0242ac1c0002row8_col5\" class=\"data row8 col5\" >11</td>\n",
              "                        <td id=\"T_e1263524_5039_11eb_8f66_0242ac1c0002row8_col6\" class=\"data row8 col6\" >166</td>\n",
              "                        <td id=\"T_e1263524_5039_11eb_8f66_0242ac1c0002row8_col7\" class=\"data row8 col7\" >239</td>\n",
              "                        <td id=\"T_e1263524_5039_11eb_8f66_0242ac1c0002row8_col8\" class=\"data row8 col8\" >253</td>\n",
              "                        <td id=\"T_e1263524_5039_11eb_8f66_0242ac1c0002row8_col9\" class=\"data row8 col9\" >253</td>\n",
              "                        <td id=\"T_e1263524_5039_11eb_8f66_0242ac1c0002row8_col10\" class=\"data row8 col10\" >253</td>\n",
              "                        <td id=\"T_e1263524_5039_11eb_8f66_0242ac1c0002row8_col11\" class=\"data row8 col11\" >187</td>\n",
              "                        <td id=\"T_e1263524_5039_11eb_8f66_0242ac1c0002row8_col12\" class=\"data row8 col12\" >30</td>\n",
              "                        <td id=\"T_e1263524_5039_11eb_8f66_0242ac1c0002row8_col13\" class=\"data row8 col13\" >0</td>\n",
              "                        <td id=\"T_e1263524_5039_11eb_8f66_0242ac1c0002row8_col14\" class=\"data row8 col14\" >0</td>\n",
              "                        <td id=\"T_e1263524_5039_11eb_8f66_0242ac1c0002row8_col15\" class=\"data row8 col15\" >0</td>\n",
              "                        <td id=\"T_e1263524_5039_11eb_8f66_0242ac1c0002row8_col16\" class=\"data row8 col16\" >0</td>\n",
              "                        <td id=\"T_e1263524_5039_11eb_8f66_0242ac1c0002row8_col17\" class=\"data row8 col17\" >0</td>\n",
              "            </tr>\n",
              "            <tr>\n",
              "                        <th id=\"T_e1263524_5039_11eb_8f66_0242ac1c0002level0_row9\" class=\"row_heading level0 row9\" >9</th>\n",
              "                        <td id=\"T_e1263524_5039_11eb_8f66_0242ac1c0002row9_col0\" class=\"data row9 col0\" >0</td>\n",
              "                        <td id=\"T_e1263524_5039_11eb_8f66_0242ac1c0002row9_col1\" class=\"data row9 col1\" >0</td>\n",
              "                        <td id=\"T_e1263524_5039_11eb_8f66_0242ac1c0002row9_col2\" class=\"data row9 col2\" >0</td>\n",
              "                        <td id=\"T_e1263524_5039_11eb_8f66_0242ac1c0002row9_col3\" class=\"data row9 col3\" >0</td>\n",
              "                        <td id=\"T_e1263524_5039_11eb_8f66_0242ac1c0002row9_col4\" class=\"data row9 col4\" >0</td>\n",
              "                        <td id=\"T_e1263524_5039_11eb_8f66_0242ac1c0002row9_col5\" class=\"data row9 col5\" >16</td>\n",
              "                        <td id=\"T_e1263524_5039_11eb_8f66_0242ac1c0002row9_col6\" class=\"data row9 col6\" >248</td>\n",
              "                        <td id=\"T_e1263524_5039_11eb_8f66_0242ac1c0002row9_col7\" class=\"data row9 col7\" >250</td>\n",
              "                        <td id=\"T_e1263524_5039_11eb_8f66_0242ac1c0002row9_col8\" class=\"data row9 col8\" >253</td>\n",
              "                        <td id=\"T_e1263524_5039_11eb_8f66_0242ac1c0002row9_col9\" class=\"data row9 col9\" >253</td>\n",
              "                        <td id=\"T_e1263524_5039_11eb_8f66_0242ac1c0002row9_col10\" class=\"data row9 col10\" >253</td>\n",
              "                        <td id=\"T_e1263524_5039_11eb_8f66_0242ac1c0002row9_col11\" class=\"data row9 col11\" >253</td>\n",
              "                        <td id=\"T_e1263524_5039_11eb_8f66_0242ac1c0002row9_col12\" class=\"data row9 col12\" >232</td>\n",
              "                        <td id=\"T_e1263524_5039_11eb_8f66_0242ac1c0002row9_col13\" class=\"data row9 col13\" >213</td>\n",
              "                        <td id=\"T_e1263524_5039_11eb_8f66_0242ac1c0002row9_col14\" class=\"data row9 col14\" >111</td>\n",
              "                        <td id=\"T_e1263524_5039_11eb_8f66_0242ac1c0002row9_col15\" class=\"data row9 col15\" >2</td>\n",
              "                        <td id=\"T_e1263524_5039_11eb_8f66_0242ac1c0002row9_col16\" class=\"data row9 col16\" >0</td>\n",
              "                        <td id=\"T_e1263524_5039_11eb_8f66_0242ac1c0002row9_col17\" class=\"data row9 col17\" >0</td>\n",
              "            </tr>\n",
              "            <tr>\n",
              "                        <th id=\"T_e1263524_5039_11eb_8f66_0242ac1c0002level0_row10\" class=\"row_heading level0 row10\" >10</th>\n",
              "                        <td id=\"T_e1263524_5039_11eb_8f66_0242ac1c0002row10_col0\" class=\"data row10 col0\" >0</td>\n",
              "                        <td id=\"T_e1263524_5039_11eb_8f66_0242ac1c0002row10_col1\" class=\"data row10 col1\" >0</td>\n",
              "                        <td id=\"T_e1263524_5039_11eb_8f66_0242ac1c0002row10_col2\" class=\"data row10 col2\" >0</td>\n",
              "                        <td id=\"T_e1263524_5039_11eb_8f66_0242ac1c0002row10_col3\" class=\"data row10 col3\" >0</td>\n",
              "                        <td id=\"T_e1263524_5039_11eb_8f66_0242ac1c0002row10_col4\" class=\"data row10 col4\" >0</td>\n",
              "                        <td id=\"T_e1263524_5039_11eb_8f66_0242ac1c0002row10_col5\" class=\"data row10 col5\" >0</td>\n",
              "                        <td id=\"T_e1263524_5039_11eb_8f66_0242ac1c0002row10_col6\" class=\"data row10 col6\" >0</td>\n",
              "                        <td id=\"T_e1263524_5039_11eb_8f66_0242ac1c0002row10_col7\" class=\"data row10 col7\" >43</td>\n",
              "                        <td id=\"T_e1263524_5039_11eb_8f66_0242ac1c0002row10_col8\" class=\"data row10 col8\" >98</td>\n",
              "                        <td id=\"T_e1263524_5039_11eb_8f66_0242ac1c0002row10_col9\" class=\"data row10 col9\" >98</td>\n",
              "                        <td id=\"T_e1263524_5039_11eb_8f66_0242ac1c0002row10_col10\" class=\"data row10 col10\" >208</td>\n",
              "                        <td id=\"T_e1263524_5039_11eb_8f66_0242ac1c0002row10_col11\" class=\"data row10 col11\" >253</td>\n",
              "                        <td id=\"T_e1263524_5039_11eb_8f66_0242ac1c0002row10_col12\" class=\"data row10 col12\" >253</td>\n",
              "                        <td id=\"T_e1263524_5039_11eb_8f66_0242ac1c0002row10_col13\" class=\"data row10 col13\" >253</td>\n",
              "                        <td id=\"T_e1263524_5039_11eb_8f66_0242ac1c0002row10_col14\" class=\"data row10 col14\" >253</td>\n",
              "                        <td id=\"T_e1263524_5039_11eb_8f66_0242ac1c0002row10_col15\" class=\"data row10 col15\" >187</td>\n",
              "                        <td id=\"T_e1263524_5039_11eb_8f66_0242ac1c0002row10_col16\" class=\"data row10 col16\" >22</td>\n",
              "                        <td id=\"T_e1263524_5039_11eb_8f66_0242ac1c0002row10_col17\" class=\"data row10 col17\" >0</td>\n",
              "            </tr>\n",
              "    </tbody></table>"
            ],
            "text/plain": [
              "<pandas.io.formats.style.Styler at 0x7f14be5ff550>"
            ]
          },
          "metadata": {
            "tags": []
          },
          "execution_count": 271
        }
      ]
    },
    {
      "cell_type": "markdown",
      "metadata": {
        "id": "oMF9djuXQ5gX"
      },
      "source": [
        "# Pixel Similarity"
      ]
    },
    {
      "cell_type": "markdown",
      "metadata": {
        "id": "jSu2offSgghg"
      },
      "source": [
        "Find the average pixel value for every pixel of the 3s, then do the same for the 7s. This will give you the \"ideal\" number. Then, to classify an image as one digit or the other, we see which of these two ideal digits the image is most similar to. "
      ]
    },
    {
      "cell_type": "markdown",
      "metadata": {
        "id": "JBhZqpjihWqi"
      },
      "source": [
        "Get tensor of every image:"
      ]
    },
    {
      "cell_type": "code",
      "metadata": {
        "id": "ln0yoTHrPm-9"
      },
      "source": [
        "seven_tensors = [tensor(Image.open(o)) for o in sevens]\r\n",
        "three_tensors = [tensor(Image.open(o)) for o in threes]"
      ],
      "execution_count": 272,
      "outputs": []
    },
    {
      "cell_type": "markdown",
      "metadata": {
        "id": "4XBMXRFiiHPj"
      },
      "source": [
        "Number of items in list:"
      ]
    },
    {
      "cell_type": "code",
      "metadata": {
        "colab": {
          "base_uri": "https://localhost:8080/"
        },
        "id": "Wexi99TChpem",
        "outputId": "7762ee41-f985-4227-f97a-bc2323829fc2"
      },
      "source": [
        "len(seven_tensors), len(three_tensors)"
      ],
      "execution_count": 273,
      "outputs": [
        {
          "output_type": "execute_result",
          "data": {
            "text/plain": [
              "(6265, 6131)"
            ]
          },
          "metadata": {
            "tags": []
          },
          "execution_count": 273
        }
      ]
    },
    {
      "cell_type": "markdown",
      "metadata": {
        "id": "DeDqx6MuiWpt"
      },
      "source": [
        "Show tensor as image:"
      ]
    },
    {
      "cell_type": "code",
      "metadata": {
        "colab": {
          "base_uri": "https://localhost:8080/",
          "height": 85
        },
        "id": "Y0kPF8BziQHH",
        "outputId": "5f991491-3365-4cd8-cc9e-1173c3046512"
      },
      "source": [
        "show_image(three_tensors[1]);"
      ],
      "execution_count": 274,
      "outputs": [
        {
          "output_type": "display_data",
          "data": {
            "image/png": "[encoded data removed]",
            "text/plain": [
              "<Figure size 72x72 with 1 Axes>"
            ]
          },
          "metadata": {
            "tags": [],
            "needs_background": "light"
          }
        }
      ]
    },
    {
      "cell_type": "markdown",
      "metadata": {
        "id": "TDZD7o3ninus"
      },
      "source": [
        "For every pixel position we want to compute the average over all the images of the intensity of that pixel. Stack all images in the list into a single 3D-tesor. This is called a ``rank-3 tensor``.\r\n",
        "\r\n",
        "- First requirement is to convert from integer type to float type!\r\n",
        "- Divide by 255 in order to get values between 0 and 1"
      ]
    },
    {
      "cell_type": "code",
      "metadata": {
        "id": "Q905ba6YieOM"
      },
      "source": [
        "stacked_sevens = torch.stack(seven_tensors).float()/255 # stack tensors, convert to float and divide by 255\r\n",
        "stacked_threes = torch.stack(three_tensors).float()/255"
      ],
      "execution_count": 275,
      "outputs": []
    },
    {
      "cell_type": "markdown",
      "metadata": {
        "id": "IKWcpb9Ckbzt"
      },
      "source": [
        "Shape of tensor:\r\n",
        "\r\n",
        "We see 6131 images of size 28(height)x28(width)"
      ]
    },
    {
      "cell_type": "code",
      "metadata": {
        "colab": {
          "base_uri": "https://localhost:8080/"
        },
        "id": "eVTEHXIrkTIF",
        "outputId": "d5fb5a1c-d2f8-4efd-b996-062e0246377c"
      },
      "source": [
        "stacked_threes.shape"
      ],
      "execution_count": 276,
      "outputs": [
        {
          "output_type": "execute_result",
          "data": {
            "text/plain": [
              "torch.Size([6131, 28, 28])"
            ]
          },
          "metadata": {
            "tags": []
          },
          "execution_count": 276
        }
      ]
    },
    {
      "cell_type": "markdown",
      "metadata": {
        "id": "nEzl7nblkqQV"
      },
      "source": [
        "The rank of the tensor is the *length* of its tensor shape: length <--> rank\r\n",
        "\r\n",
        "- **rank:** number of axis (dimensions) in a tensor\r\n",
        "- **shape:** size of each axis of a tensor"
      ]
    },
    {
      "cell_type": "code",
      "metadata": {
        "colab": {
          "base_uri": "https://localhost:8080/"
        },
        "id": "5w0aF-uTkmPH",
        "outputId": "4564429a-e25c-48c5-ce1c-fdaf42eff2ad"
      },
      "source": [
        "len(stacked_threes.shape)"
      ],
      "execution_count": 277,
      "outputs": [
        {
          "output_type": "execute_result",
          "data": {
            "text/plain": [
              "3"
            ]
          },
          "metadata": {
            "tags": []
          },
          "execution_count": 277
        }
      ]
    },
    {
      "cell_type": "markdown",
      "metadata": {
        "id": "BTLwmN-OnHhO"
      },
      "source": [
        "Different way to get the rank of tensor:"
      ]
    },
    {
      "cell_type": "code",
      "metadata": {
        "colab": {
          "base_uri": "https://localhost:8080/"
        },
        "id": "nSdCoCVolmx4",
        "outputId": "76259525-ca49-4671-fb55-cb8cae3cb029"
      },
      "source": [
        "stacked_threes.ndim"
      ],
      "execution_count": 278,
      "outputs": [
        {
          "output_type": "execute_result",
          "data": {
            "text/plain": [
              "3"
            ]
          },
          "metadata": {
            "tags": []
          },
          "execution_count": 278
        }
      ]
    },
    {
      "cell_type": "markdown",
      "metadata": {
        "id": "x-DY1XtKn8qe"
      },
      "source": [
        "Get \"perfect\" 3 and 7:\r\n",
        "\r\n",
        "Take mean along axis 0 of stacked, rank-3 tensors"
      ]
    },
    {
      "cell_type": "code",
      "metadata": {
        "id": "c_eq5xcJnVtZ"
      },
      "source": [
        "mean3 = stacked_threes.mean(0)\r\n",
        "mean7 = stacked_sevens.mean(0)"
      ],
      "execution_count": 279,
      "outputs": []
    },
    {
      "cell_type": "markdown",
      "metadata": {
        "id": "A-JmYDTUo6ow"
      },
      "source": [
        "Show perfect number:"
      ]
    },
    {
      "cell_type": "code",
      "metadata": {
        "colab": {
          "base_uri": "https://localhost:8080/",
          "height": 85
        },
        "id": "OoO9rYIIo5OL",
        "outputId": "ef98f31c-91f9-4e0e-e1bd-8bc9cc301606"
      },
      "source": [
        "show_image(mean3);"
      ],
      "execution_count": 280,
      "outputs": [
        {
          "output_type": "display_data",
          "data": {
            "image/png": "[encoded data removed]",
            "text/plain": [
              "<Figure size 72x72 with 1 Axes>"
            ]
          },
          "metadata": {
            "tags": [],
            "needs_background": "light"
          }
        }
      ]
    },
    {
      "cell_type": "code",
      "metadata": {
        "colab": {
          "base_uri": "https://localhost:8080/",
          "height": 85
        },
        "id": "SJaYuCjtptMx",
        "outputId": "edff0202-bdb3-4a49-e170-786bb5428ee6"
      },
      "source": [
        "show_image(mean7);"
      ],
      "execution_count": 281,
      "outputs": [
        {
          "output_type": "display_data",
          "data": {
            "image/png": "[encoded data removed]",
            "text/plain": [
              "<Figure size 72x72 with 1 Axes>"
            ]
          },
          "metadata": {
            "tags": [],
            "needs_background": "light"
          }
        }
      ]
    },
    {
      "cell_type": "markdown",
      "metadata": {
        "id": "ROJxIJnWp5Bn"
      },
      "source": [
        "Take sample image:"
      ]
    },
    {
      "cell_type": "code",
      "metadata": {
        "colab": {
          "base_uri": "https://localhost:8080/",
          "height": 85
        },
        "id": "lH2qkZUNpzBE",
        "outputId": "9bb19529-c307-4b3a-824b-295dce08ab08"
      },
      "source": [
        "a_3 = stacked_threes[1]\r\n",
        "show_image(a_3);"
      ],
      "execution_count": 282,
      "outputs": [
        {
          "output_type": "display_data",
          "data": {
            "image/png": "[encoded data removed]",
            "text/plain": [
              "<Figure size 72x72 with 1 Axes>"
            ]
          },
          "metadata": {
            "tags": [],
            "needs_background": "light"
          }
        }
      ]
    },
    {
      "cell_type": "markdown",
      "metadata": {
        "id": "wIt8Tt3Yqbr8"
      },
      "source": [
        "How to determine distance of sample \"3\" to image of perfect \"3\"?\r\n",
        "\r\n",
        "Two main ways to measure distance:"
      ]
    },
    {
      "cell_type": "markdown",
      "metadata": {
        "id": "ScMzRzDdiFtX"
      },
      "source": [
        "1) L1-norm or mean absolute error --> absolute value of difference"
      ]
    },
    {
      "cell_type": "code",
      "metadata": {
        "id": "bUr6QTYpqI8y"
      },
      "source": [
        "dist_3_abs = (a_3 - mean3).abs().mean()\r\n",
        "dist_7_abs = (a_3 - mean7).abs().mean()"
      ],
      "execution_count": 283,
      "outputs": []
    },
    {
      "cell_type": "markdown",
      "metadata": {
        "id": "xFLZLhmfi9nA"
      },
      "source": [
        "2) L2-norm or root mean squared error --> mean of the square of the difference\r\n",
        "\r\n",
        "Note: L2 penalies bigger mistakes more heavily than L1-norm"
      ]
    },
    {
      "cell_type": "code",
      "metadata": {
        "id": "fCzFXv5gi803"
      },
      "source": [
        "dist_3_sqr = ((a_3 - mean3)**2).mean().sqrt()\r\n",
        "dist_7_sqr = ((a_3 - mean7)**2).mean().sqrt()"
      ],
      "execution_count": 284,
      "outputs": []
    },
    {
      "cell_type": "markdown",
      "metadata": {
        "id": "VMKODmOlkJ-q"
      },
      "source": [
        "Compare results:"
      ]
    },
    {
      "cell_type": "code",
      "metadata": {
        "colab": {
          "base_uri": "https://localhost:8080/"
        },
        "id": "9LwVF-3AjiAU",
        "outputId": "c8650155-a0c5-44ba-e3b9-1d76846d9140"
      },
      "source": [
        "dist_3_abs, dist_3_sqr"
      ],
      "execution_count": 285,
      "outputs": [
        {
          "output_type": "execute_result",
          "data": {
            "text/plain": [
              "(tensor(0.1114), tensor(0.2021))"
            ]
          },
          "metadata": {
            "tags": []
          },
          "execution_count": 285
        }
      ]
    },
    {
      "cell_type": "code",
      "metadata": {
        "colab": {
          "base_uri": "https://localhost:8080/"
        },
        "id": "0LSpZMLsjq-H",
        "outputId": "24a7ee97-0fe7-4331-a23d-f7fe6fcd6381"
      },
      "source": [
        "dist_7_abs, dist_7_sqr"
      ],
      "execution_count": 286,
      "outputs": [
        {
          "output_type": "execute_result",
          "data": {
            "text/plain": [
              "(tensor(0.1586), tensor(0.3021))"
            ]
          },
          "metadata": {
            "tags": []
          },
          "execution_count": 286
        }
      ]
    },
    {
      "cell_type": "markdown",
      "metadata": {
        "id": "DjHQeoWDkNDb"
      },
      "source": [
        "In both cases the distance between our 3 and \"ideal\" 3 is less than the distance to the \"ideal\" 7 --> this is what we would expect!"
      ]
    },
    {
      "cell_type": "code",
      "metadata": {
        "colab": {
          "base_uri": "https://localhost:8080/"
        },
        "id": "NpZPz3RmkE0l",
        "outputId": "35c519b7-38d3-4361-a179-25f565fa8f78"
      },
      "source": [
        "F.l1_loss(a_3.float(), mean3) # PyTorch function for L1"
      ],
      "execution_count": 287,
      "outputs": [
        {
          "output_type": "execute_result",
          "data": {
            "text/plain": [
              "tensor(0.1114)"
            ]
          },
          "metadata": {
            "tags": []
          },
          "execution_count": 287
        }
      ]
    },
    {
      "cell_type": "code",
      "metadata": {
        "colab": {
          "base_uri": "https://localhost:8080/"
        },
        "id": "GrqwM3aKlYC_",
        "outputId": "64077455-3b9a-42d5-9f0d-a5ba64253f97"
      },
      "source": [
        "F.mse_loss(a_3.float(), mean3).sqrt() # PyTorch function for L2"
      ],
      "execution_count": 288,
      "outputs": [
        {
          "output_type": "execute_result",
          "data": {
            "text/plain": [
              "tensor(0.2021)"
            ]
          },
          "metadata": {
            "tags": []
          },
          "execution_count": 288
        }
      ]
    },
    {
      "cell_type": "code",
      "metadata": {
        "colab": {
          "base_uri": "https://localhost:8080/"
        },
        "id": "y8xtEtjhlkGX",
        "outputId": "01b4eba7-c41d-4c2a-a7ae-f01c42d7fd49"
      },
      "source": [
        "F.l1_loss(a_3.float(), mean7) # PyTorch function for L1"
      ],
      "execution_count": 289,
      "outputs": [
        {
          "output_type": "execute_result",
          "data": {
            "text/plain": [
              "tensor(0.1586)"
            ]
          },
          "metadata": {
            "tags": []
          },
          "execution_count": 289
        }
      ]
    },
    {
      "cell_type": "code",
      "metadata": {
        "colab": {
          "base_uri": "https://localhost:8080/"
        },
        "id": "zDCT-F6xl9p0",
        "outputId": "d802dd99-05e4-4209-ad8c-cd1dbc5ad833"
      },
      "source": [
        "F.mse_loss(a_3.float(), mean7).sqrt() # PyTorch function for L2"
      ],
      "execution_count": 290,
      "outputs": [
        {
          "output_type": "execute_result",
          "data": {
            "text/plain": [
              "tensor(0.3021)"
            ]
          },
          "metadata": {
            "tags": []
          },
          "execution_count": 290
        }
      ]
    },
    {
      "cell_type": "markdown",
      "metadata": {
        "id": "JelXUHuImVoe"
      },
      "source": [
        "## Numpy arrays and PyTorch tensors\r\n",
        "\r\n",
        "- Numpy does not support using a GPU.\r\n",
        "- Numpy does not support calculating gradients. \r\n",
        "\r\n",
        "Both is important for Deep Learning."
      ]
    },
    {
      "cell_type": "code",
      "metadata": {
        "id": "93g_pAVjmCPf"
      },
      "source": [
        "data = [[1,2,3], [4,5,6]] # can be a list or list of list, or list of list of lists,..."
      ],
      "execution_count": 291,
      "outputs": []
    },
    {
      "cell_type": "code",
      "metadata": {
        "colab": {
          "base_uri": "https://localhost:8080/"
        },
        "id": "isuNBDOSrOkK",
        "outputId": "c7ba7f3b-0aea-40b2-e7df-b277edff0b75"
      },
      "source": [
        "arr = array(data) # create array\r\n",
        "arr"
      ],
      "execution_count": 292,
      "outputs": [
        {
          "output_type": "execute_result",
          "data": {
            "text/plain": [
              "array([[1, 2, 3],\n",
              "       [4, 5, 6]])"
            ]
          },
          "metadata": {
            "tags": []
          },
          "execution_count": 292
        }
      ]
    },
    {
      "cell_type": "code",
      "metadata": {
        "colab": {
          "base_uri": "https://localhost:8080/"
        },
        "id": "nLzEtGSPrWGq",
        "outputId": "7ab17646-c19e-415a-fb5b-c2945549df02"
      },
      "source": [
        "tns = tensor(data) # create tensor\r\n",
        "tns"
      ],
      "execution_count": 293,
      "outputs": [
        {
          "output_type": "execute_result",
          "data": {
            "text/plain": [
              "tensor([[1, 2, 3],\n",
              "        [4, 5, 6]])"
            ]
          },
          "metadata": {
            "tags": []
          },
          "execution_count": 293
        }
      ]
    },
    {
      "cell_type": "markdown",
      "metadata": {
        "id": "s4Qloqncr7J7"
      },
      "source": [
        "Select second row:"
      ]
    },
    {
      "cell_type": "code",
      "metadata": {
        "colab": {
          "base_uri": "https://localhost:8080/"
        },
        "id": "GoZpsumLrdC8",
        "outputId": "9812b42e-6b8a-426f-fada-37cbc75a2d2c"
      },
      "source": [
        "tns[1]"
      ],
      "execution_count": 294,
      "outputs": [
        {
          "output_type": "execute_result",
          "data": {
            "text/plain": [
              "tensor([4, 5, 6])"
            ]
          },
          "metadata": {
            "tags": []
          },
          "execution_count": 294
        }
      ]
    },
    {
      "cell_type": "markdown",
      "metadata": {
        "id": "oP0eQhZnsCNH"
      },
      "source": [
        "Select all of second column:"
      ]
    },
    {
      "cell_type": "code",
      "metadata": {
        "colab": {
          "base_uri": "https://localhost:8080/"
        },
        "id": "NCyao0aIsAKx",
        "outputId": "833ba8a1-5c85-4bc1-a422-fb302c9bfc02"
      },
      "source": [
        "tns[:,1]"
      ],
      "execution_count": 295,
      "outputs": [
        {
          "output_type": "execute_result",
          "data": {
            "text/plain": [
              "tensor([2, 5])"
            ]
          },
          "metadata": {
            "tags": []
          },
          "execution_count": 295
        }
      ]
    },
    {
      "cell_type": "markdown",
      "metadata": {
        "id": "FefLrK7csZ5_"
      },
      "source": [
        "Select second row from [start, end]"
      ]
    },
    {
      "cell_type": "code",
      "metadata": {
        "colab": {
          "base_uri": "https://localhost:8080/"
        },
        "id": "-9RWB2lEsToS",
        "outputId": "33945617-672e-4467-9490-b4a834e3daf9"
      },
      "source": [
        "tns[1,1:3]"
      ],
      "execution_count": 296,
      "outputs": [
        {
          "output_type": "execute_result",
          "data": {
            "text/plain": [
              "tensor([5, 6])"
            ]
          },
          "metadata": {
            "tags": []
          },
          "execution_count": 296
        }
      ]
    },
    {
      "cell_type": "markdown",
      "metadata": {
        "id": "t1m3iUqJthN7"
      },
      "source": [
        "Use standart operators like +, -, *, and /"
      ]
    },
    {
      "cell_type": "code",
      "metadata": {
        "colab": {
          "base_uri": "https://localhost:8080/"
        },
        "id": "XYfPIEJ6sryX",
        "outputId": "e1986cc6-6af7-4cdb-94b4-5bb66e2ded2f"
      },
      "source": [
        "tns + 1"
      ],
      "execution_count": 297,
      "outputs": [
        {
          "output_type": "execute_result",
          "data": {
            "text/plain": [
              "tensor([[2, 3, 4],\n",
              "        [5, 6, 7]])"
            ]
          },
          "metadata": {
            "tags": []
          },
          "execution_count": 297
        }
      ]
    },
    {
      "cell_type": "markdown",
      "metadata": {
        "id": "jNTtHpKMtuqb"
      },
      "source": [
        "Check type of tensor:"
      ]
    },
    {
      "cell_type": "code",
      "metadata": {
        "colab": {
          "base_uri": "https://localhost:8080/",
          "height": 35
        },
        "id": "uNqATkzStqt4",
        "outputId": "067c73b1-cda4-4e93-8b6b-e08d69ecd36f"
      },
      "source": [
        "tns.type()"
      ],
      "execution_count": 298,
      "outputs": [
        {
          "output_type": "execute_result",
          "data": {
            "application/vnd.google.colaboratory.intrinsic+json": {
              "type": "string"
            },
            "text/plain": [
              "'torch.LongTensor'"
            ]
          },
          "metadata": {
            "tags": []
          },
          "execution_count": 298
        }
      ]
    },
    {
      "cell_type": "markdown",
      "metadata": {
        "id": "QznP0HbFuAEj"
      },
      "source": [
        "Change type automaticaly when needed:"
      ]
    },
    {
      "cell_type": "code",
      "metadata": {
        "colab": {
          "base_uri": "https://localhost:8080/"
        },
        "id": "GLjVHRDrtyei",
        "outputId": "a5d0851c-efa7-4f28-9d03-91c1d07fbc27"
      },
      "source": [
        "tns * 1.5"
      ],
      "execution_count": 299,
      "outputs": [
        {
          "output_type": "execute_result",
          "data": {
            "text/plain": [
              "tensor([[1.5000, 3.0000, 4.5000],\n",
              "        [6.0000, 7.5000, 9.0000]])"
            ]
          },
          "metadata": {
            "tags": []
          },
          "execution_count": 299
        }
      ]
    },
    {
      "cell_type": "markdown",
      "metadata": {
        "id": "LI4dd9oSuNQB"
      },
      "source": [
        "# Computing Metrics Using Broadcasting\r\n",
        "The metric tells us, how good our model performce. For classification we often use ``accuracy`` as the metric.\r\n",
        "\r\n",
        "Let's create tensors for our 3s and 7s from the validation directory to test our \"model\". These are the tensors we will use to calculate a metric measuring the quality of our first-try model, which measures distance from an ideal image:"
      ]
    },
    {
      "cell_type": "code",
      "metadata": {
        "id": "ngF0Ze5luFBV"
      },
      "source": [
        "valid_3_tens = torch.stack([tensor(Image.open(o)) for o in (path/'valid'/'3').ls()]) # get tensor of every image\r\n",
        "valid_3_tens = valid_3_tens.float()/255 # convert to float and divide by 255"
      ],
      "execution_count": 300,
      "outputs": []
    },
    {
      "cell_type": "code",
      "metadata": {
        "id": "AWk_op6z0i9F"
      },
      "source": [
        "valid_7_tens = torch.stack([tensor(Image.open(o)) for o in (path/'valid'/'7').ls()]) # get tensor of every image\r\n",
        "valid_7_tens = valid_7_tens.float()/255 # convert to float and divide by 255"
      ],
      "execution_count": 301,
      "outputs": []
    },
    {
      "cell_type": "markdown",
      "metadata": {
        "id": "25qMQ-Q31oSw"
      },
      "source": [
        "Shape of tensor to count number of images in stack and size of images"
      ]
    },
    {
      "cell_type": "code",
      "metadata": {
        "colab": {
          "base_uri": "https://localhost:8080/"
        },
        "id": "rk2SmZAj1Y1E",
        "outputId": "c215ae5f-d43e-4718-a5e9-c4e9b9ca72c4"
      },
      "source": [
        "valid_3_tens.shape, valid_7_tens.shape"
      ],
      "execution_count": 302,
      "outputs": [
        {
          "output_type": "execute_result",
          "data": {
            "text/plain": [
              "(torch.Size([1010, 28, 28]), torch.Size([1028, 28, 28]))"
            ]
          },
          "metadata": {
            "tags": []
          },
          "execution_count": 302
        }
      ]
    },
    {
      "cell_type": "markdown",
      "metadata": {
        "id": "b0SxVkoz3WWB"
      },
      "source": [
        "Function that calculates distances between images based on mean absolut error (L1-norm):"
      ]
    },
    {
      "cell_type": "code",
      "metadata": {
        "id": "KP2cJinz1eho"
      },
      "source": [
        "def mnist_distance(a,b):\r\n",
        "  return (a-b).abs().mean((-1,-2))"
      ],
      "execution_count": 303,
      "outputs": []
    },
    {
      "cell_type": "markdown",
      "metadata": {
        "id": "dFNHUoc64E63"
      },
      "source": [
        "Input arbitrary sample ``a_3`` and \"ideal\" 3 ``mean3`` "
      ]
    },
    {
      "cell_type": "code",
      "metadata": {
        "colab": {
          "base_uri": "https://localhost:8080/"
        },
        "id": "LZ8hkKuU33D0",
        "outputId": "f16b1970-8c73-4beb-957e-38f05a751e36"
      },
      "source": [
        "mnist_distance(a_3, mean3)  "
      ],
      "execution_count": 304,
      "outputs": [
        {
          "output_type": "execute_result",
          "data": {
            "text/plain": [
              "tensor(0.1114)"
            ]
          },
          "metadata": {
            "tags": []
          },
          "execution_count": 304
        }
      ]
    },
    {
      "cell_type": "markdown",
      "metadata": {
        "id": "9eVRLaKh7t5M"
      },
      "source": [
        "Calculate the distance to \"ideal\" 3 for *every* image in the validation set:"
      ]
    },
    {
      "cell_type": "code",
      "metadata": {
        "colab": {
          "base_uri": "https://localhost:8080/"
        },
        "id": "X2qx_4P43-8_",
        "outputId": "0b283335-3c38-46e6-ff8a-e413ae7bf4c8"
      },
      "source": [
        "valid_3_dist = mnist_distance(valid_3_tens, mean3) # distance for every single image as a vector\r\n",
        "valid_3_dist"
      ],
      "execution_count": 305,
      "outputs": [
        {
          "output_type": "execute_result",
          "data": {
            "text/plain": [
              "tensor([0.1706, 0.1157, 0.1423,  ..., 0.1138, 0.1159, 0.1238])"
            ]
          },
          "metadata": {
            "tags": []
          },
          "execution_count": 305
        }
      ]
    },
    {
      "cell_type": "markdown",
      "metadata": {
        "id": "8g9ipwBP-3fR"
      },
      "source": [
        "Note: this only works because PyTorch tries to perform a simple substraction operation between two tensors of different ranks by using ``broadcasting``. It will automatically expand the tensor with the smaller rank to have the same size as the one with the larger rank. PyTorch treats ``mean3``, a rank 2 tensor representing a single image, as if it were 1010 copies of the same image, and then substracts each of those copies from each 3 in our validation set."
      ]
    },
    {
      "cell_type": "code",
      "metadata": {
        "colab": {
          "base_uri": "https://localhost:8080/"
        },
        "id": "E4gRUWsy8Jj6",
        "outputId": "0f7199f5-a94c-4c0b-a164-37db0452cacf"
      },
      "source": [
        "valid_3_dist.shape # length of vector"
      ],
      "execution_count": 306,
      "outputs": [
        {
          "output_type": "execute_result",
          "data": {
            "text/plain": [
              "torch.Size([1010])"
            ]
          },
          "metadata": {
            "tags": []
          },
          "execution_count": 306
        }
      ]
    },
    {
      "cell_type": "code",
      "metadata": {
        "colab": {
          "base_uri": "https://localhost:8080/"
        },
        "id": "vB31cgqn8UU3",
        "outputId": "bc302263-0085-4cbb-b8ba-bcf90f2163df"
      },
      "source": [
        "(valid_3_tens - mean3).shape"
      ],
      "execution_count": 307,
      "outputs": [
        {
          "output_type": "execute_result",
          "data": {
            "text/plain": [
              "torch.Size([1010, 28, 28])"
            ]
          },
          "metadata": {
            "tags": []
          },
          "execution_count": 307
        }
      ]
    },
    {
      "cell_type": "markdown",
      "metadata": {
        "id": "_VkAwksJFM3O"
      },
      "source": [
        "If the distance between the digit in question and the ideal 3 is less then the distance to the ideal 7, then it's a 3:"
      ]
    },
    {
      "cell_type": "code",
      "metadata": {
        "id": "ZnBli4MoAT6X"
      },
      "source": [
        "def is_3(x):\r\n",
        "  return mnist_distance(x, mean3) < mnist_distance(x, mean7)"
      ],
      "execution_count": 308,
      "outputs": []
    },
    {
      "cell_type": "markdown",
      "metadata": {
        "id": "0W9f1dn9GDMs"
      },
      "source": [
        "Apply function:"
      ]
    },
    {
      "cell_type": "code",
      "metadata": {
        "colab": {
          "base_uri": "https://localhost:8080/"
        },
        "id": "Z-cVD61eFzU7",
        "outputId": "e4bfef40-8f8a-407b-952e-197fc4955db7"
      },
      "source": [
        "is_3(a_3)"
      ],
      "execution_count": 309,
      "outputs": [
        {
          "output_type": "execute_result",
          "data": {
            "text/plain": [
              "tensor(True)"
            ]
          },
          "metadata": {
            "tags": []
          },
          "execution_count": 309
        }
      ]
    },
    {
      "cell_type": "code",
      "metadata": {
        "colab": {
          "base_uri": "https://localhost:8080/"
        },
        "id": "so_OMa8FF3LM",
        "outputId": "15754e95-ef36-4d91-fdd3-31816e489e31"
      },
      "source": [
        "is_3(a_3).float() # convert Boolean response to float"
      ],
      "execution_count": 310,
      "outputs": [
        {
          "output_type": "execute_result",
          "data": {
            "text/plain": [
              "tensor(1.)"
            ]
          },
          "metadata": {
            "tags": []
          },
          "execution_count": 310
        }
      ]
    },
    {
      "cell_type": "markdown",
      "metadata": {
        "id": "2DWWAai2Gjgr"
      },
      "source": [
        "Thanks to broadcasting we can test it on full validation set of 3s:"
      ]
    },
    {
      "cell_type": "code",
      "metadata": {
        "colab": {
          "base_uri": "https://localhost:8080/"
        },
        "id": "OBKFupa-GKhw",
        "outputId": "c230b633-e08d-48c6-a1f8-d44e77d421ea"
      },
      "source": [
        "is_3(valid_3_tens)"
      ],
      "execution_count": 311,
      "outputs": [
        {
          "output_type": "execute_result",
          "data": {
            "text/plain": [
              "tensor([False,  True,  True,  ...,  True,  True,  True])"
            ]
          },
          "metadata": {
            "tags": []
          },
          "execution_count": 311
        }
      ]
    },
    {
      "cell_type": "markdown",
      "metadata": {
        "id": "RDqb6E_-HJX8"
      },
      "source": [
        "Calculate accuracy for each of the 3s and 7s:"
      ]
    },
    {
      "cell_type": "code",
      "metadata": {
        "id": "a529NfspGy_s"
      },
      "source": [
        "accuracy_3s = is_3(valid_3_tens).float().mean()\r\n",
        "accuracy_7s = (1- is_3(valid_7_tens).float()).mean()"
      ],
      "execution_count": 312,
      "outputs": []
    },
    {
      "cell_type": "code",
      "metadata": {
        "colab": {
          "base_uri": "https://localhost:8080/"
        },
        "id": "QPNc0gpCWaOq",
        "outputId": "d99311f3-5eb0-4f1e-987d-8990046a552b"
      },
      "source": [
        "accuracy_3s"
      ],
      "execution_count": 313,
      "outputs": [
        {
          "output_type": "execute_result",
          "data": {
            "text/plain": [
              "tensor(0.9168)"
            ]
          },
          "metadata": {
            "tags": []
          },
          "execution_count": 313
        }
      ]
    },
    {
      "cell_type": "code",
      "metadata": {
        "colab": {
          "base_uri": "https://localhost:8080/"
        },
        "id": "H7uSnJK4WeRg",
        "outputId": "795c66bf-45fe-41ef-d08b-e3caff0417fd"
      },
      "source": [
        "accuracy_7s"
      ],
      "execution_count": 314,
      "outputs": [
        {
          "output_type": "execute_result",
          "data": {
            "text/plain": [
              "tensor(0.9854)"
            ]
          },
          "metadata": {
            "tags": []
          },
          "execution_count": 314
        }
      ]
    },
    {
      "cell_type": "code",
      "metadata": {
        "colab": {
          "base_uri": "https://localhost:8080/"
        },
        "id": "BWulwKaEWdUA",
        "outputId": "bf8452f8-9551-4400-d08a-d752540a0607"
      },
      "source": [
        "(accuracy_3s + accuracy_7s) / 2"
      ],
      "execution_count": 315,
      "outputs": [
        {
          "output_type": "execute_result",
          "data": {
            "text/plain": [
              "tensor(0.9511)"
            ]
          },
          "metadata": {
            "tags": []
          },
          "execution_count": 315
        }
      ]
    },
    {
      "cell_type": "markdown",
      "metadata": {
        "id": "cIekGJMCXAkF"
      },
      "source": [
        "We're getting over 90% accuracy ob both 3s and 7s!"
      ]
    },
    {
      "cell_type": "markdown",
      "metadata": {
        "id": "XGjKg9Z3XJb2"
      },
      "source": [
        "To imporove, let's now do some real learning --> time to talk about training process and SGD!"
      ]
    },
    {
      "cell_type": "markdown",
      "metadata": {
        "id": "9id6FigrXbJ3"
      },
      "source": [
        "# Stochastic Gradient Descent (SGD)\r\n",
        "\r\n",
        "Instead of trying to find the similarity between an image and an \"ideal image,\" we could instead look at each individual pixel and come up with a set of weights for each one, such that the highest weights are associated with those pixels most likely to be black for a particular category."
      ]
    },
    {
      "cell_type": "markdown",
      "metadata": {
        "id": "GNntwBDM57t0"
      },
      "source": [
        "Let's pretend that f(x) is our loss function, and x is a weight parameter of the function. If performance of model is good, the loss function returns a low number. A simmple way to figure out wheter a weight should be increased a bit or decreased a bit would be just by try it: increase the weight by a small amount, and see if the loss goes up or down. We calculate *gradients* to do this process."
      ]
    },
    {
      "cell_type": "code",
      "metadata": {
        "id": "yzn3oP2s9Ued"
      },
      "source": [
        "!pip install -Uqq fastbook\r\n",
        "import fastbook\r\n",
        "fastbook.setup_book()"
      ],
      "execution_count": 316,
      "outputs": []
    },
    {
      "cell_type": "code",
      "metadata": {
        "id": "023Q0clg9W5V"
      },
      "source": [
        "from fastbook import *"
      ],
      "execution_count": 317,
      "outputs": []
    },
    {
      "cell_type": "code",
      "metadata": {
        "id": "91arvHq_Wsb3"
      },
      "source": [
        "def f(x):\r\n",
        "  return x**2"
      ],
      "execution_count": 318,
      "outputs": []
    },
    {
      "cell_type": "code",
      "metadata": {
        "colab": {
          "base_uri": "https://localhost:8080/",
          "height": 285
        },
        "id": "PQi3pp_e7Dg-",
        "outputId": "88899a52-7d02-4e0f-d103-70f61a085bfb"
      },
      "source": [
        "plot_function(f, 'x', 'x**2');"
      ],
      "execution_count": 319,
      "outputs": [
        {
          "output_type": "display_data",
          "data": {
            "image/png": "[encoded data removed]",
            "text/plain": [
              "<Figure size 432x288 with 1 Axes>"
            ]
          },
          "metadata": {
            "tags": [],
            "needs_background": "light"
          }
        }
      ]
    },
    {
      "cell_type": "markdown",
      "metadata": {
        "id": "cRdKqeTZ_KmP"
      },
      "source": [
        "Picking some random value for a parameter, and calculating the value of the loss:"
      ]
    },
    {
      "cell_type": "code",
      "metadata": {
        "colab": {
          "base_uri": "https://localhost:8080/",
          "height": 285
        },
        "id": "9UKXgpxq84oF",
        "outputId": "d0539941-f977-40f0-f84c-31bfa1276111"
      },
      "source": [
        "plot_function(f, 'x', 'x**2')\r\n",
        "plt.scatter(-1.5, f(-1.5), color='red');"
      ],
      "execution_count": 320,
      "outputs": [
        {
          "output_type": "display_data",
          "data": {
            "image/png": "[encoded data removed]",
            "text/plain": [
              "<Figure size 432x288 with 1 Axes>"
            ]
          },
          "metadata": {
            "tags": [],
            "needs_background": "light"
          }
        }
      ]
    },
    {
      "cell_type": "markdown",
      "metadata": {
        "id": "Oo-ACzKJDD6H"
      },
      "source": [
        "The one magic step is the bit where we calculate the gradients. As we mentioned, we use calculus as a performance optimization; it allows us to more quickly calculate whether our loss will go up or down when we adjust our parameters up or down. In other words, the gradients will tell us how much we have to change each weight to make our model better."
      ]
    },
    {
      "cell_type": "markdown",
      "metadata": {
        "id": "Odk0GneRTKux"
      },
      "source": [
        "## Calculating Gradients"
      ]
    },
    {
      "cell_type": "markdown",
      "metadata": {
        "id": "txelpjJlFHaX"
      },
      "source": [
        "PyTorch is able to automatically compute the derivative of nearly any function!\r\n",
        "In Deep Learning:\r\n",
        "- gradient is not a function\r\n",
        "- gradient is a value!"
      ]
    },
    {
      "cell_type": "markdown",
      "metadata": {
        "id": "JfkZfpoHHO4Q"
      },
      "source": [
        "Pick a tensor value at which we want gradients:"
      ]
    },
    {
      "cell_type": "code",
      "metadata": {
        "colab": {
          "base_uri": "https://localhost:8080/"
        },
        "id": "PEgqLWxC9GD7",
        "outputId": "8041ef7d-3b0f-4593-c07d-6c5b67d283bf"
      },
      "source": [
        "xt = tensor(3.).requires_grad_()\r\n",
        "xt"
      ],
      "execution_count": 321,
      "outputs": [
        {
          "output_type": "execute_result",
          "data": {
            "text/plain": [
              "tensor(3., requires_grad=True)"
            ]
          },
          "metadata": {
            "tags": []
          },
          "execution_count": 321
        }
      ]
    },
    {
      "cell_type": "markdown",
      "metadata": {
        "id": "Y_8C_6KRHleC"
      },
      "source": [
        "Calculate value for our function (here: ``9 = 3**2``). We get:\r\n",
        "- value\r\n",
        "- gradient function that was used to calculate the gradient."
      ]
    },
    {
      "cell_type": "code",
      "metadata": {
        "colab": {
          "base_uri": "https://localhost:8080/"
        },
        "id": "yNLHJAglHZ-m",
        "outputId": "6c04b682-83b0-4464-f1c0-6d90a5146fbf"
      },
      "source": [
        "yt = f(xt)\r\n",
        "yt"
      ],
      "execution_count": 322,
      "outputs": [
        {
          "output_type": "execute_result",
          "data": {
            "text/plain": [
              "tensor(9., grad_fn=<PowBackward0>)"
            ]
          },
          "metadata": {
            "tags": []
          },
          "execution_count": 322
        }
      ]
    },
    {
      "cell_type": "markdown",
      "metadata": {
        "id": "a9K-pJKeLh5t"
      },
      "source": [
        "Calculate gradients:\r\n",
        "- Life would be easier if ``backward`` was just called ``calculate_grad``"
      ]
    },
    {
      "cell_type": "code",
      "metadata": {
        "id": "vwj177sKHq5m"
      },
      "source": [
        "yt.backward()"
      ],
      "execution_count": 323,
      "outputs": []
    },
    {
      "cell_type": "markdown",
      "metadata": {
        "id": "8lhRvRfEMZJL"
      },
      "source": [
        "View gradients:"
      ]
    },
    {
      "cell_type": "code",
      "metadata": {
        "colab": {
          "base_uri": "https://localhost:8080/"
        },
        "id": "s94vg2cwLnGK",
        "outputId": "b95a5b37-64ff-4f64-e40d-cc701682a4e1"
      },
      "source": [
        "xt.grad"
      ],
      "execution_count": 324,
      "outputs": [
        {
          "output_type": "execute_result",
          "data": {
            "text/plain": [
              "tensor(6.)"
            ]
          },
          "metadata": {
            "tags": []
          },
          "execution_count": 324
        }
      ]
    },
    {
      "cell_type": "markdown",
      "metadata": {
        "id": "Rh9M7Ca-M3Ss"
      },
      "source": [
        "Repeat the preceding steps, but with a vector argument for our function \r\n",
        "\r\n",
        "--> values at which we want gradients!"
      ]
    },
    {
      "cell_type": "code",
      "metadata": {
        "id": "s0ETQjOGMdWR"
      },
      "source": [
        "xt = tensor([3., 4., 10.]).requires_grad_()"
      ],
      "execution_count": 325,
      "outputs": []
    },
    {
      "cell_type": "markdown",
      "metadata": {
        "id": "kqNaJrMvN_BC"
      },
      "source": [
        "Change our function so that it can take a vector (rank-1 tensor) and return a scalar (rank-0 tensor)"
      ]
    },
    {
      "cell_type": "code",
      "metadata": {
        "id": "qNTVVV-jNFu7"
      },
      "source": [
        "def f(x):\r\n",
        "  return (x**2).sum()"
      ],
      "execution_count": 326,
      "outputs": []
    },
    {
      "cell_type": "markdown",
      "metadata": {
        "id": "bpFO1VmeOizS"
      },
      "source": [
        "Calculate value for our function (here: ``125 = 3**2 + 4**2 + 10**2``). We get:\r\n",
        "\r\n",
        "value\r\n",
        "gradient function that was used to calculate the gradient."
      ]
    },
    {
      "cell_type": "code",
      "metadata": {
        "colab": {
          "base_uri": "https://localhost:8080/"
        },
        "id": "miAOYqW2OVUr",
        "outputId": "de0fe16d-0552-48d7-a5f9-5deb39f8b633"
      },
      "source": [
        "yt = f(xt)\r\n",
        "yt"
      ],
      "execution_count": 327,
      "outputs": [
        {
          "output_type": "execute_result",
          "data": {
            "text/plain": [
              "tensor(125., grad_fn=<SumBackward0>)"
            ]
          },
          "metadata": {
            "tags": []
          },
          "execution_count": 327
        }
      ]
    },
    {
      "cell_type": "markdown",
      "metadata": {
        "id": "nfd8LFTUPvRZ"
      },
      "source": [
        "As expected, our gradients are ``2*xt``:"
      ]
    },
    {
      "cell_type": "code",
      "metadata": {
        "colab": {
          "base_uri": "https://localhost:8080/"
        },
        "id": "hUM_c6-APkTh",
        "outputId": "b737d89f-ef43-48ac-b896-9e87dfe3336e"
      },
      "source": [
        "yt.backward() # --> calculate gradients\r\n",
        "xt.grad # --> view tells us the slope of our function"
      ],
      "execution_count": 328,
      "outputs": [
        {
          "output_type": "execute_result",
          "data": {
            "text/plain": [
              "tensor([ 6.,  8., 20.])"
            ]
          },
          "metadata": {
            "tags": []
          },
          "execution_count": 328
        }
      ]
    },
    {
      "cell_type": "markdown",
      "metadata": {
        "id": "abf31nKWS9HH"
      },
      "source": [
        "- If the slope is very small, that may suggest that we are close to the optimal value.\r\n",
        "- Gradient tells us to change our parameters in order to minimize loss\r\n",
        "- Next, multiply gradient by some small number, called the ***learning rate***"
      ]
    },
    {
      "cell_type": "markdown",
      "metadata": {
        "id": "XqdB3Vk0TVX6"
      },
      "source": [
        "## An End-to-End SGD Example\r\n",
        "\r\n",
        "Create simple example to show how to use SGD."
      ]
    },
    {
      "cell_type": "markdown",
      "metadata": {
        "id": "F-HYf7eGhIK7"
      },
      "source": [
        "Imagine, you were measuring the speed of your bike as it went over the top of a hump. You measured every second for 20 seconds:"
      ]
    },
    {
      "cell_type": "code",
      "metadata": {
        "id": "DN_TIiERTR-x",
        "colab": {
          "base_uri": "https://localhost:8080/"
        },
        "outputId": "7ecb020a-1b66-41c4-cc58-9a3d905c7334"
      },
      "source": [
        "time = torch.arange(0,20).float()\r\n",
        "time"
      ],
      "execution_count": 329,
      "outputs": [
        {
          "output_type": "execute_result",
          "data": {
            "text/plain": [
              "tensor([ 0.,  1.,  2.,  3.,  4.,  5.,  6.,  7.,  8.,  9., 10., 11., 12., 13., 14., 15., 16., 17., 18., 19.])"
            ]
          },
          "metadata": {
            "tags": []
          },
          "execution_count": 329
        }
      ]
    },
    {
      "cell_type": "markdown",
      "metadata": {
        "id": "jFwgLpePh8jC"
      },
      "source": [
        "Plot speed vs time:\r\n"
      ]
    },
    {
      "cell_type": "code",
      "metadata": {
        "colab": {
          "base_uri": "https://localhost:8080/",
          "height": 268
        },
        "id": "DOjynCH3gpwv",
        "outputId": "2aaab627-f3d3-4af0-f81f-5d69151d03d4"
      },
      "source": [
        "speed = torch.randn(20)*3 + 0.75*(time-9.5)**2 + 1  # 20 data points in parabolic shape\r\n",
        "plt.scatter(time, speed);"
      ],
      "execution_count": 330,
      "outputs": [
        {
          "output_type": "display_data",
          "data": {
            "image/png": "[encoded data removed]",
            "text/plain": [
              "<Figure size 432x288 with 1 Axes>"
            ]
          },
          "metadata": {
            "tags": [],
            "needs_background": "light"
          }
        }
      ]
    },
    {
      "cell_type": "markdown",
      "metadata": {
        "id": "33ppSoZJihfX"
      },
      "source": [
        "We guess that the function underlying is quadratic:"
      ]
    },
    {
      "cell_type": "code",
      "metadata": {
        "id": "1RcENpYViSqf"
      },
      "source": [
        "def f(t, params):\r\n",
        "  a, b, c = params\r\n",
        "  return a*(t**2) + (b*t) + c # general form of quadratic function"
      ],
      "execution_count": 331,
      "outputs": []
    },
    {
      "cell_type": "markdown",
      "metadata": {
        "id": "WQzp7sZWjUrt"
      },
      "source": [
        "We want to find the best (quadratic) function that fits the data! Function is fully defined by the ``params`` ``a``, ``b``, ``c``.\r\n",
        "\r\n",
        "**NOTE:** This approach can be applied to any function, for example a complex function with more parameters - such as a neural network."
      ]
    },
    {
      "cell_type": "markdown",
      "metadata": {
        "id": "PYHsisrolL8-"
      },
      "source": [
        "Define loss-function:\r\n",
        "\r\n",
        "- Lower loss <--> better predictions"
      ]
    },
    {
      "cell_type": "code",
      "metadata": {
        "id": "E2Ffa9bfjTOC"
      },
      "source": [
        "def mse(preds, target):\r\n",
        "  return ((preds-target)**2).mean()  # for continues data it's common to use mean squared error"
      ],
      "execution_count": 332,
      "outputs": []
    },
    {
      "cell_type": "markdown",
      "metadata": {
        "id": "53HUsytxlr3T"
      },
      "source": [
        "### Step 1: Initialize the parameters\r\n",
        "- Create 3 random values to initialize our parameters\r\n",
        "- Tell PyTorch that we want to track their gradients using ``requires_grad_()``, so that we can later get the gradients"
      ]
    },
    {
      "cell_type": "code",
      "metadata": {
        "colab": {
          "base_uri": "https://localhost:8080/"
        },
        "id": "udUJI0TGlpV1",
        "outputId": "e88ccc68-6c19-4569-ec83-6d0f6ec8b1be"
      },
      "source": [
        "params = torch.randn(3).requires_grad_()\r\n",
        "params"
      ],
      "execution_count": 333,
      "outputs": [
        {
          "output_type": "execute_result",
          "data": {
            "text/plain": [
              "tensor([-0.7617,  1.4481, -1.0679], requires_grad=True)"
            ]
          },
          "metadata": {
            "tags": []
          },
          "execution_count": 333
        }
      ]
    },
    {
      "cell_type": "markdown",
      "metadata": {
        "id": "hmnuvdgiuS5E"
      },
      "source": [
        "Get values of params:"
      ]
    },
    {
      "cell_type": "code",
      "metadata": {
        "colab": {
          "base_uri": "https://localhost:8080/"
        },
        "id": "7IJ-EEksuXun",
        "outputId": "43f0bf38-f49d-438f-ba8d-e1f54d391af3"
      },
      "source": [
        "params.data"
      ],
      "execution_count": 334,
      "outputs": [
        {
          "output_type": "execute_result",
          "data": {
            "text/plain": [
              "tensor([-0.7617,  1.4481, -1.0679])"
            ]
          },
          "metadata": {
            "tags": []
          },
          "execution_count": 334
        }
      ]
    },
    {
      "cell_type": "markdown",
      "metadata": {
        "id": "2Jl7KnB0n7XN"
      },
      "source": [
        "### Step 2: Calculate the predictions"
      ]
    },
    {
      "cell_type": "code",
      "metadata": {
        "id": "6FLxJ3BOmhA5"
      },
      "source": [
        "preds = f(time, params)"
      ],
      "execution_count": 335,
      "outputs": []
    },
    {
      "cell_type": "markdown",
      "metadata": {
        "id": "Wo_xn-q6ptzo"
      },
      "source": [
        "Plot predictions"
      ]
    },
    {
      "cell_type": "code",
      "metadata": {
        "id": "wEHSG8cao_zW"
      },
      "source": [
        "def show_preds(preds, ax=None):\r\n",
        "    if ax is None: ax=plt.subplots()[1]\r\n",
        "    ax.scatter(time, speed)\r\n",
        "    ax.scatter(time, to_np(preds), color='red')\r\n",
        "    ax.set_ylim(-300,100)"
      ],
      "execution_count": 336,
      "outputs": []
    },
    {
      "cell_type": "code",
      "metadata": {
        "colab": {
          "base_uri": "https://localhost:8080/",
          "height": 273
        },
        "id": "wgtYN-PFqF7n",
        "outputId": "630b9254-d53b-4225-ddc0-a365fe5d96f2"
      },
      "source": [
        "# blue:target, red:predictions\r\n",
        "show_preds(preds)"
      ],
      "execution_count": 337,
      "outputs": [
        {
          "output_type": "display_data",
          "data": {
            "image/png": "[encoded data removed]",
            "text/plain": [
              "<Figure size 432x288 with 1 Axes>"
            ]
          },
          "metadata": {
            "tags": [],
            "needs_background": "light"
          }
        }
      ]
    },
    {
      "cell_type": "markdown",
      "metadata": {
        "id": "b8dYJiBwrD7V"
      },
      "source": [
        "### Step 3: Calculate the loss"
      ]
    },
    {
      "cell_type": "code",
      "metadata": {
        "colab": {
          "base_uri": "https://localhost:8080/"
        },
        "id": "mMo7W6lMqJEo",
        "outputId": "540b3821-e770-458f-b8ed-9ab5827ba7a6"
      },
      "source": [
        "loss = mse(preds, speed)\r\n",
        "loss"
      ],
      "execution_count": 338,
      "outputs": [
        {
          "output_type": "execute_result",
          "data": {
            "text/plain": [
              "tensor(19238.7930, grad_fn=<MeanBackward0>)"
            ]
          },
          "metadata": {
            "tags": []
          },
          "execution_count": 338
        }
      ]
    },
    {
      "cell_type": "markdown",
      "metadata": {
        "id": "nzkT9hzJrXxf"
      },
      "source": [
        "### Step 4: Calculate the gradients\r\n",
        "To improve the result, we need to know the gradients."
      ]
    },
    {
      "cell_type": "code",
      "metadata": {
        "colab": {
          "base_uri": "https://localhost:8080/"
        },
        "id": "8wlRapUFrREP",
        "outputId": "1859dcd6-3a44-4e22-81a9-6a4a0b6d032d"
      },
      "source": [
        "loss.backward() # calculate gradients\r\n",
        "params.grad # view gradients"
      ],
      "execution_count": 339,
      "outputs": [
        {
          "output_type": "execute_result",
          "data": {
            "text/plain": [
              "tensor([-45674.2656,  -2910.6558,   -215.5952])"
            ]
          },
          "metadata": {
            "tags": []
          },
          "execution_count": 339
        }
      ]
    },
    {
      "cell_type": "markdown",
      "metadata": {
        "id": "3MWoQ6EPs5ci"
      },
      "source": [
        "Multiply with a small learning rate:"
      ]
    },
    {
      "cell_type": "code",
      "metadata": {
        "colab": {
          "base_uri": "https://localhost:8080/"
        },
        "id": "0_tON5FjsZEj",
        "outputId": "77cdf045-3c4f-4a35-df40-62bf5fb0d7f0"
      },
      "source": [
        "lr = 1e-5\r\n",
        "params.grad * lr"
      ],
      "execution_count": 340,
      "outputs": [
        {
          "output_type": "execute_result",
          "data": {
            "text/plain": [
              "tensor([-0.4567, -0.0291, -0.0022])"
            ]
          },
          "metadata": {
            "tags": []
          },
          "execution_count": 340
        }
      ]
    },
    {
      "cell_type": "markdown",
      "metadata": {
        "id": "JOLNEJiQtFDg"
      },
      "source": [
        "### Step 5: Step the weights\r\n",
        "Update the params based on gradients:"
      ]
    },
    {
      "cell_type": "code",
      "metadata": {
        "id": "rIjuMqHrr3mW"
      },
      "source": [
        "params.data -= lr * params.grad.data # update params and hope that this time they fit better\r\n",
        "params.grad = None "
      ],
      "execution_count": 341,
      "outputs": []
    },
    {
      "cell_type": "markdown",
      "metadata": {
        "id": "KJPrAy3iu4kt"
      },
      "source": [
        "Check if loss has improved (is lower):"
      ]
    },
    {
      "cell_type": "code",
      "metadata": {
        "id": "xqxxAxp-teGr"
      },
      "source": [
        "preds = f(time, params) # calculate predictions again"
      ],
      "execution_count": 342,
      "outputs": []
    },
    {
      "cell_type": "code",
      "metadata": {
        "colab": {
          "base_uri": "https://localhost:8080/"
        },
        "id": "1VtbO373wszN",
        "outputId": "22f3424e-4076-41b9-e6df-ffae7dbc3593"
      },
      "source": [
        "mse(preds, speed) "
      ],
      "execution_count": 343,
      "outputs": [
        {
          "output_type": "execute_result",
          "data": {
            "text/plain": [
              "tensor(4209.5596, grad_fn=<MeanBackward0>)"
            ]
          },
          "metadata": {
            "tags": []
          },
          "execution_count": 343
        }
      ]
    },
    {
      "cell_type": "markdown",
      "metadata": {
        "id": "Psxm616Ow1B5"
      },
      "source": [
        "Plot predictions:"
      ]
    },
    {
      "cell_type": "code",
      "metadata": {
        "colab": {
          "base_uri": "https://localhost:8080/",
          "height": 273
        },
        "id": "O-ejWOTjwxEs",
        "outputId": "541421a2-9843-4702-b579-6de495c3b59c"
      },
      "source": [
        "# blue:target, red:predictions\r\n",
        "show_preds(preds)"
      ],
      "execution_count": 344,
      "outputs": [
        {
          "output_type": "display_data",
          "data": {
            "image/png": "[encoded data removed]",
            "text/plain": [
              "<Figure size 432x288 with 1 Axes>"
            ]
          },
          "metadata": {
            "tags": [],
            "needs_background": "light"
          }
        }
      ]
    },
    {
      "cell_type": "markdown",
      "metadata": {
        "id": "bdWuj_OIx9iX"
      },
      "source": [
        "### Step 6: Repeat the process\r\n",
        "Repeat this a few times."
      ]
    },
    {
      "cell_type": "code",
      "metadata": {
        "id": "75LS4gWgw6sx"
      },
      "source": [
        "def apply_step(params, prn=True):\r\n",
        "    preds = f(time, params)\r\n",
        "    loss = mse(preds, speed)\r\n",
        "    loss.backward()\r\n",
        "    params.data -= lr * params.grad.data\r\n",
        "    params.grad = None\r\n",
        "    if prn: print(loss.item())\r\n",
        "    return preds"
      ],
      "execution_count": 345,
      "outputs": []
    },
    {
      "cell_type": "markdown",
      "metadata": {
        "id": "DbWPo8OMyhSn"
      },
      "source": [
        "The loss is going down:"
      ]
    },
    {
      "cell_type": "code",
      "metadata": {
        "colab": {
          "base_uri": "https://localhost:8080/"
        },
        "id": "uPe2ZZGjySec",
        "outputId": "0613becb-d58f-47dd-cc60-7caaf717a1ad"
      },
      "source": [
        "for i in range(20):\r\n",
        "  apply_step(params)"
      ],
      "execution_count": 346,
      "outputs": [
        {
          "output_type": "stream",
          "text": [
            "4209.5595703125\n",
            "1365.5631103515625\n",
            "827.3868408203125\n",
            "725.5422973632812\n",
            "706.2649536132812\n",
            "702.6118774414062\n",
            "701.9154052734375\n",
            "701.7782592773438\n",
            "701.7471923828125\n",
            "701.7361450195312\n",
            "701.728759765625\n",
            "701.7222900390625\n",
            "701.7158203125\n",
            "701.7092895507812\n",
            "701.7029418945312\n",
            "701.6964721679688\n",
            "701.6900634765625\n",
            "701.6836547851562\n",
            "701.67724609375\n",
            "701.6707763671875\n"
          ],
          "name": "stdout"
        }
      ]
    },
    {
      "cell_type": "markdown",
      "metadata": {
        "id": "CK3UNr5DygBd"
      },
      "source": [
        "Plot function at every step:"
      ]
    },
    {
      "cell_type": "code",
      "metadata": {
        "colab": {
          "base_uri": "https://localhost:8080/",
          "height": 221
        },
        "id": "81qhYTqEyaJX",
        "outputId": "1f57c003-b9c7-4bbd-b4b9-6df2b3c46bd5"
      },
      "source": [
        "_,axs = plt.subplots(1,4,figsize=(12,3))\r\n",
        "for ax in axs: show_preds(apply_step(params, False), ax)\r\n",
        "plt.tight_layout()"
      ],
      "execution_count": 347,
      "outputs": [
        {
          "output_type": "display_data",
          "data": {
            "image/png": "[encoded data removed]",
            "text/plain": [
              "<Figure size 864x216 with 4 Axes>"
            ]
          },
          "metadata": {
            "tags": [],
            "needs_background": "light"
          }
        }
      ]
    },
    {
      "cell_type": "markdown",
      "metadata": {
        "id": "a3AK2gLszA1J"
      },
      "source": [
        "### Step 7: Stop\r\n",
        "Stop once you are satisfied with the result"
      ]
    },
    {
      "cell_type": "markdown",
      "metadata": {
        "id": "hLs9dFpYW-8Z"
      },
      "source": [
        "# The MNIST loss function\r\n",
        "\r\n",
        "We take our 3D tensors and concatenate them into a single tensor"
      ]
    },
    {
      "cell_type": "code",
      "metadata": {
        "id": "f5tCiaTpyzAW"
      },
      "source": [
        "train_x = torch.cat([stacked_threes, stacked_sevens])"
      ],
      "execution_count": 348,
      "outputs": []
    },
    {
      "cell_type": "markdown",
      "metadata": {
        "id": "scQKjJX8Y5Rt"
      },
      "source": [
        "Shape of tensor:\r\n",
        "\r\n",
        "We see 12396 images of size 28(height)x28(width)"
      ]
    },
    {
      "cell_type": "code",
      "metadata": {
        "colab": {
          "base_uri": "https://localhost:8080/"
        },
        "id": "UQuptchBYcxW",
        "outputId": "ca708105-0039-4d8a-c353-72c8c839fc14"
      },
      "source": [
        "train_x.shape"
      ],
      "execution_count": 349,
      "outputs": [
        {
          "output_type": "execute_result",
          "data": {
            "text/plain": [
              "torch.Size([12396, 28, 28])"
            ]
          },
          "metadata": {
            "tags": []
          },
          "execution_count": 349
        }
      ]
    },
    {
      "cell_type": "markdown",
      "metadata": {
        "id": "dbp4JubOY-A1"
      },
      "source": [
        "We change shape of single tensor from a list of matrices (a rank-3 tensor) to a list of vectors (a rank-2 tensor) without changing its content:"
      ]
    },
    {
      "cell_type": "code",
      "metadata": {
        "id": "L2rFEw1FYeFi"
      },
      "source": [
        "train_x = train_x.view(-1, 28*28)"
      ],
      "execution_count": 350,
      "outputs": []
    },
    {
      "cell_type": "markdown",
      "metadata": {
        "id": "iJ6dyrd1Zzgp"
      },
      "source": [
        "Shape of tensor:"
      ]
    },
    {
      "cell_type": "code",
      "metadata": {
        "colab": {
          "base_uri": "https://localhost:8080/"
        },
        "id": "dwe02gduZrFZ",
        "outputId": "052fd70f-13db-48b2-a4ac-4fcd623e7994"
      },
      "source": [
        "train_x.shape"
      ],
      "execution_count": 351,
      "outputs": [
        {
          "output_type": "execute_result",
          "data": {
            "text/plain": [
              "torch.Size([12396, 784])"
            ]
          },
          "metadata": {
            "tags": []
          },
          "execution_count": 351
        }
      ]
    },
    {
      "cell_type": "markdown",
      "metadata": {
        "id": "x9S1hwa1aG7c"
      },
      "source": [
        "We need label for each image:\r\n",
        "- ``1`` for 3s\r\n",
        "- ``0`` for 7s"
      ]
    },
    {
      "cell_type": "code",
      "metadata": {
        "colab": {
          "base_uri": "https://localhost:8080/"
        },
        "id": "ApnWl59sZthU",
        "outputId": "eedf9ac2-1584-4099-ca14-3dc58a790291"
      },
      "source": [
        "train_y = tensor([1]*len(threes) + [0]*len(sevens)).unsqueeze(1)\r\n",
        "train_y"
      ],
      "execution_count": 352,
      "outputs": [
        {
          "output_type": "execute_result",
          "data": {
            "text/plain": [
              "tensor([[1],\n",
              "        [1],\n",
              "        [1],\n",
              "        ...,\n",
              "        [0],\n",
              "        [0],\n",
              "        [0]])"
            ]
          },
          "metadata": {
            "tags": []
          },
          "execution_count": 352
        }
      ]
    },
    {
      "cell_type": "code",
      "metadata": {
        "colab": {
          "base_uri": "https://localhost:8080/"
        },
        "id": "GanHnQPrbD1c",
        "outputId": "936e084a-9e21-4b61-ca87-073e1057c50e"
      },
      "source": [
        "train_y.shape"
      ],
      "execution_count": 353,
      "outputs": [
        {
          "output_type": "execute_result",
          "data": {
            "text/plain": [
              "torch.Size([12396, 1])"
            ]
          },
          "metadata": {
            "tags": []
          },
          "execution_count": 353
        }
      ]
    },
    {
      "cell_type": "markdown",
      "metadata": {
        "id": "pTK0KPfqbecG"
      },
      "source": [
        "A ``Dataset`` in PyTorch is required to return a tuple of (x,y):"
      ]
    },
    {
      "cell_type": "code",
      "metadata": {
        "id": "hOezsuTwbF97"
      },
      "source": [
        "dset = list(zip(train_x, train_y))"
      ],
      "execution_count": 354,
      "outputs": []
    },
    {
      "cell_type": "markdown",
      "metadata": {
        "id": "NK_OUVkJcBLt"
      },
      "source": [
        "Check:\r\n",
        "- x represents a image converted as a list\r\n",
        "- y represent label of image"
      ]
    },
    {
      "cell_type": "code",
      "metadata": {
        "id": "zOn8M0r9buay"
      },
      "source": [
        "x,y = dset[0]"
      ],
      "execution_count": 355,
      "outputs": []
    },
    {
      "cell_type": "code",
      "metadata": {
        "colab": {
          "base_uri": "https://localhost:8080/"
        },
        "id": "tLsl1FlEb02D",
        "outputId": "f828c9cc-b172-48d1-fa0d-d10ae3320fda"
      },
      "source": [
        "x.shape"
      ],
      "execution_count": 356,
      "outputs": [
        {
          "output_type": "execute_result",
          "data": {
            "text/plain": [
              "torch.Size([784])"
            ]
          },
          "metadata": {
            "tags": []
          },
          "execution_count": 356
        }
      ]
    },
    {
      "cell_type": "code",
      "metadata": {
        "colab": {
          "base_uri": "https://localhost:8080/"
        },
        "id": "ho07JbRRb2lR",
        "outputId": "f73e14ce-b93a-4448-cd0c-73013a06414c"
      },
      "source": [
        "y.shape"
      ],
      "execution_count": 357,
      "outputs": [
        {
          "output_type": "execute_result",
          "data": {
            "text/plain": [
              "torch.Size([1])"
            ]
          },
          "metadata": {
            "tags": []
          },
          "execution_count": 357
        }
      ]
    },
    {
      "cell_type": "markdown",
      "metadata": {
        "id": "c4dIq5Krefqv"
      },
      "source": [
        "We repeat steps for the validation set:"
      ]
    },
    {
      "cell_type": "code",
      "metadata": {
        "id": "7GblZZEXdvAr"
      },
      "source": [
        "valid_x = torch.cat([valid_3_tens, valid_7_tens]).view(-1, 28*28)\r\n",
        "valid_y = tensor([1]*len(valid_3_tens) + [0]*len(valid_7_tens)).unsqueeze(1)\r\n",
        "valid_dset = list(zip(valid_x,valid_y))"
      ],
      "execution_count": 358,
      "outputs": []
    },
    {
      "cell_type": "markdown",
      "metadata": {
        "id": "ul7TeMd7f2Sz"
      },
      "source": [
        "\r\n",
        "Now we need an (initially random) weight for every pixel (this is the initialize step in our seven-step process):\r\n",
        "- Tell PyTorch that we want to track their gradients using ``requires_grad_()``, so that we can later get the gradients"
      ]
    },
    {
      "cell_type": "code",
      "metadata": {
        "id": "s54DVm9df5qR"
      },
      "source": [
        "def init_params(size, std=1.0): \r\n",
        "  return (torch.randn(size)*std).requires_grad_()"
      ],
      "execution_count": 359,
      "outputs": []
    },
    {
      "cell_type": "code",
      "metadata": {
        "id": "X0556O9ig6b8"
      },
      "source": [
        "weights = init_params((28*28, 1))"
      ],
      "execution_count": 360,
      "outputs": []
    },
    {
      "cell_type": "markdown",
      "metadata": {
        "id": "pn0Easw1gzc8"
      },
      "source": [
        "Define ``bias``:"
      ]
    },
    {
      "cell_type": "code",
      "metadata": {
        "id": "rnTnbeGIgAM0"
      },
      "source": [
        "bias = init_params(1)"
      ],
      "execution_count": 361,
      "outputs": []
    },
    {
      "cell_type": "markdown",
      "metadata": {
        "id": "flY7kU0niGqr"
      },
      "source": [
        "Neural network:\r\n",
        "\r\n",
        "``y = weights * x + bias = w * x + b``"
      ]
    },
    {
      "cell_type": "markdown",
      "metadata": {
        "id": "4sSMcuGDkOi6"
      },
      "source": [
        "Calculate prediction for one image:"
      ]
    },
    {
      "cell_type": "code",
      "metadata": {
        "colab": {
          "base_uri": "https://localhost:8080/"
        },
        "id": "8fWtM8fjhKuU",
        "outputId": "783c9cfa-e880-4c27-8894-2fa0b491d478"
      },
      "source": [
        "(train_x[0]*weights.T).sum() + bias"
      ],
      "execution_count": 362,
      "outputs": [
        {
          "output_type": "execute_result",
          "data": {
            "text/plain": [
              "tensor([8.6024], grad_fn=<AddBackward0>)"
            ]
          },
          "metadata": {
            "tags": []
          },
          "execution_count": 362
        }
      ]
    },
    {
      "cell_type": "markdown",
      "metadata": {
        "id": "iKuswTTPkdd8"
      },
      "source": [
        "Do this for each image! However, a loop in Python is too slow!"
      ]
    },
    {
      "cell_type": "markdown",
      "metadata": {
        "id": "UQoVBzFnlreB"
      },
      "source": [
        "There's an extremely convenient mathematical operation that calculates ``w*x`` for every row of a matrix — it's called matrix multiplication:"
      ]
    },
    {
      "cell_type": "code",
      "metadata": {
        "id": "lJfZPzOAkcBM"
      },
      "source": [
        "def linear1(xb):  # multiply matrixes by using @\r\n",
        "  return xb@weights + bias"
      ],
      "execution_count": 363,
      "outputs": []
    },
    {
      "cell_type": "markdown",
      "metadata": {
        "id": "Cu_KnsOIl8oB"
      },
      "source": [
        "Apply \"multiply-matrix\" function:"
      ]
    },
    {
      "cell_type": "code",
      "metadata": {
        "colab": {
          "base_uri": "https://localhost:8080/"
        },
        "id": "SQKjvvWhmA2e",
        "outputId": "99c5eb2c-73c0-4449-e74a-70db3be172c5"
      },
      "source": [
        "preds = linear1(train_x)\r\n",
        "preds"
      ],
      "execution_count": 364,
      "outputs": [
        {
          "output_type": "execute_result",
          "data": {
            "text/plain": [
              "tensor([[ 8.6024],\n",
              "        [ 8.6264],\n",
              "        [13.6170],\n",
              "        ...,\n",
              "        [-5.9759],\n",
              "        [-0.7455],\n",
              "        [-6.8201]], grad_fn=<AddBackward0>)"
            ]
          },
          "metadata": {
            "tags": []
          },
          "execution_count": 364
        }
      ]
    },
    {
      "cell_type": "markdown",
      "metadata": {
        "id": "NvOEyFJBpN76"
      },
      "source": [
        "Check our aacuracy:\r\n",
        "- if output greater than 0 then output represents 3 or 7"
      ]
    },
    {
      "cell_type": "code",
      "metadata": {
        "colab": {
          "base_uri": "https://localhost:8080/"
        },
        "id": "Z-gNPLwBmL8m",
        "outputId": "7548bafb-6b8d-41d2-a4d9-e01260d87d9c"
      },
      "source": [
        "corrects = (preds>0.0).float() == train_y\r\n",
        "corrects"
      ],
      "execution_count": 365,
      "outputs": [
        {
          "output_type": "execute_result",
          "data": {
            "text/plain": [
              "tensor([[True],\n",
              "        [True],\n",
              "        [True],\n",
              "        ...,\n",
              "        [True],\n",
              "        [True],\n",
              "        [True]])"
            ]
          },
          "metadata": {
            "tags": []
          },
          "execution_count": 365
        }
      ]
    },
    {
      "cell_type": "code",
      "metadata": {
        "colab": {
          "base_uri": "https://localhost:8080/"
        },
        "id": "tM2jL3sFse0-",
        "outputId": "9110c91d-4f9d-4850-d8c0-c9a103603855"
      },
      "source": [
        "corrects.float().mean().item()"
      ],
      "execution_count": 366,
      "outputs": [
        {
          "output_type": "execute_result",
          "data": {
            "text/plain": [
              "0.7063568830490112"
            ]
          },
          "metadata": {
            "tags": []
          },
          "execution_count": 366
        }
      ]
    },
    {
      "cell_type": "markdown",
      "metadata": {
        "id": "GEH69suPuMW_"
      },
      "source": [
        "Now we need to choose our loss function."
      ]
    },
    {
      "cell_type": "markdown",
      "metadata": {
        "id": "D7it4SvnyRFg"
      },
      "source": [
        "We need a loss function which, when our weights result in slightly better predictions, gives us a slightly better loss. So what does a \"slightly better prediction\" look like, exactly? Well, in this case, it means that if the correct answer is a 3 the score is a little higher, or if the correct answer is a 7 the score is a little lower."
      ]
    },
    {
      "cell_type": "markdown",
      "metadata": {
        "id": "5sKTh2MX3HdJ"
      },
      "source": [
        "Create a new variable, called ``trgts``, which tells wheater an image is actually a 3 or not."
      ]
    },
    {
      "cell_type": "code",
      "metadata": {
        "id": "zHq8vSH-tmv4"
      },
      "source": [
        "trgts = tensor([1,0,1])  # target values represent a 3, 7 and 3\r\n",
        "preds = tensor([0.9, 0.4, 0.2]) "
      ],
      "execution_count": 367,
      "outputs": []
    },
    {
      "cell_type": "markdown",
      "metadata": {
        "id": "3WeCTs7p5b_3"
      },
      "source": [
        "First try at a loss function.\r\n",
        "\r\n",
        "This function will measure how distant each prediction is from 1 if it should be 1, and how distant it is from 0 if it should be 0, and then it will take the mean of all those distances."
      ]
    },
    {
      "cell_type": "code",
      "metadata": {
        "id": "--OJin4N5pCU"
      },
      "source": [
        "def mnist_loss(predictions, targets):\r\n",
        "    return torch.where(targets==1, 1-predictions, predictions).mean()"
      ],
      "execution_count": 368,
      "outputs": []
    },
    {
      "cell_type": "markdown",
      "metadata": {
        "id": "Vj8HXqcj6MdJ"
      },
      "source": [
        "Apply approach on our example:\r\n",
        "- if predictions are perfect, each number would be 0 --> loss = 0\r\n",
        "- it tells us, how far predictions are away from target."
      ]
    },
    {
      "cell_type": "code",
      "metadata": {
        "colab": {
          "base_uri": "https://localhost:8080/"
        },
        "id": "vK_Q-cTc5wae",
        "outputId": "f8a42340-9279-40c1-df38-45022cef8ec8"
      },
      "source": [
        "torch.where(trgts==1, 1-preds, preds)"
      ],
      "execution_count": 369,
      "outputs": [
        {
          "output_type": "execute_result",
          "data": {
            "text/plain": [
              "tensor([0.1000, 0.4000, 0.8000])"
            ]
          },
          "metadata": {
            "tags": []
          },
          "execution_count": 369
        }
      ]
    },
    {
      "cell_type": "markdown",
      "metadata": {
        "id": "j3JE1DS28SWE"
      },
      "source": [
        "Calculate loss on our example:"
      ]
    },
    {
      "cell_type": "code",
      "metadata": {
        "colab": {
          "base_uri": "https://localhost:8080/"
        },
        "id": "ZV3Q-EcR7tT4",
        "outputId": "c244585c-a141-4511-aea1-48be5071ef9a"
      },
      "source": [
        "mnist_loss(preds, trgts)"
      ],
      "execution_count": 370,
      "outputs": [
        {
          "output_type": "execute_result",
          "data": {
            "text/plain": [
              "tensor(0.4333)"
            ]
          },
          "metadata": {
            "tags": []
          },
          "execution_count": 370
        }
      ]
    },
    {
      "cell_type": "markdown",
      "metadata": {
        "id": "weAYrZTw9ksW"
      },
      "source": [
        "This function returns a lower number when predictions are more accurate, when accurate predictions are more confident (higher absolute values), and when inaccurate predictions are less confident. "
      ]
    },
    {
      "cell_type": "markdown",
      "metadata": {
        "id": "7_3dYn4J-YIF"
      },
      "source": [
        "## Sigmoid\r\n",
        "\r\n",
        "The sigmoid function always outputs a number between 0 and 1. \r\n",
        "\r\n",
        "PyTorch defines an accelerated version of this function:"
      ]
    },
    {
      "cell_type": "code",
      "metadata": {
        "id": "U25Sa6E68YM2",
        "colab": {
          "base_uri": "https://localhost:8080/",
          "height": 285
        },
        "outputId": "c55e81cf-19e5-4ecc-9b61-a891b19d8890"
      },
      "source": [
        "plot_function(torch.sigmoid, title='Sigmoid', min=-4, max=4)"
      ],
      "execution_count": 371,
      "outputs": [
        {
          "output_type": "display_data",
          "data": {
            "image/png": "[encoded data removed]",
            "text/plain": [
              "<Figure size 432x288 with 1 Axes>"
            ]
          },
          "metadata": {
            "tags": [],
            "needs_background": "light"
          }
        }
      ]
    },
    {
      "cell_type": "markdown",
      "metadata": {
        "id": "HWMHuV7-FzRN"
      },
      "source": [
        "However, we can define our own Sigmoid function as well:"
      ]
    },
    {
      "cell_type": "code",
      "metadata": {
        "id": "fqRA047OFY6_"
      },
      "source": [
        "def sigmoid(x): \r\n",
        "  return 1/(1+torch.exp(-x))"
      ],
      "execution_count": 372,
      "outputs": []
    },
    {
      "cell_type": "markdown",
      "metadata": {
        "id": "nIkklXGJH6_S"
      },
      "source": [
        "Let's update ``mnist_loss`` to first apply sigmoid to the inputs:"
      ]
    },
    {
      "cell_type": "code",
      "metadata": {
        "id": "DWmpnBHIF8sr"
      },
      "source": [
        "def mnist_loss(predictions, targets):\r\n",
        "    predictions = predictions.sigmoid() # this way we sample down our predictions between valuel of 0 and 1!\r\n",
        "    return torch.where(targets==1, 1-predictions, predictions).mean()"
      ],
      "execution_count": 373,
      "outputs": []
    },
    {
      "cell_type": "markdown",
      "metadata": {
        "id": "fldACBHtsga2"
      },
      "source": [
        "## SGD and Mini-Batches\r\n",
        "\r\n",
        "To take an optimization step we need to calculate the loss over one or more data items. \r\n",
        "\r\n",
        "- single item: fast calculation but inprecise and unstable gradient\r\n",
        "- whole dataset: more accurate and more stable but takes long time\r\n",
        "\r\n",
        "So instead we take a compromise between the two: we calculate the average loss for a few data items at a time. This is called a ``mini-batch``. The number of data items in the mini-batch is called the ``batch size``."
      ]
    },
    {
      "cell_type": "markdown",
      "metadata": {
        "id": "WGrhP1B2u_pR"
      },
      "source": [
        "Example:\r\n",
        "Shuffle data and create mini-batches:"
      ]
    },
    {
      "cell_type": "code",
      "metadata": {
        "colab": {
          "base_uri": "https://localhost:8080/"
        },
        "id": "WAXeobEZsqZu",
        "outputId": "d9cbf52e-bb49-471b-ca1d-783f5d6c6f2c"
      },
      "source": [
        "coll = range(15)\r\n",
        "dl = DataLoader(coll, batch_size=5, shuffle=True)\r\n",
        "list(dl)"
      ],
      "execution_count": 374,
      "outputs": [
        {
          "output_type": "execute_result",
          "data": {
            "text/plain": [
              "[tensor([ 0,  7,  4,  5, 11]),\n",
              " tensor([ 9,  3,  8, 14,  6]),\n",
              " tensor([12,  2,  1, 10, 13])]"
            ]
          },
          "metadata": {
            "tags": []
          },
          "execution_count": 374
        }
      ]
    },
    {
      "cell_type": "markdown",
      "metadata": {
        "id": "-RS6zorJ0YT8"
      },
      "source": [
        "A collection that contains tuples of independent and dependent variables is known in PyTorch as a ``Dataset``. "
      ]
    },
    {
      "cell_type": "code",
      "metadata": {
        "colab": {
          "base_uri": "https://localhost:8080/"
        },
        "id": "TrCerZAT0c_K",
        "outputId": "6e5fdaba-330b-4f40-800f-96934ba1cefe"
      },
      "source": [
        "ds = L(enumerate(string.ascii_lowercase))\r\n",
        "ds"
      ],
      "execution_count": 375,
      "outputs": [
        {
          "output_type": "execute_result",
          "data": {
            "text/plain": [
              "(#26) [(0, 'a'),(1, 'b'),(2, 'c'),(3, 'd'),(4, 'e'),(5, 'f'),(6, 'g'),(7, 'h'),(8, 'i'),(9, 'j')...]"
            ]
          },
          "metadata": {
            "tags": []
          },
          "execution_count": 375
        }
      ]
    },
    {
      "cell_type": "markdown",
      "metadata": {
        "id": "wg-h285g0nUl"
      },
      "source": [
        "Pass a ``Dataset`` to a ``DataLoader``:"
      ]
    },
    {
      "cell_type": "code",
      "metadata": {
        "colab": {
          "base_uri": "https://localhost:8080/"
        },
        "id": "tJDoAsIL0sGH",
        "outputId": "0edb4200-5a90-47a4-f9c5-39829f6d2fdc"
      },
      "source": [
        "dl = DataLoader(ds, batch_size=6, shuffle=True)\r\n",
        "list(dl)"
      ],
      "execution_count": 376,
      "outputs": [
        {
          "output_type": "execute_result",
          "data": {
            "text/plain": [
              "[(tensor([ 6, 14, 12, 15, 24, 11]), ('g', 'o', 'm', 'p', 'y', 'l')),\n",
              " (tensor([ 0, 16,  2, 18, 25, 21]), ('a', 'q', 'c', 's', 'z', 'v')),\n",
              " (tensor([ 8,  7, 19, 23,  1,  9]), ('i', 'h', 't', 'x', 'b', 'j')),\n",
              " (tensor([ 4, 13, 10,  5,  3, 17]), ('e', 'n', 'k', 'f', 'd', 'r')),\n",
              " (tensor([22, 20]), ('w', 'u'))]"
            ]
          },
          "metadata": {
            "tags": []
          },
          "execution_count": 376
        }
      ]
    },
    {
      "cell_type": "markdown",
      "metadata": {
        "id": "bIkpOckuvtgM"
      },
      "source": [
        "# Putting it all together"
      ]
    },
    {
      "cell_type": "code",
      "metadata": {
        "id": "3ApWPhK4vREM"
      },
      "source": [
        "# for x,y in dl: # for each elemtent in dataloader\r\n",
        "#   pred = model(x)\r\n",
        "#   loss = loss_func(pred, y)\r\n",
        "#   loss.backward() # calculate gradients\r\n",
        "#   parameters -= parameters.grad * lr  # update parameters based on gradient and learning rate"
      ],
      "execution_count": 377,
      "outputs": []
    },
    {
      "cell_type": "markdown",
      "metadata": {
        "id": "jRVsR-iX1SpQ"
      },
      "source": [
        "Re-initialize our parameters:\r\n",
        "\r\n",
        "As seen in definition of function ``init_params``, the function tells PyTorch that we want to track their gradients using ``requires_grad_()``, so that later we can get the gradients."
      ]
    },
    {
      "cell_type": "code",
      "metadata": {
        "id": "swQz_O9D0JAi"
      },
      "source": [
        "weights = init_params((28*28,1))\r\n",
        "bias = init_params(1)"
      ],
      "execution_count": 401,
      "outputs": []
    },
    {
      "cell_type": "markdown",
      "metadata": {
        "id": "wpx2gZoz2AJ-"
      },
      "source": [
        "A `` DataLoader`` can be created from a ``Dataset``"
      ]
    },
    {
      "cell_type": "code",
      "metadata": {
        "id": "_W03pGk_18Ao"
      },
      "source": [
        "dl = DataLoader(dset, batch_size=256)"
      ],
      "execution_count": 402,
      "outputs": []
    },
    {
      "cell_type": "code",
      "metadata": {
        "colab": {
          "base_uri": "https://localhost:8080/"
        },
        "id": "4rUDh4iT2iLZ",
        "outputId": "a0fde2ef-d7e0-4311-f3db-bac934235f8c"
      },
      "source": [
        "xb,yb = first(dl)\r\n",
        "xb.shape, yb.shape"
      ],
      "execution_count": 403,
      "outputs": [
        {
          "output_type": "execute_result",
          "data": {
            "text/plain": [
              "(torch.Size([256, 784]), torch.Size([256, 1]))"
            ]
          },
          "metadata": {
            "tags": []
          },
          "execution_count": 403
        }
      ]
    },
    {
      "cell_type": "markdown",
      "metadata": {
        "id": "0zIXqjjX3oop"
      },
      "source": [
        "We'll do the same for the validation set:"
      ]
    },
    {
      "cell_type": "code",
      "metadata": {
        "id": "vM0N3sZi2y6B"
      },
      "source": [
        "valid_dl = DataLoader(valid_dset, batch_size=256)"
      ],
      "execution_count": 404,
      "outputs": []
    },
    {
      "cell_type": "markdown",
      "metadata": {
        "id": "njn-Mbke9Oud"
      },
      "source": [
        "Lets create a mini-batch of size 4 for testing:"
      ]
    },
    {
      "cell_type": "code",
      "metadata": {
        "colab": {
          "base_uri": "https://localhost:8080/"
        },
        "id": "Rpz5Hm3h9UnL",
        "outputId": "10edec81-a77d-4815-ea29-7c6ef6271f3d"
      },
      "source": [
        "batch = train_x[:4]\r\n",
        "batch.shape"
      ],
      "execution_count": 405,
      "outputs": [
        {
          "output_type": "execute_result",
          "data": {
            "text/plain": [
              "torch.Size([4, 784])"
            ]
          },
          "metadata": {
            "tags": []
          },
          "execution_count": 405
        }
      ]
    },
    {
      "cell_type": "code",
      "metadata": {
        "colab": {
          "base_uri": "https://localhost:8080/"
        },
        "id": "vync0Twj_rMz",
        "outputId": "c8f0a203-5554-405f-ce0d-3146198ff25c"
      },
      "source": [
        "preds = linear1(batch)\r\n",
        "preds"
      ],
      "execution_count": 406,
      "outputs": [
        {
          "output_type": "execute_result",
          "data": {
            "text/plain": [
              "tensor([[ 0.2984],\n",
              "        [ 2.1373],\n",
              "        [ 5.0392],\n",
              "        [-4.1724]], grad_fn=<AddBackward0>)"
            ]
          },
          "metadata": {
            "tags": []
          },
          "execution_count": 406
        }
      ]
    },
    {
      "cell_type": "code",
      "metadata": {
        "colab": {
          "base_uri": "https://localhost:8080/"
        },
        "id": "lUgS7TqM_zmo",
        "outputId": "3ef45294-2e5a-42c5-dcf4-3b1d63d7a04c"
      },
      "source": [
        "loss = mnist_loss(preds, train_y[:4])\r\n",
        "loss"
      ],
      "execution_count": 407,
      "outputs": [
        {
          "output_type": "execute_result",
          "data": {
            "text/plain": [
              "tensor(0.3807, grad_fn=<MeanBackward0>)"
            ]
          },
          "metadata": {
            "tags": []
          },
          "execution_count": 407
        }
      ]
    },
    {
      "cell_type": "markdown",
      "metadata": {
        "id": "YZagl2Sue9Pz"
      },
      "source": [
        "Calculate gradients:"
      ]
    },
    {
      "cell_type": "code",
      "metadata": {
        "id": "ycXljHcF__2q"
      },
      "source": [
        "loss.backward() # calculate gradients"
      ],
      "execution_count": 408,
      "outputs": []
    },
    {
      "cell_type": "code",
      "metadata": {
        "colab": {
          "base_uri": "https://localhost:8080/"
        },
        "id": "qycikFzrAFJV",
        "outputId": "bf442e83-e45f-45a5-bec2-9342661abd29"
      },
      "source": [
        "weights.grad.mean() # get mean of gradients of this batch"
      ],
      "execution_count": 409,
      "outputs": [
        {
          "output_type": "execute_result",
          "data": {
            "text/plain": [
              "tensor(-0.0130)"
            ]
          },
          "metadata": {
            "tags": []
          },
          "execution_count": 409
        }
      ]
    },
    {
      "cell_type": "code",
      "metadata": {
        "colab": {
          "base_uri": "https://localhost:8080/"
        },
        "id": "5O0bxuEvCx5I",
        "outputId": "397ef32e-5598-4257-a44f-eef2ce9bb0c7"
      },
      "source": [
        "bias.grad # get gradient for bias"
      ],
      "execution_count": 410,
      "outputs": [
        {
          "output_type": "execute_result",
          "data": {
            "text/plain": [
              "tensor([-0.0901])"
            ]
          },
          "metadata": {
            "tags": []
          },
          "execution_count": 410
        }
      ]
    },
    {
      "cell_type": "markdown",
      "metadata": {
        "id": "Q7ozDCvcCcZ7"
      },
      "source": [
        "Put that all in a function:"
      ]
    },
    {
      "cell_type": "code",
      "metadata": {
        "id": "GiiqH_E43t25"
      },
      "source": [
        "def calc_grad(xb, yb, model):\r\n",
        "  preds = model(xb)\r\n",
        "  loss = mnist_loss(preds, yb)\r\n",
        "  loss.backward() # calculate gradients"
      ],
      "execution_count": 411,
      "outputs": []
    },
    {
      "cell_type": "markdown",
      "metadata": {
        "id": "TaSnsmnc9lRB"
      },
      "source": [
        "Test it:"
      ]
    },
    {
      "cell_type": "code",
      "metadata": {
        "id": "x8GMVSLc9dv5"
      },
      "source": [
        "calc_grad(batch, train_y[:4], linear1)"
      ],
      "execution_count": 412,
      "outputs": []
    },
    {
      "cell_type": "code",
      "metadata": {
        "colab": {
          "base_uri": "https://localhost:8080/"
        },
        "id": "HJvc0X5l90kB",
        "outputId": "ddf77725-ec23-4cef-bf5c-79db5047ef12"
      },
      "source": [
        "weights.grad.mean()  # get mean of gradients of this batch"
      ],
      "execution_count": 413,
      "outputs": [
        {
          "output_type": "execute_result",
          "data": {
            "text/plain": [
              "tensor(-0.0260)"
            ]
          },
          "metadata": {
            "tags": []
          },
          "execution_count": 413
        }
      ]
    },
    {
      "cell_type": "code",
      "metadata": {
        "colab": {
          "base_uri": "https://localhost:8080/"
        },
        "id": "ZFaQOEXSB9Q7",
        "outputId": "e598a7bb-a3dc-43e7-dbf3-59e8c3898980"
      },
      "source": [
        "bias.grad # get gradient for bias"
      ],
      "execution_count": 414,
      "outputs": [
        {
          "output_type": "execute_result",
          "data": {
            "text/plain": [
              "tensor([-0.1801])"
            ]
          },
          "metadata": {
            "tags": []
          },
          "execution_count": 414
        }
      ]
    },
    {
      "cell_type": "markdown",
      "metadata": {
        "id": "GqRaZeL1DY-M"
      },
      "source": [
        "Basic training loop for one epoch:"
      ]
    },
    {
      "cell_type": "code",
      "metadata": {
        "id": "aPPKMq2tDTOu"
      },
      "source": [
        "def train_epoch(model, lr, params):\r\n",
        "  for xb, yb in dl:\r\n",
        "    calc_grad(xb, yb, model)\r\n",
        "    for p in params:\r\n",
        "      p.data -= p.grad*lr\r\n",
        "      p.grad.zero_() # set all elements of tensor p back to zero (p. 172)"
      ],
      "execution_count": 415,
      "outputs": []
    },
    {
      "cell_type": "markdown",
      "metadata": {
        "id": "dioZKQ3QHCNI"
      },
      "source": [
        "Calculate our validation accuracy:"
      ]
    },
    {
      "cell_type": "code",
      "metadata": {
        "id": "rAK0bqRZEf4d"
      },
      "source": [
        "def batch_accuracy(xb, yb):\r\n",
        "  preds = xb.sigmoid()\r\n",
        "  correct = (preds>0.5) == yb\r\n",
        "  return correct.float().mean()"
      ],
      "execution_count": 416,
      "outputs": []
    },
    {
      "cell_type": "markdown",
      "metadata": {
        "id": "vliuVuE5HeaR"
      },
      "source": [
        "Apply function:"
      ]
    },
    {
      "cell_type": "code",
      "metadata": {
        "colab": {
          "base_uri": "https://localhost:8080/"
        },
        "id": "p0Q7pdTDFwWT",
        "outputId": "e98f3804-9fce-4c7b-b583-d8551e4e68eb"
      },
      "source": [
        "batch_accuracy(linear1(batch), train_y[:4])"
      ],
      "execution_count": 417,
      "outputs": [
        {
          "output_type": "execute_result",
          "data": {
            "text/plain": [
              "tensor(0.7500)"
            ]
          },
          "metadata": {
            "tags": []
          },
          "execution_count": 417
        }
      ]
    },
    {
      "cell_type": "markdown",
      "metadata": {
        "id": "ysiAOHduICZp"
      },
      "source": [
        "Put all batches together:"
      ]
    },
    {
      "cell_type": "code",
      "metadata": {
        "id": "CTcxH-BcHsgf"
      },
      "source": [
        "def validate_epoch(model):\r\n",
        "    accs = [batch_accuracy(model(xb), yb) for xb,yb in valid_dl]\r\n",
        "    return round(torch.stack(accs).mean().item(), 4)"
      ],
      "execution_count": 418,
      "outputs": []
    },
    {
      "cell_type": "code",
      "metadata": {
        "colab": {
          "base_uri": "https://localhost:8080/"
        },
        "id": "WRX0Ec_vII6R",
        "outputId": "9dcc5629-2bb6-465c-cfc2-6390257488c4"
      },
      "source": [
        "validate_epoch(linear1)"
      ],
      "execution_count": 419,
      "outputs": [
        {
          "output_type": "execute_result",
          "data": {
            "text/plain": [
              "0.3951"
            ]
          },
          "metadata": {
            "tags": []
          },
          "execution_count": 419
        }
      ]
    },
    {
      "cell_type": "markdown",
      "metadata": {
        "id": "L1_86SLBdM8m"
      },
      "source": [
        "Let's train for one epoch, and see if the accuracy improves"
      ]
    },
    {
      "cell_type": "code",
      "metadata": {
        "id": "c3LlpjxqIMr3"
      },
      "source": [
        "lr = 1.\r\n",
        "params = weights,bias"
      ],
      "execution_count": 420,
      "outputs": []
    },
    {
      "cell_type": "code",
      "metadata": {
        "id": "Tqh4tzPndVvU"
      },
      "source": [
        "train_epoch(linear1, lr, params)"
      ],
      "execution_count": 421,
      "outputs": []
    },
    {
      "cell_type": "code",
      "metadata": {
        "colab": {
          "base_uri": "https://localhost:8080/"
        },
        "id": "VTZDMbZ4dflR",
        "outputId": "fdda41d6-fc5f-4047-f041-330c839faf9d"
      },
      "source": [
        "validate_epoch(linear1)"
      ],
      "execution_count": 422,
      "outputs": [
        {
          "output_type": "execute_result",
          "data": {
            "text/plain": [
              "0.6607"
            ]
          },
          "metadata": {
            "tags": []
          },
          "execution_count": 422
        }
      ]
    },
    {
      "cell_type": "markdown",
      "metadata": {
        "id": "F2Q9LFNfdq6B"
      },
      "source": [
        "Then do a few more:\r\n"
      ]
    },
    {
      "cell_type": "code",
      "metadata": {
        "colab": {
          "base_uri": "https://localhost:8080/"
        },
        "id": "9s93XIyZdjo7",
        "outputId": "333983b9-5bcb-4ba0-b6c6-85636980003c"
      },
      "source": [
        "for i in range(20):\r\n",
        "  train_epoch(linear1, lr, params)\r\n",
        "  print(validate_epoch(linear1), end=' ')"
      ],
      "execution_count": 423,
      "outputs": [
        {
          "output_type": "stream",
          "text": [
            "0.8079 0.9056 0.9305 0.9441 0.952 0.9569 0.9598 0.9657 0.9671 0.9701 0.972 0.9725 0.9725 0.973 0.9745 0.9754 0.9754 0.9759 0.9774 0.9779 "
          ],
          "name": "stdout"
        }
      ]
    },
    {
      "cell_type": "markdown",
      "metadata": {
        "id": "Yx8h43IxkHDq"
      },
      "source": [
        "## Creating an Optimizer"
      ]
    },
    {
      "cell_type": "code",
      "metadata": {
        "id": "ZRpi30-9eCCd"
      },
      "source": [
        ""
      ],
      "execution_count": 423,
      "outputs": []
    }
  ]
}